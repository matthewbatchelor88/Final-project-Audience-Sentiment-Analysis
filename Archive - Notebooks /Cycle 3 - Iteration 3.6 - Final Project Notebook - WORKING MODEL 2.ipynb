{
 "cells": [
  {
   "cell_type": "markdown",
   "id": "0d58ce08-8fc4-4c43-9033-a9f61206ac26",
   "metadata": {
    "tags": []
   },
   "source": [
    "## Cycle 3 Iteration 3.6 description "
   ]
  },
  {
   "cell_type": "markdown",
   "id": "03998420-c155-4629-aac6-a986e6c0444c",
   "metadata": {},
   "source": [
    "Running working model with test data (tripadvisor_hotels_csv)"
   ]
  },
  {
   "cell_type": "markdown",
   "id": "e7e23909-fc2e-453c-acc7-82df002ecf18",
   "metadata": {},
   "source": [
    "## Import libraries "
   ]
  },
  {
   "cell_type": "code",
   "execution_count": 1,
   "id": "758fda44-4274-464d-9e06-4829a86c9af6",
   "metadata": {
    "tags": []
   },
   "outputs": [],
   "source": [
    "import pandas as pd"
   ]
  },
  {
   "cell_type": "markdown",
   "id": "b1b60e59-4166-4fbd-a76c-e59a758d5404",
   "metadata": {},
   "source": [
    "## Import CSV"
   ]
  },
  {
   "cell_type": "code",
   "execution_count": 2,
   "id": "0d3f9432-c376-4be7-b68e-e15bb1df6a80",
   "metadata": {
    "tags": []
   },
   "outputs": [
    {
     "name": "stdout",
     "output_type": "stream",
     "text": [
      "                 Id                           Title  Price         User_id  \\\n",
      "0        1882931173  Its Only Art If Its Well Hung!    NaN   AVCGYZL8FQQTD   \n",
      "1        0826414346        Dr. Seuss: American Icon    NaN  A30TK6U7DNS82R   \n",
      "2        0826414346        Dr. Seuss: American Icon    NaN  A3UH4UZ4RSVO82   \n",
      "3        0826414346        Dr. Seuss: American Icon    NaN  A2MVUWT453QH61   \n",
      "4        0826414346        Dr. Seuss: American Icon    NaN  A22X4XUPKF66MR   \n",
      "...             ...                             ...    ...             ...   \n",
      "2999993  B000NSLVCU             The Idea of History    NaN             NaN   \n",
      "2999994  B000NSLVCU             The Idea of History    NaN  A1SMUB9ASL5L9Y   \n",
      "2999995  B000NSLVCU             The Idea of History    NaN  A2AQMEKZKK5EE4   \n",
      "2999996  B000NSLVCU             The Idea of History    NaN  A18SQGYBKS852K   \n",
      "2999997  B000NSLVCU             The Idea of History    NaN             NaN   \n",
      "\n",
      "                                profileName review/helpfulness  review/score  \\\n",
      "0                     Jim of Oz \"jim-of-oz\"                7/7           4.0   \n",
      "1                             Kevin Killian              10/10           5.0   \n",
      "2                              John Granger              10/11           5.0   \n",
      "3        Roy E. Perry \"amateur philosopher\"                7/7           4.0   \n",
      "4           D. H. Richards \"ninthwavestore\"                3/3           4.0   \n",
      "...                                     ...                ...           ...   \n",
      "2999993                                 NaN              14/19           4.0   \n",
      "2999994                             jafrank                1/1           4.0   \n",
      "2999995           L. L. Poulos \"Muslim Mom\"                0/0           4.0   \n",
      "2999996       Julia A. Klein \"knitting rat\"               1/11           5.0   \n",
      "2999997                                 NaN               7/49           1.0   \n",
      "\n",
      "         review/time                                     review/summary  \\\n",
      "0          940636800             Nice collection of Julie Strain images   \n",
      "1         1095724800                                  Really Enjoyed It   \n",
      "2         1078790400    Essential for every personal and Public Library   \n",
      "3         1090713600    Phlip Nel gives silly Seuss a serious treatment   \n",
      "4         1107993600                             Good academic overview   \n",
      "...              ...                                                ...   \n",
      "2999993    937612800                                          Difficult   \n",
      "2999994   1331683200      Quite good and ahead of its time occasionally   \n",
      "2999995   1180224000  Easier reads of those not well versed in histo...   \n",
      "2999996   1163030400   Yes, it is cheaper than the University Bookstore   \n",
      "2999997    905385600  Collingwood's ideas sink in a quagmire or verb...   \n",
      "\n",
      "                                               review/text  \n",
      "0        This is only for Julie Strain fans. It's a col...  \n",
      "1        I don't care much for Dr. Seuss but after read...  \n",
      "2        If people become the books they read and if \"t...  \n",
      "3        Theodore Seuss Geisel (1904-1991), aka &quot;D...  \n",
      "4        Philip Nel - Dr. Seuss: American IconThis is b...  \n",
      "...                                                    ...  \n",
      "2999993  This is an extremely difficult book to digest,...  \n",
      "2999994  This is pretty interesting. Collingwood seems ...  \n",
      "2999995  This is a good book but very esoteric. \"What i...  \n",
      "2999996  My daughter, a freshman at Indiana University,...  \n",
      "2999997  The guy has a few good ideas but, reader, bewa...  \n",
      "\n",
      "[2999998 rows x 10 columns]\n"
     ]
    }
   ],
   "source": [
    "# Specify the row number to skip\n",
    "rows_to_skip = [381729,1896392] # Had to to exclude these rows as they caused issues with importing the CSV\n",
    "\n",
    "# Read the CSV file, skipping the specified rows\n",
    "df = pd.read_csv('books_rating.csv', skiprows=rows_to_skip)\n",
    "\n",
    "# Display the DataFrame\n",
    "print(df)\n"
   ]
  },
  {
   "cell_type": "code",
   "execution_count": 3,
   "id": "1638ed24-98da-406d-a77b-655e0215a725",
   "metadata": {
    "tags": []
   },
   "outputs": [
    {
     "name": "stdout",
     "output_type": "stream",
     "text": [
      "<class 'pandas.core.frame.DataFrame'>\n",
      "RangeIndex: 2999998 entries, 0 to 2999997\n",
      "Data columns (total 10 columns):\n",
      " #   Column              Dtype  \n",
      "---  ------              -----  \n",
      " 0   Id                  object \n",
      " 1   Title               object \n",
      " 2   Price               float64\n",
      " 3   User_id             object \n",
      " 4   profileName         object \n",
      " 5   review/helpfulness  object \n",
      " 6   review/score        float64\n",
      " 7   review/time         int64  \n",
      " 8   review/summary      object \n",
      " 9   review/text         object \n",
      "dtypes: float64(2), int64(1), object(7)\n",
      "memory usage: 228.9+ MB\n"
     ]
    }
   ],
   "source": [
    "df.info()"
   ]
  },
  {
   "cell_type": "code",
   "execution_count": 4,
   "id": "8f13c071-fc94-4ccd-8fd0-fa1aad1cc6f3",
   "metadata": {
    "tags": []
   },
   "outputs": [],
   "source": [
    "# Add a new column for the length of review text\n",
    "df[\"length_of_review_text\"] = df[\"review/text\"].apply(lambda x: len(x) if isinstance(x, str) else 0)"
   ]
  },
  {
   "cell_type": "code",
   "execution_count": 5,
   "id": "d4ff6234-1e46-49f8-a128-6f73a506ebd1",
   "metadata": {
    "tags": []
   },
   "outputs": [
    {
     "data": {
      "text/plain": [
       "822.6316940877961"
      ]
     },
     "execution_count": 5,
     "metadata": {},
     "output_type": "execute_result"
    }
   ],
   "source": [
    "df[\"length_of_review_text\"].mean()"
   ]
  },
  {
   "cell_type": "markdown",
   "id": "1ec1ee44-f60e-4c94-87f5-ca6ada25aa69",
   "metadata": {
    "tags": []
   },
   "source": [
    "With a mean average of 823 characters per review, this data is preferable to the shorter Tweet data in previous iterations. "
   ]
  },
  {
   "cell_type": "markdown",
   "id": "0e778d41-e951-400a-95ee-825c9c452cec",
   "metadata": {
    "tags": []
   },
   "source": [
    "## Preprocessing "
   ]
  },
  {
   "cell_type": "code",
   "execution_count": 6,
   "id": "b649a45f-fccb-4220-a139-30ba65de4766",
   "metadata": {
    "tags": []
   },
   "outputs": [
    {
     "data": {
      "text/plain": [
       "array([4., 5., 1., 3., 2.])"
      ]
     },
     "execution_count": 6,
     "metadata": {},
     "output_type": "execute_result"
    }
   ],
   "source": [
    "df['review/score'].unique()"
   ]
  },
  {
   "cell_type": "code",
   "execution_count": 7,
   "id": "f6bd7acb-14bb-4b2e-a13c-9ff7c26b0423",
   "metadata": {
    "tags": []
   },
   "outputs": [
    {
     "name": "stderr",
     "output_type": "stream",
     "text": [
      "/var/folders/cr/qlkb4cqn3vn0pb1jrc5s04800000gn/T/ipykernel_6463/2779627632.py:4: MatplotlibDeprecationWarning: The seaborn styles shipped by Matplotlib are deprecated since 3.6, as they no longer correspond to the styles shipped by seaborn. However, they will remain available as 'seaborn-v0_8-<style>'. Alternatively, directly use the seaborn API instead.\n",
      "  plt.style.use('seaborn-darkgrid')\n"
     ]
    },
    {
     "data": {
      "image/png": "[encoded data removed]",
      "text/plain": [
       "<Figure size 640x480 with 1 Axes>"
      ]
     },
     "metadata": {},
     "output_type": "display_data"
    }
   ],
   "source": [
    "import matplotlib.pyplot as plt\n",
    "\n",
    "# Set the style of the plot\n",
    "plt.style.use('seaborn-darkgrid')\n",
    "\n",
    "# Create the histogram\n",
    "plt.hist(df['review/score'], bins=10, color='skyblue', edgecolor='black', alpha=0.7)\n",
    "\n",
    "# Add labels and title\n",
    "plt.xlabel('Sentiment Scores', fontsize=14)\n",
    "plt.ylabel('Frequency', fontsize=14)\n",
    "plt.title('Distribution of Sentiment Scores', fontsize=16)\n",
    "\n",
    "# Add grid and adjust tick parameters\n",
    "plt.grid(axis='y', linestyle='--', alpha=0.7)\n",
    "plt.xticks(rotation=45, fontsize=12)  # Rotate x-axis labels by 45 degrees\n",
    "plt.yticks(fontsize=12)\n",
    "\n",
    "# Show the plot\n",
    "plt.tight_layout()  # Adjust layout to prevent clipping of labels\n",
    "plt.show()"
   ]
  },
  {
   "cell_type": "code",
   "execution_count": 8,
   "id": "838080d7-bcc3-440a-838a-66dc55371369",
   "metadata": {
    "tags": []
   },
   "outputs": [
    {
     "data": {
      "text/plain": [
       "review/score\n",
       "5.0    1807342\n",
       "4.0     585615\n",
       "3.0     254295\n",
       "1.0     201688\n",
       "2.0     151058\n",
       "Name: count, dtype: int64"
      ]
     },
     "execution_count": 8,
     "metadata": {},
     "output_type": "execute_result"
    }
   ],
   "source": [
    "df['review/score'].value_counts()"
   ]
  },
  {
   "cell_type": "markdown",
   "id": "1243652d-d1bb-4145-939f-6c2e1c8bf865",
   "metadata": {},
   "source": [
    "Author note: This data is imbalanced. "
   ]
  },
  {
   "cell_type": "markdown",
   "id": "f17fbe4c-67d3-4098-94a7-3548d519b9ab",
   "metadata": {
    "tags": []
   },
   "source": [
    "Author note: In order to guide the workload of a Customer Success Manager, the following grouping would make sense: \n",
    "\n",
    "Positive Sentiments:\n",
    "\n",
    "Score >= 4\n",
    "\n",
    "Neutral Sentiments:\n",
    "\n",
    "Score = 3 \n",
    "\n",
    "Negative Sentiments:\n",
    "\n",
    "Score <= 2"
   ]
  },
  {
   "cell_type": "code",
   "execution_count": 9,
   "id": "014729ff-e949-41cb-b9d8-99cae3d957ac",
   "metadata": {
    "tags": []
   },
   "outputs": [
    {
     "name": "stdout",
     "output_type": "stream",
     "text": [
      "                 Id                           Title  Price         User_id  \\\n",
      "0        1882931173  Its Only Art If Its Well Hung!    NaN   AVCGYZL8FQQTD   \n",
      "1        0826414346        Dr. Seuss: American Icon    NaN  A30TK6U7DNS82R   \n",
      "2        0826414346        Dr. Seuss: American Icon    NaN  A3UH4UZ4RSVO82   \n",
      "3        0826414346        Dr. Seuss: American Icon    NaN  A2MVUWT453QH61   \n",
      "4        0826414346        Dr. Seuss: American Icon    NaN  A22X4XUPKF66MR   \n",
      "...             ...                             ...    ...             ...   \n",
      "2999993  B000NSLVCU             The Idea of History    NaN             NaN   \n",
      "2999994  B000NSLVCU             The Idea of History    NaN  A1SMUB9ASL5L9Y   \n",
      "2999995  B000NSLVCU             The Idea of History    NaN  A2AQMEKZKK5EE4   \n",
      "2999996  B000NSLVCU             The Idea of History    NaN  A18SQGYBKS852K   \n",
      "2999997  B000NSLVCU             The Idea of History    NaN             NaN   \n",
      "\n",
      "                                profileName review/helpfulness  review/score  \\\n",
      "0                     Jim of Oz \"jim-of-oz\"                7/7           4.0   \n",
      "1                             Kevin Killian              10/10           5.0   \n",
      "2                              John Granger              10/11           5.0   \n",
      "3        Roy E. Perry \"amateur philosopher\"                7/7           4.0   \n",
      "4           D. H. Richards \"ninthwavestore\"                3/3           4.0   \n",
      "...                                     ...                ...           ...   \n",
      "2999993                                 NaN              14/19           4.0   \n",
      "2999994                             jafrank                1/1           4.0   \n",
      "2999995           L. L. Poulos \"Muslim Mom\"                0/0           4.0   \n",
      "2999996       Julia A. Klein \"knitting rat\"               1/11           5.0   \n",
      "2999997                                 NaN               7/49           1.0   \n",
      "\n",
      "         review/time                                     review/summary  \\\n",
      "0          940636800             Nice collection of Julie Strain images   \n",
      "1         1095724800                                  Really Enjoyed It   \n",
      "2         1078790400    Essential for every personal and Public Library   \n",
      "3         1090713600    Phlip Nel gives silly Seuss a serious treatment   \n",
      "4         1107993600                             Good academic overview   \n",
      "...              ...                                                ...   \n",
      "2999993    937612800                                          Difficult   \n",
      "2999994   1331683200      Quite good and ahead of its time occasionally   \n",
      "2999995   1180224000  Easier reads of those not well versed in histo...   \n",
      "2999996   1163030400   Yes, it is cheaper than the University Bookstore   \n",
      "2999997    905385600  Collingwood's ideas sink in a quagmire or verb...   \n",
      "\n",
      "                                               review/text  \\\n",
      "0        This is only for Julie Strain fans. It's a col...   \n",
      "1        I don't care much for Dr. Seuss but after read...   \n",
      "2        If people become the books they read and if \"t...   \n",
      "3        Theodore Seuss Geisel (1904-1991), aka &quot;D...   \n",
      "4        Philip Nel - Dr. Seuss: American IconThis is b...   \n",
      "...                                                    ...   \n",
      "2999993  This is an extremely difficult book to digest,...   \n",
      "2999994  This is pretty interesting. Collingwood seems ...   \n",
      "2999995  This is a good book but very esoteric. \"What i...   \n",
      "2999996  My daughter, a freshman at Indiana University,...   \n",
      "2999997  The guy has a few good ideas but, reader, bewa...   \n",
      "\n",
      "         length_of_review_text sentiment_subgroup  \n",
      "0                          457           Positive  \n",
      "1                         1423           Positive  \n",
      "2                         1752           Positive  \n",
      "3                         3662           Positive  \n",
      "4                         1542           Positive  \n",
      "...                        ...                ...  \n",
      "2999993                    554           Positive  \n",
      "2999994                    597           Positive  \n",
      "2999995                    161           Positive  \n",
      "2999996                    258           Positive  \n",
      "2999997                    316           Negative  \n",
      "\n",
      "[2999998 rows x 12 columns]\n"
     ]
    }
   ],
   "source": [
    "# Define a function to map sentiments to sub-groups\n",
    "def map_review_score_to_subgroup(review_score):\n",
    "    if review_score <= 2:\n",
    "        return 'Negative'\n",
    "    elif review_score == 3:\n",
    "        return 'Neutral'\n",
    "    else:\n",
    "        return 'Positive'\n",
    "\n",
    "# Apply the function to create a new column for sub-groups\n",
    "df['sentiment_subgroup'] = df['review/score'].apply(map_review_score_to_subgroup)\n",
    "\n",
    "# Display the DataFrame\n",
    "print(df)"
   ]
  },
  {
   "cell_type": "code",
   "execution_count": 10,
   "id": "64d952a7-9c31-4709-ae59-821a4e646511",
   "metadata": {
    "tags": []
   },
   "outputs": [
    {
     "data": {
      "text/plain": [
       "sentiment_subgroup\n",
       "Positive    2392957\n",
       "Negative     352746\n",
       "Neutral      254295\n",
       "Name: count, dtype: int64"
      ]
     },
     "execution_count": 10,
     "metadata": {},
     "output_type": "execute_result"
    }
   ],
   "source": [
    "df['sentiment_subgroup'].value_counts()"
   ]
  },
  {
   "cell_type": "code",
   "execution_count": 11,
   "id": "9893c36b-a7c3-46a6-918d-fb67a7ae663d",
   "metadata": {
    "tags": []
   },
   "outputs": [
    {
     "name": "stderr",
     "output_type": "stream",
     "text": [
      "/var/folders/cr/qlkb4cqn3vn0pb1jrc5s04800000gn/T/ipykernel_6463/2723297244.py:4: MatplotlibDeprecationWarning: The seaborn styles shipped by Matplotlib are deprecated since 3.6, as they no longer correspond to the styles shipped by seaborn. However, they will remain available as 'seaborn-v0_8-<style>'. Alternatively, directly use the seaborn API instead.\n",
      "  plt.style.use('seaborn-darkgrid')\n"
     ]
    },
    {
     "data": {
      "image/png": "[encoded data removed]",
      "text/plain": [
       "<Figure size 640x480 with 1 Axes>"
      ]
     },
     "metadata": {},
     "output_type": "display_data"
    }
   ],
   "source": [
    "import matplotlib.pyplot as plt\n",
    "\n",
    "# Set the style of the plot\n",
    "plt.style.use('seaborn-darkgrid')\n",
    "\n",
    "# Create the histogram\n",
    "plt.hist(df['sentiment_subgroup'], bins=10, color='skyblue', edgecolor='black', alpha=0.7)\n",
    "\n",
    "# Add labels and title\n",
    "plt.xlabel('Sentiment Scores', fontsize=14)\n",
    "plt.ylabel('Frequency', fontsize=14)\n",
    "plt.title('Distribution of Sentiment Scores', fontsize=16)\n",
    "\n",
    "# Add grid and adjust tick parameters\n",
    "plt.grid(axis='y', linestyle='--', alpha=0.7)\n",
    "plt.xticks(rotation=45, fontsize=12)  # Rotate x-axis labels by 45 degrees\n",
    "plt.yticks(fontsize=12)\n",
    "\n",
    "# Show the plot\n",
    "plt.tight_layout()  # Adjust layout to prevent clipping of labels\n",
    "plt.show()"
   ]
  },
  {
   "cell_type": "markdown",
   "id": "2369b7e1-84f3-4a33-9e3a-c8167038ab0c",
   "metadata": {},
   "source": [
    "### Delete non-relevant columns  "
   ]
  },
  {
   "cell_type": "code",
   "execution_count": 12,
   "id": "acb090f7-8096-4a1f-9525-68350f71d65c",
   "metadata": {
    "tags": []
   },
   "outputs": [
    {
     "name": "stdout",
     "output_type": "stream",
     "text": [
      "                                               review/text sentiment_subgroup\n",
      "0        This is only for Julie Strain fans. It's a col...           Positive\n",
      "1        I don't care much for Dr. Seuss but after read...           Positive\n",
      "2        If people become the books they read and if \"t...           Positive\n",
      "3        Theodore Seuss Geisel (1904-1991), aka &quot;D...           Positive\n",
      "4        Philip Nel - Dr. Seuss: American IconThis is b...           Positive\n",
      "...                                                    ...                ...\n",
      "2999993  This is an extremely difficult book to digest,...           Positive\n",
      "2999994  This is pretty interesting. Collingwood seems ...           Positive\n",
      "2999995  This is a good book but very esoteric. \"What i...           Positive\n",
      "2999996  My daughter, a freshman at Indiana University,...           Positive\n",
      "2999997  The guy has a few good ideas but, reader, bewa...           Negative\n",
      "\n",
      "[2999990 rows x 2 columns]\n"
     ]
    }
   ],
   "source": [
    "# Keep only the desired columns\n",
    "df = df[['review/text', 'sentiment_subgroup']]\n",
    "\n",
    "# Drop rows with any missing values in the remaining columns\n",
    "df.dropna(inplace=True)\n",
    "\n",
    "# Display the DataFrame\n",
    "print(df)"
   ]
  },
  {
   "cell_type": "markdown",
   "id": "5d6f120a-8552-4d3d-8bb2-ae740a5d4dda",
   "metadata": {},
   "source": [
    "### Delete null values "
   ]
  },
  {
   "cell_type": "code",
   "execution_count": 13,
   "id": "ca4d04cc-fd23-49cd-8c49-642a66461d62",
   "metadata": {
    "tags": []
   },
   "outputs": [
    {
     "name": "stdout",
     "output_type": "stream",
     "text": [
      "Number of dropped rows: 0\n"
     ]
    }
   ],
   "source": [
    "# Count null values in 'review/text' column before dropping\n",
    "null_count_before = df['review/text'].isnull().sum()\n",
    "\n",
    "# Drop rows with null values in 'review/text' column\n",
    "df.dropna(subset=['review/text'], inplace=True)\n",
    "\n",
    "# Count null values in 'review/text' column after dropping\n",
    "null_count_after = df['review/text'].isnull().sum()\n",
    "\n",
    "# Calculate the count of dropped rows\n",
    "dropped_count = null_count_before - null_count_after\n",
    "\n",
    "# Print the count of dropped rows\n",
    "print(\"Number of dropped rows:\", dropped_count)"
   ]
  },
  {
   "cell_type": "markdown",
   "id": "e856ef4e-87c2-40d3-a0ab-307c981e06e1",
   "metadata": {},
   "source": [
    "### Reduce the size of dataframe in order to improve speed "
   ]
  },
  {
   "cell_type": "code",
   "execution_count": 14,
   "id": "283bb6d8-1bc9-4821-8ec0-4c195c300de6",
   "metadata": {
    "tags": []
   },
   "outputs": [
    {
     "name": "stdout",
     "output_type": "stream",
     "text": [
      "                                             review/text sentiment_subgroup\n",
      "0      This is only for Julie Strain fans. It's a col...           Positive\n",
      "1      I don't care much for Dr. Seuss but after read...           Positive\n",
      "2      If people become the books they read and if \"t...           Positive\n",
      "3      Theodore Seuss Geisel (1904-1991), aka &quot;D...           Positive\n",
      "4      Philip Nel - Dr. Seuss: American IconThis is b...           Positive\n",
      "...                                                  ...                ...\n",
      "39995  This book has helped me to understand the diff...           Positive\n",
      "39996  With \"Town Bronze,\" Kate Huntington (again) sh...           Positive\n",
      "39997  There was only one review on the Amazon system...           Positive\n",
      "39998  Description from the book back cover:AN INCONV...           Positive\n",
      "39999  In contrast to the towering arrogance of many ...           Positive\n",
      "\n",
      "[40000 rows x 2 columns]\n"
     ]
    }
   ],
   "source": [
    "# Create a new DataFrame containing the first 40000 rows of df\n",
    "df = df.head(40000)\n",
    "\n",
    "# Display the new DataFrame\n",
    "print(df)"
   ]
  },
  {
   "cell_type": "code",
   "execution_count": 15,
   "id": "c0eda6f3-abc1-4d64-932f-f4918ca06c34",
   "metadata": {
    "tags": []
   },
   "outputs": [
    {
     "data": {
      "text/plain": [
       "sentiment_subgroup\n",
       "Positive    32233\n",
       "Negative     4568\n",
       "Neutral      3199\n",
       "Name: count, dtype: int64"
      ]
     },
     "execution_count": 15,
     "metadata": {},
     "output_type": "execute_result"
    }
   ],
   "source": [
    "df['sentiment_subgroup'].value_counts()"
   ]
  },
  {
   "cell_type": "code",
   "execution_count": 16,
   "id": "81e11a8e-d430-4a32-bd79-809791724007",
   "metadata": {
    "tags": []
   },
   "outputs": [
    {
     "name": "stderr",
     "output_type": "stream",
     "text": [
      "/var/folders/cr/qlkb4cqn3vn0pb1jrc5s04800000gn/T/ipykernel_6463/2723297244.py:4: MatplotlibDeprecationWarning: The seaborn styles shipped by Matplotlib are deprecated since 3.6, as they no longer correspond to the styles shipped by seaborn. However, they will remain available as 'seaborn-v0_8-<style>'. Alternatively, directly use the seaborn API instead.\n",
      "  plt.style.use('seaborn-darkgrid')\n"
     ]
    },
    {
     "data": {
      "image/png": "[encoded data removed]",
      "text/plain": [
       "<Figure size 640x480 with 1 Axes>"
      ]
     },
     "metadata": {},
     "output_type": "display_data"
    }
   ],
   "source": [
    "import matplotlib.pyplot as plt\n",
    "\n",
    "# Set the style of the plot\n",
    "plt.style.use('seaborn-darkgrid')\n",
    "\n",
    "# Create the histogram\n",
    "plt.hist(df['sentiment_subgroup'], bins=10, color='skyblue', edgecolor='black', alpha=0.7)\n",
    "\n",
    "# Add labels and title\n",
    "plt.xlabel('Sentiment Scores', fontsize=14)\n",
    "plt.ylabel('Frequency', fontsize=14)\n",
    "plt.title('Distribution of Sentiment Scores', fontsize=16)\n",
    "\n",
    "# Add grid and adjust tick parameters\n",
    "plt.grid(axis='y', linestyle='--', alpha=0.7)\n",
    "plt.xticks(rotation=45, fontsize=12)  # Rotate x-axis labels by 45 degrees\n",
    "plt.yticks(fontsize=12)\n",
    "\n",
    "# Show the plot\n",
    "plt.tight_layout()  # Adjust layout to prevent clipping of labels\n",
    "plt.show()"
   ]
  },
  {
   "cell_type": "markdown",
   "id": "c0f12fc6-14ab-422a-b2e3-3b4660713d6e",
   "metadata": {},
   "source": [
    "### Upsample the negative and neutral values using RandomOverSampler"
   ]
  },
  {
   "cell_type": "code",
   "execution_count": 17,
   "id": "f4e907e6-5231-4b4f-9af8-7193b63588db",
   "metadata": {
    "tags": []
   },
   "outputs": [
    {
     "name": "stdout",
     "output_type": "stream",
     "text": [
      "Class distribution before upsampling:\n",
      "sentiment_subgroup\n",
      "Positive    32233\n",
      "Negative     4568\n",
      "Neutral      3199\n",
      "Name: count, dtype: int64\n",
      "\n",
      "Class distribution after upsampling:\n",
      "Counter({'Positive': 32233, 'Negative': 32233, 'Neutral': 32233})\n",
      "\n",
      "Updated DataFrame 'df' with upsampled data:\n",
      "                                         review/text sentiment_subgroup\n",
      "0  This is only for Julie Strain fans. It's a col...           Positive\n",
      "1  I don't care much for Dr. Seuss but after read...           Positive\n",
      "2  If people become the books they read and if \"t...           Positive\n",
      "3  Theodore Seuss Geisel (1904-1991), aka &quot;D...           Positive\n",
      "4  Philip Nel - Dr. Seuss: American IconThis is b...           Positive\n"
     ]
    }
   ],
   "source": [
    "from imblearn.over_sampling import RandomOverSampler\n",
    "from collections import Counter\n",
    "\n",
    "# Assuming 'df' contains your DataFrame with features and target\n",
    "# Separate features (X) and target (y)\n",
    "X = df.drop(columns=['sentiment_subgroup'])  # Features\n",
    "y = df['sentiment_subgroup']  # Target\n",
    "\n",
    "# Display class distribution before upsampling\n",
    "print(\"Class distribution before upsampling:\")\n",
    "print(y.value_counts())\n",
    "\n",
    "# Initialize RandomOverSampler\n",
    "random_oversampler = RandomOverSampler(random_state=42)\n",
    "\n",
    "# Upsample the minority classes\n",
    "X_resampled, y_resampled = random_oversampler.fit_resample(X, y)\n",
    "\n",
    "# Display class distribution after upsampling\n",
    "print(\"\\nClass distribution after upsampling:\")\n",
    "print(Counter(y_resampled))\n",
    "\n",
    "# Create a DataFrame from the upsampled data\n",
    "df_resampled = pd.concat([pd.DataFrame(X_resampled, columns=X.columns), pd.Series(y_resampled, name='sentiment_subgroup')], axis=1)\n",
    "\n",
    "# Update the original DataFrame 'df' with the upsampled data\n",
    "df = df_resampled.copy()\n",
    "\n",
    "# Now 'df' contains the upsampled data\n",
    "print(\"\\nUpdated DataFrame 'df' with upsampled data:\")\n",
    "print(df.head())"
   ]
  },
  {
   "cell_type": "markdown",
   "id": "8527afff-0828-4666-b0bf-a8cfa758e34f",
   "metadata": {},
   "source": [
    "### Check the upsampled dataframe"
   ]
  },
  {
   "cell_type": "code",
   "execution_count": 18,
   "id": "16a9a5be-c00b-4dd5-9146-e76b3000c44c",
   "metadata": {
    "tags": []
   },
   "outputs": [
    {
     "name": "stdout",
     "output_type": "stream",
     "text": [
      "Value counts of sentiment_subgroup:\n",
      "sentiment_subgroup\n",
      "Positive    32233\n",
      "Negative    32233\n",
      "Neutral     32233\n",
      "Name: count, dtype: int64\n"
     ]
    }
   ],
   "source": [
    "sentiment_counts = df['sentiment_subgroup'].value_counts()\n",
    "print(\"Value counts of sentiment_subgroup:\")\n",
    "print(sentiment_counts)"
   ]
  },
  {
   "cell_type": "markdown",
   "id": "c6f821ff-7409-4a85-b6ee-cc32423d5505",
   "metadata": {},
   "source": [
    "## Tokenizing"
   ]
  },
  {
   "cell_type": "code",
   "execution_count": 19,
   "id": "9de21d98-baba-43a3-ab85-9942b6e7838a",
   "metadata": {
    "tags": []
   },
   "outputs": [
    {
     "name": "stderr",
     "output_type": "stream",
     "text": [
      "[nltk_data] Downloading package punkt to\n",
      "[nltk_data]     /Users/matthewbatchelor/nltk_data...\n",
      "[nltk_data]   Package punkt is already up-to-date!\n"
     ]
    },
    {
     "name": "stdout",
     "output_type": "stream",
     "text": [
      "                                         review/text sentiment_subgroup  \\\n",
      "0  This is only for Julie Strain fans. It's a col...           Positive   \n",
      "1  I don't care much for Dr. Seuss but after read...           Positive   \n",
      "2  If people become the books they read and if \"t...           Positive   \n",
      "3  Theodore Seuss Geisel (1904-1991), aka &quot;D...           Positive   \n",
      "4  Philip Nel - Dr. Seuss: American IconThis is b...           Positive   \n",
      "\n",
      "                                              tokens  \n",
      "0  [This, is, only, for, Julie, Strain, fans, ., ...  \n",
      "1  [I, do, n't, care, much, for, Dr., Seuss, but,...  \n",
      "2  [If, people, become, the, books, they, read, a...  \n",
      "3  [Theodore, Seuss, Geisel, (, 1904-1991, ), ,, ...  \n",
      "4  [Philip, Nel, -, Dr., Seuss, :, American, Icon...  \n"
     ]
    }
   ],
   "source": [
    "import nltk\n",
    "from nltk.tokenize import word_tokenize\n",
    "\n",
    "# Ensure that you have the 'punkt' tokenizer models downloaded\n",
    "nltk.download('punkt')\n",
    "\n",
    "# Convert values in the 'review/text' column to strings and then tokenize\n",
    "df['tokens'] = df['review/text'].astype(str).apply(word_tokenize)\n",
    "\n",
    "# Display the DataFrame with tokens\n",
    "print(df.head())"
   ]
  },
  {
   "cell_type": "code",
   "execution_count": 20,
   "id": "1a34c105-bd92-4076-b999-c6206afdc171",
   "metadata": {
    "tags": []
   },
   "outputs": [
    {
     "data": {
      "text/html": [
       "<div>\n",
       "<style scoped>\n",
       "    .dataframe tbody tr th:only-of-type {\n",
       "        vertical-align: middle;\n",
       "    }\n",
       "\n",
       "    .dataframe tbody tr th {\n",
       "        vertical-align: top;\n",
       "    }\n",
       "\n",
       "    .dataframe thead th {\n",
       "        text-align: right;\n",
       "    }\n",
       "</style>\n",
       "<table border=\"1\" class=\"dataframe\">\n",
       "  <thead>\n",
       "    <tr style=\"text-align: right;\">\n",
       "      <th></th>\n",
       "      <th>review/text</th>\n",
       "      <th>sentiment_subgroup</th>\n",
       "      <th>tokens</th>\n",
       "    </tr>\n",
       "  </thead>\n",
       "  <tbody>\n",
       "    <tr>\n",
       "      <th>0</th>\n",
       "      <td>This is only for Julie Strain fans. It's a col...</td>\n",
       "      <td>Positive</td>\n",
       "      <td>[This, is, only, for, Julie, Strain, fans, ., ...</td>\n",
       "    </tr>\n",
       "    <tr>\n",
       "      <th>1</th>\n",
       "      <td>I don't care much for Dr. Seuss but after read...</td>\n",
       "      <td>Positive</td>\n",
       "      <td>[I, do, n't, care, much, for, Dr., Seuss, but,...</td>\n",
       "    </tr>\n",
       "    <tr>\n",
       "      <th>2</th>\n",
       "      <td>If people become the books they read and if \"t...</td>\n",
       "      <td>Positive</td>\n",
       "      <td>[If, people, become, the, books, they, read, a...</td>\n",
       "    </tr>\n",
       "    <tr>\n",
       "      <th>3</th>\n",
       "      <td>Theodore Seuss Geisel (1904-1991), aka &amp;quot;D...</td>\n",
       "      <td>Positive</td>\n",
       "      <td>[Theodore, Seuss, Geisel, (, 1904-1991, ), ,, ...</td>\n",
       "    </tr>\n",
       "    <tr>\n",
       "      <th>4</th>\n",
       "      <td>Philip Nel - Dr. Seuss: American IconThis is b...</td>\n",
       "      <td>Positive</td>\n",
       "      <td>[Philip, Nel, -, Dr., Seuss, :, American, Icon...</td>\n",
       "    </tr>\n",
       "    <tr>\n",
       "      <th>...</th>\n",
       "      <td>...</td>\n",
       "      <td>...</td>\n",
       "      <td>...</td>\n",
       "    </tr>\n",
       "    <tr>\n",
       "      <th>96694</th>\n",
       "      <td>The book stated in was in \"good\" shape, but I ...</td>\n",
       "      <td>Neutral</td>\n",
       "      <td>[The, book, stated, in, was, in, ``, good, '',...</td>\n",
       "    </tr>\n",
       "    <tr>\n",
       "      <th>96695</th>\n",
       "      <td>Hawthorne has written a book deeply in psychol...</td>\n",
       "      <td>Neutral</td>\n",
       "      <td>[Hawthorne, has, written, a, book, deeply, in,...</td>\n",
       "    </tr>\n",
       "    <tr>\n",
       "      <th>96696</th>\n",
       "      <td>How can this be considered a classic? It's fun...</td>\n",
       "      <td>Neutral</td>\n",
       "      <td>[How, can, this, be, considered, a, classic, ?...</td>\n",
       "    </tr>\n",
       "    <tr>\n",
       "      <th>96697</th>\n",
       "      <td>Tom's book was a good read. Overall I would ra...</td>\n",
       "      <td>Neutral</td>\n",
       "      <td>[Tom, 's, book, was, a, good, read, ., Overall...</td>\n",
       "    </tr>\n",
       "    <tr>\n",
       "      <th>96698</th>\n",
       "      <td>1984 is the kind of book that I admire more th...</td>\n",
       "      <td>Neutral</td>\n",
       "      <td>[1984, is, the, kind, of, book, that, I, admir...</td>\n",
       "    </tr>\n",
       "  </tbody>\n",
       "</table>\n",
       "<p>96699 rows × 3 columns</p>\n",
       "</div>"
      ],
      "text/plain": [
       "                                             review/text sentiment_subgroup  \\\n",
       "0      This is only for Julie Strain fans. It's a col...           Positive   \n",
       "1      I don't care much for Dr. Seuss but after read...           Positive   \n",
       "2      If people become the books they read and if \"t...           Positive   \n",
       "3      Theodore Seuss Geisel (1904-1991), aka &quot;D...           Positive   \n",
       "4      Philip Nel - Dr. Seuss: American IconThis is b...           Positive   \n",
       "...                                                  ...                ...   \n",
       "96694  The book stated in was in \"good\" shape, but I ...            Neutral   \n",
       "96695  Hawthorne has written a book deeply in psychol...            Neutral   \n",
       "96696  How can this be considered a classic? It's fun...            Neutral   \n",
       "96697  Tom's book was a good read. Overall I would ra...            Neutral   \n",
       "96698  1984 is the kind of book that I admire more th...            Neutral   \n",
       "\n",
       "                                                  tokens  \n",
       "0      [This, is, only, for, Julie, Strain, fans, ., ...  \n",
       "1      [I, do, n't, care, much, for, Dr., Seuss, but,...  \n",
       "2      [If, people, become, the, books, they, read, a...  \n",
       "3      [Theodore, Seuss, Geisel, (, 1904-1991, ), ,, ...  \n",
       "4      [Philip, Nel, -, Dr., Seuss, :, American, Icon...  \n",
       "...                                                  ...  \n",
       "96694  [The, book, stated, in, was, in, ``, good, '',...  \n",
       "96695  [Hawthorne, has, written, a, book, deeply, in,...  \n",
       "96696  [How, can, this, be, considered, a, classic, ?...  \n",
       "96697  [Tom, 's, book, was, a, good, read, ., Overall...  \n",
       "96698  [1984, is, the, kind, of, book, that, I, admir...  \n",
       "\n",
       "[96699 rows x 3 columns]"
      ]
     },
     "execution_count": 20,
     "metadata": {},
     "output_type": "execute_result"
    }
   ],
   "source": [
    "df"
   ]
  },
  {
   "cell_type": "markdown",
   "id": "0c0e6ff6-635d-4159-a0bb-628b8d233a59",
   "metadata": {
    "tags": []
   },
   "source": [
    "## Preprocessing tokenized text data"
   ]
  },
  {
   "cell_type": "markdown",
   "id": "4ff16077-8cba-4085-abe4-58e4c397778c",
   "metadata": {},
   "source": [
    "- Lowercasing: Convert all words to lowercase to ensure consistency and prevent the model from treating words with different cases as different entities.\n",
    "\n",
    "- Removing punctuation: Remove punctuation marks such as commas, periods, and quotation marks. Punctuation generally does not carry semantic meaning and can introduce noise into the embeddings.\n",
    "\n",
    "- Removing stop words: As mentioned earlier, stop words are common words such as \"the,\" \"is,\" and \"and\" that occur frequently but typically do not contribute much to the meaning of the text. Removing them can reduce the dimensionality of the data and improve the efficiency of the Word2Vec model.\n",
    "\n",
    "- Handling numerical values: Depending on the specific use case, you may choose to remove or replace numerical values with placeholders. In some cases, numerical values may not be relevant to the semantics of the text and can be treated as noise.\n",
    "\n",
    "- Removing blank spaces: Should be treated as noise and deleted \n",
    "\n",
    "- Handling special characters: Special characters, symbols, and emojis may need to be handled appropriately based on the specific requirements of the application. You might choose to remove them, replace them with special tokens, or even treat them as separate entities\n",
    "\n",
    "- Removing blank rows\n",
    "\n",
    "- Removing words with just one letter: These are stealth stop words \n",
    "\n",
    "- Token normalization: This involves techniques such as stemming or lemmatization to reduce words to their base or root forms. For example, \"running,\" \"runs,\" and \"ran\" may all be reduced to the base form \"run.\" This helps in capturing semantic similarities between related words.\n",
    "\n",
    "- Handling out-of-vocabulary words: It's essential to handle words that are not present in the vocabulary of the Word2Vec model. This could involve techniques like using subword embeddings (e.g., FastText) or replacing unknown words with a special token.\n",
    "\n"
   ]
  },
  {
   "cell_type": "markdown",
   "id": "3c883c10-19a4-4b2e-8f7e-617ce43cf8da",
   "metadata": {},
   "source": [
    "### Lowercasing"
   ]
  },
  {
   "cell_type": "markdown",
   "id": "078319e2-63f7-48bd-b378-ebd2d2866bf6",
   "metadata": {},
   "source": [
    "Convert all words to lowercase to ensure consistency and prevent the model from treating words with different cases as different entities."
   ]
  },
  {
   "cell_type": "code",
   "execution_count": 21,
   "id": "9bcfc8c4-157a-4497-876c-a9ffc39083a0",
   "metadata": {
    "tags": []
   },
   "outputs": [],
   "source": [
    "# Function to lowercase each word in a list of tokens\n",
    "def lowercase_tokens(tokens_list):\n",
    "    return [word.lower() for word in tokens_list]\n",
    "\n",
    "# Apply lowercase conversion to each list of tokens in the 'tokens' column\n",
    "df.loc[:, 'tokens'] = df['tokens'].apply(lowercase_tokens)"
   ]
  },
  {
   "cell_type": "code",
   "execution_count": 22,
   "id": "ebf91662-857a-4695-a23c-6b1ea666d29c",
   "metadata": {
    "tags": []
   },
   "outputs": [
    {
     "data": {
      "text/plain": [
       "0        [this, is, only, for, julie, strain, fans, ., ...\n",
       "1        [i, do, n't, care, much, for, dr., seuss, but,...\n",
       "2        [if, people, become, the, books, they, read, a...\n",
       "3        [theodore, seuss, geisel, (, 1904-1991, ), ,, ...\n",
       "4        [philip, nel, -, dr., seuss, :, american, icon...\n",
       "                               ...                        \n",
       "96694    [the, book, stated, in, was, in, ``, good, '',...\n",
       "96695    [hawthorne, has, written, a, book, deeply, in,...\n",
       "96696    [how, can, this, be, considered, a, classic, ?...\n",
       "96697    [tom, 's, book, was, a, good, read, ., overall...\n",
       "96698    [1984, is, the, kind, of, book, that, i, admir...\n",
       "Name: tokens, Length: 96699, dtype: object"
      ]
     },
     "execution_count": 22,
     "metadata": {},
     "output_type": "execute_result"
    }
   ],
   "source": [
    "df['tokens']"
   ]
  },
  {
   "cell_type": "markdown",
   "id": "d18642cc-0d67-40a7-a3b7-47ee849caf71",
   "metadata": {
    "tags": []
   },
   "source": [
    "### Removing punctuation"
   ]
  },
  {
   "cell_type": "markdown",
   "id": "5c96f60a-25eb-4292-8007-a65017580135",
   "metadata": {},
   "source": [
    "Remove punctuation marks such as commas, periods, and quotation marks. Punctuation generally does not carry semantic meaning and can introduce noise into the embeddings. This code first checks if the value is a string before applying the regex substitution. If the value is not a string (e.g., NaN or float), it returns an empty string. This ensures that the re.sub function receives only string inputs, avoiding the TypeError."
   ]
  },
  {
   "cell_type": "code",
   "execution_count": 23,
   "id": "1f988827-13d5-4ee8-aae7-59cb2fcdf9cf",
   "metadata": {
    "tags": []
   },
   "outputs": [],
   "source": [
    "import re\n",
    "\n",
    "# Apply punctuation removal using a lambda function\n",
    "df['tokens'] = df['tokens'].apply(lambda tokens_list: [re.sub(r'[^\\w\\s]', '', word) for word in tokens_list] if isinstance(tokens_list, list) else [])"
   ]
  },
  {
   "cell_type": "code",
   "execution_count": 24,
   "id": "e53750d1-da3b-42c9-a350-d743401b43ed",
   "metadata": {
    "tags": []
   },
   "outputs": [
    {
     "data": {
      "text/plain": [
       "0        [this, is, only, for, julie, strain, fans, , i...\n",
       "1        [i, do, nt, care, much, for, dr, seuss, but, a...\n",
       "2        [if, people, become, the, books, they, read, a...\n",
       "3        [theodore, seuss, geisel, , 19041991, , , aka,...\n",
       "4        [philip, nel, , dr, seuss, , american, iconthi...\n",
       "                               ...                        \n",
       "96694    [the, book, stated, in, was, in, , good, , sha...\n",
       "96695    [hawthorne, has, written, a, book, deeply, in,...\n",
       "96696    [how, can, this, be, considered, a, classic, ,...\n",
       "96697    [tom, s, book, was, a, good, read, , overall, ...\n",
       "96698    [1984, is, the, kind, of, book, that, i, admir...\n",
       "Name: tokens, Length: 96699, dtype: object"
      ]
     },
     "execution_count": 24,
     "metadata": {},
     "output_type": "execute_result"
    }
   ],
   "source": [
    "df['tokens']"
   ]
  },
  {
   "cell_type": "markdown",
   "id": "d28e47f8-8987-4991-bc51-b04bdfb0e28f",
   "metadata": {},
   "source": [
    "### Removing stop-words "
   ]
  },
  {
   "cell_type": "markdown",
   "id": "bc833986-9bb5-4859-b8c8-082aa7b05e44",
   "metadata": {},
   "source": [
    "Stop words are common words such as \"the,\" \"is,\" and \"and\" that occur frequently but typically do not contribute much to the meaning of the text. Removing them can reduce the dimensionality of the data and improve the efficiency of the Word2Vec model."
   ]
  },
  {
   "cell_type": "code",
   "execution_count": 25,
   "id": "423bad9e-fe03-4281-a565-03861e8f2d6d",
   "metadata": {
    "tags": []
   },
   "outputs": [
    {
     "name": "stderr",
     "output_type": "stream",
     "text": [
      "[nltk_data] Downloading package stopwords to\n",
      "[nltk_data]     /Users/matthewbatchelor/nltk_data...\n",
      "[nltk_data]   Package stopwords is already up-to-date!\n"
     ]
    }
   ],
   "source": [
    "from nltk.corpus import stopwords\n",
    "\n",
    "# Download NLTK stopwords if not already downloaded\n",
    "nltk.download('stopwords')\n",
    "\n",
    "# Get the English stopwords from NLTK\n",
    "stop_words = set(stopwords.words('english'))\n",
    "\n",
    "# Remove stopwords from the 'tokens' column\n",
    "df['tokens'] = df['tokens'].apply(lambda x: [word for word in x if word not in stop_words])"
   ]
  },
  {
   "cell_type": "code",
   "execution_count": 26,
   "id": "5adb686e-40f3-4d78-b36d-ebb0039241b8",
   "metadata": {
    "tags": []
   },
   "outputs": [
    {
     "data": {
      "text/plain": [
       "0        [julie, strain, fans, , collection, photos, , ...\n",
       "1        [nt, care, much, dr, seuss, reading, philip, n...\n",
       "2        [people, become, books, read, , child, father,...\n",
       "3        [theodore, seuss, geisel, , 19041991, , , aka,...\n",
       "4        [philip, nel, , dr, seuss, , american, iconthi...\n",
       "                               ...                        \n",
       "96694    [book, stated, , good, , shape, , say, little,...\n",
       "96695    [hawthorne, written, book, deeply, psychologic...\n",
       "96696    [considered, classic, , fun, , entertaining, ,...\n",
       "96697    [tom, book, good, read, , overall, would, rate...\n",
       "96698    [1984, kind, book, admire, like, , admire, orw...\n",
       "Name: tokens, Length: 96699, dtype: object"
      ]
     },
     "execution_count": 26,
     "metadata": {},
     "output_type": "execute_result"
    }
   ],
   "source": [
    "df['tokens']"
   ]
  },
  {
   "cell_type": "markdown",
   "id": "a97fe52b-115b-4a99-8c30-84c74c93d6e9",
   "metadata": {},
   "source": [
    "### Removing blank spaces"
   ]
  },
  {
   "cell_type": "markdown",
   "id": "aacf185e-fabc-4641-86c1-d19b1efd296c",
   "metadata": {},
   "source": [
    "Author note: Based on the print out of the tokens column above, I can see some blank spaces (' '). I will remove these to reduce noise in my model "
   ]
  },
  {
   "cell_type": "code",
   "execution_count": 27,
   "id": "453ebc4e-d348-4ead-b915-c6ef9b246528",
   "metadata": {
    "tags": []
   },
   "outputs": [
    {
     "name": "stdout",
     "output_type": "stream",
     "text": [
      "0        [julie, strain, fans, collection, photos, 80, ...\n",
      "1        [nt, care, much, dr, seuss, reading, philip, n...\n",
      "2        [people, become, books, read, child, father, m...\n",
      "3        [theodore, seuss, geisel, 19041991, aka, quot,...\n",
      "4        [philip, nel, dr, seuss, american, iconthis, b...\n",
      "                               ...                        \n",
      "96694    [book, stated, good, shape, say, little, less,...\n",
      "96695    [hawthorne, written, book, deeply, psychologic...\n",
      "96696    [considered, classic, fun, entertaining, lacks...\n",
      "96697    [tom, book, good, read, overall, would, rate, ...\n",
      "96698    [1984, kind, book, admire, like, admire, orwel...\n",
      "Name: tokens, Length: 96699, dtype: object\n"
     ]
    }
   ],
   "source": [
    "# Remove blank spaces from the list of tokens\n",
    "df['tokens'] = df['tokens'].apply(lambda tokens_list: [token for token in tokens_list if token.strip() != ''])\n",
    "\n",
    "# Display the updated DataFrame\n",
    "print(df['tokens'])"
   ]
  },
  {
   "cell_type": "markdown",
   "id": "7d5cbb5f-8719-41e6-9e1f-0ebd822bfb52",
   "metadata": {},
   "source": [
    "### Handling numerical values"
   ]
  },
  {
   "cell_type": "markdown",
   "id": "3f29f3d7-2c20-4a1f-a96f-057360757c78",
   "metadata": {},
   "source": [
    "This code will remove all tokens containing only numerical values from the 'tokens' column."
   ]
  },
  {
   "cell_type": "code",
   "execution_count": 28,
   "id": "32e67e47-8d6b-4ff9-bce9-886984a15faa",
   "metadata": {
    "tags": []
   },
   "outputs": [],
   "source": [
    "df['tokens'] = df['tokens'].apply(lambda x: [token for token in x if not token.isdigit()])"
   ]
  },
  {
   "cell_type": "code",
   "execution_count": 29,
   "id": "7936d065-5fd4-4e5f-a6c6-5e2e9e302f60",
   "metadata": {
    "tags": []
   },
   "outputs": [
    {
     "data": {
      "text/plain": [
       "0        [julie, strain, fans, collection, photos, page...\n",
       "1        [nt, care, much, dr, seuss, reading, philip, n...\n",
       "2        [people, become, books, read, child, father, m...\n",
       "3        [theodore, seuss, geisel, aka, quot, dr, seuss...\n",
       "4        [philip, nel, dr, seuss, american, iconthis, b...\n",
       "                               ...                        \n",
       "96694    [book, stated, good, shape, say, little, less,...\n",
       "96695    [hawthorne, written, book, deeply, psychologic...\n",
       "96696    [considered, classic, fun, entertaining, lacks...\n",
       "96697    [tom, book, good, read, overall, would, rate, ...\n",
       "96698    [kind, book, admire, like, admire, orwell, det...\n",
       "Name: tokens, Length: 96699, dtype: object"
      ]
     },
     "execution_count": 29,
     "metadata": {},
     "output_type": "execute_result"
    }
   ],
   "source": [
    "df['tokens']"
   ]
  },
  {
   "cell_type": "markdown",
   "id": "aa630009-8d09-4a0c-8e17-e581a9a9300e",
   "metadata": {},
   "source": [
    "### Handling special characters"
   ]
  },
  {
   "cell_type": "markdown",
   "id": "4aecc539-87c5-4fa7-9274-95f1981594cc",
   "metadata": {},
   "source": [
    "This code will remove all non-alphanumeric characters from each token in the 'tokens' column of your DataFrame."
   ]
  },
  {
   "cell_type": "code",
   "execution_count": 30,
   "id": "0e0a26d6-aa31-44fb-953a-9eb90cb78dd5",
   "metadata": {},
   "outputs": [],
   "source": [
    "df['tokens'] = df['tokens'].apply(lambda x: [re.sub(r'\\W', '', token) for token in x])"
   ]
  },
  {
   "cell_type": "code",
   "execution_count": 31,
   "id": "b18ea739-8026-4ce9-9191-e0cddc9cdc3a",
   "metadata": {
    "tags": []
   },
   "outputs": [
    {
     "data": {
      "text/plain": [
       "0        [julie, strain, fans, collection, photos, page...\n",
       "1        [nt, care, much, dr, seuss, reading, philip, n...\n",
       "2        [people, become, books, read, child, father, m...\n",
       "3        [theodore, seuss, geisel, aka, quot, dr, seuss...\n",
       "4        [philip, nel, dr, seuss, american, iconthis, b...\n",
       "                               ...                        \n",
       "96694    [book, stated, good, shape, say, little, less,...\n",
       "96695    [hawthorne, written, book, deeply, psychologic...\n",
       "96696    [considered, classic, fun, entertaining, lacks...\n",
       "96697    [tom, book, good, read, overall, would, rate, ...\n",
       "96698    [kind, book, admire, like, admire, orwell, det...\n",
       "Name: tokens, Length: 96699, dtype: object"
      ]
     },
     "execution_count": 31,
     "metadata": {},
     "output_type": "execute_result"
    }
   ],
   "source": [
    "df['tokens']"
   ]
  },
  {
   "cell_type": "markdown",
   "id": "d3982bf9-d9af-411a-b2b3-57e39050fff9",
   "metadata": {},
   "source": [
    "### Removing blank rows   "
   ]
  },
  {
   "cell_type": "markdown",
   "id": "822b73af-426b-4acf-b881-a5978aa4be71",
   "metadata": {},
   "source": [
    "In the print-out above, I see cases (such as ID 39995) where the row is blank '[]'. These may add noise to the model and I will remove. "
   ]
  },
  {
   "cell_type": "code",
   "execution_count": 32,
   "id": "ad3a7334-65c9-4304-8b3a-d2e2d0dcf0dd",
   "metadata": {
    "tags": []
   },
   "outputs": [
    {
     "name": "stdout",
     "output_type": "stream",
     "text": [
      "Number of rows deleted: 3\n"
     ]
    }
   ],
   "source": [
    "# Count the number of rows before removing blank rows\n",
    "num_rows_before = len(df)\n",
    "\n",
    "# Remove rows with blank lists in the 'tokens' column\n",
    "df = df[df['tokens'].apply(lambda tokens_list: tokens_list != [])]\n",
    "\n",
    "# Count the number of rows after removing blank rows\n",
    "num_rows_after = len(df)\n",
    "\n",
    "# Calculate the number of rows deleted\n",
    "num_rows_deleted = num_rows_before - num_rows_after\n",
    "\n",
    "# Print the number of rows deleted\n",
    "print(\"Number of rows deleted:\", num_rows_deleted)"
   ]
  },
  {
   "cell_type": "markdown",
   "id": "ec776eb4-75c5-4d6f-bab9-594a477a4cf4",
   "metadata": {
    "tags": []
   },
   "source": [
    "### Removing words with just one letter"
   ]
  },
  {
   "cell_type": "markdown",
   "id": "9ab1e535-a6c5-4a05-880d-de4e63d4708b",
   "metadata": {},
   "source": [
    "These are hidden stop-words"
   ]
  },
  {
   "cell_type": "code",
   "execution_count": 33,
   "id": "34563721-34e7-49e6-aec8-4d8f476c0902",
   "metadata": {
    "tags": []
   },
   "outputs": [
    {
     "name": "stdout",
     "output_type": "stream",
     "text": [
      "Occurrences of 'a': 0\n",
      "Occurrences of 'b': 722\n",
      "Occurrences of 'c': 999\n",
      "Occurrences of 'd': 0\n",
      "Occurrences of 'e': 437\n",
      "Occurrences of 'f': 224\n",
      "Occurrences of 'g': 246\n",
      "Occurrences of 'h': 288\n",
      "Occurrences of 'i': 0\n",
      "Occurrences of 'j': 447\n",
      "Occurrences of 'k': 281\n",
      "Occurrences of 'l': 403\n",
      "Occurrences of 'm': 0\n",
      "Occurrences of 'n': 407\n",
      "Occurrences of 'o': 0\n",
      "Occurrences of 'p': 1001\n",
      "Occurrences of 'q': 61\n",
      "Occurrences of 'r': 346\n",
      "Occurrences of 's': 0\n",
      "Occurrences of 't': 0\n",
      "Occurrences of 'u': 332\n",
      "Occurrences of 'v': 203\n",
      "Occurrences of 'w': 361\n",
      "Occurrences of 'x': 426\n",
      "Occurrences of 'y': 0\n",
      "Occurrences of 'z': 64\n"
     ]
    }
   ],
   "source": [
    "# Define the target words to count\n",
    "target_words = ['a', 'b', 'c', 'd', 'e', 'f', 'g', 'h', 'i', 'j', 'k', 'l', 'm', 'n', 'o', 'p', 'q', 'r', 's', 't', 'u', 'v', 'w', 'x', 'y', 'z']\n",
    "\n",
    "# Initialize counts for each target word\n",
    "word_counts = {word: 0 for word in target_words}\n",
    "\n",
    "# Iterate over the tokens and count occurrences of target words\n",
    "for tokens_list in df['tokens']:\n",
    "    for word in tokens_list:\n",
    "        for target_word in target_words:\n",
    "            if target_word == word:\n",
    "                word_counts[target_word] += 1\n",
    "            elif target_word.strip() == word:\n",
    "                word_counts[target_word] += 1\n",
    "\n",
    "# Print the word counts\n",
    "for word, count in word_counts.items():\n",
    "    print(f\"Occurrences of '{word}': {count}\")"
   ]
  },
  {
   "cell_type": "code",
   "execution_count": 34,
   "id": "7d43ea1d-b6e2-49f7-a7cc-0e3d441969f6",
   "metadata": {
    "tags": []
   },
   "outputs": [
    {
     "name": "stderr",
     "output_type": "stream",
     "text": [
      "/var/folders/cr/qlkb4cqn3vn0pb1jrc5s04800000gn/T/ipykernel_6463/3323392164.py:2: SettingWithCopyWarning: \n",
      "A value is trying to be set on a copy of a slice from a DataFrame.\n",
      "Try using .loc[row_indexer,col_indexer] = value instead\n",
      "\n",
      "See the caveats in the documentation: https://pandas.pydata.org/pandas-docs/stable/user_guide/indexing.html#returning-a-view-versus-a-copy\n",
      "  df['tokens'] = df['tokens'].apply(lambda tokens_list: [word for word in tokens_list if word not in target_words and word.strip() not in target_words])\n"
     ]
    }
   ],
   "source": [
    "# Delete occurrences of target_words from df['tokens']\n",
    "df['tokens'] = df['tokens'].apply(lambda tokens_list: [word for word in tokens_list if word not in target_words and word.strip() not in target_words])"
   ]
  },
  {
   "cell_type": "code",
   "execution_count": 35,
   "id": "72b5576a-f1f5-431f-814c-30d8d47dcbcb",
   "metadata": {
    "tags": []
   },
   "outputs": [
    {
     "data": {
      "text/plain": [
       "0        [julie, strain, fans, collection, photos, page...\n",
       "1        [nt, care, much, dr, seuss, reading, philip, n...\n",
       "2        [people, become, books, read, child, father, m...\n",
       "3        [theodore, seuss, geisel, aka, quot, dr, seuss...\n",
       "4        [philip, nel, dr, seuss, american, iconthis, b...\n",
       "                               ...                        \n",
       "96694    [book, stated, good, shape, say, little, less,...\n",
       "96695    [hawthorne, written, book, deeply, psychologic...\n",
       "96696    [considered, classic, fun, entertaining, lacks...\n",
       "96697    [tom, book, good, read, overall, would, rate, ...\n",
       "96698    [kind, book, admire, like, admire, orwell, det...\n",
       "Name: tokens, Length: 96696, dtype: object"
      ]
     },
     "execution_count": 35,
     "metadata": {},
     "output_type": "execute_result"
    }
   ],
   "source": [
    "df['tokens']"
   ]
  },
  {
   "cell_type": "markdown",
   "id": "90e44ac1-06cb-48d0-acdc-348441fe93bc",
   "metadata": {},
   "source": [
    "### Token normalization"
   ]
  },
  {
   "cell_type": "markdown",
   "id": "8db6ee08-2111-40df-b7c4-de2ef78dca17",
   "metadata": {},
   "source": [
    "This involves techniques such as stemming or lemmatization to reduce words to their base or root forms. For example, \"running,\" \"runs,\" and \"ran\" may all be reduced to the base form \"run.\" This helps in capturing semantic similarities between related words."
   ]
  },
  {
   "cell_type": "code",
   "execution_count": 36,
   "id": "9ab52b5e-7f6b-48ba-b1f2-8f4ad6ed9a0e",
   "metadata": {
    "tags": []
   },
   "outputs": [
    {
     "name": "stderr",
     "output_type": "stream",
     "text": [
      "/var/folders/cr/qlkb4cqn3vn0pb1jrc5s04800000gn/T/ipykernel_6463/1729550754.py:7: SettingWithCopyWarning: \n",
      "A value is trying to be set on a copy of a slice from a DataFrame.\n",
      "Try using .loc[row_indexer,col_indexer] = value instead\n",
      "\n",
      "See the caveats in the documentation: https://pandas.pydata.org/pandas-docs/stable/user_guide/indexing.html#returning-a-view-versus-a-copy\n",
      "  df['tokens'] = df['tokens'].apply(lambda x: ' '.join([stemmer.stem(word) for word in x]))\n"
     ]
    }
   ],
   "source": [
    "from nltk.stem import PorterStemmer\n",
    "\n",
    "# Initialize PorterStemmer\n",
    "stemmer = PorterStemmer()\n",
    "\n",
    "# Apply stemming to tokens\n",
    "df['tokens'] = df['tokens'].apply(lambda x: ' '.join([stemmer.stem(word) for word in x]))"
   ]
  },
  {
   "cell_type": "code",
   "execution_count": 37,
   "id": "bea64d0e-b34c-46cc-9997-528cd7c8add5",
   "metadata": {
    "tags": []
   },
   "outputs": [
    {
     "data": {
      "text/html": [
       "<div>\n",
       "<style scoped>\n",
       "    .dataframe tbody tr th:only-of-type {\n",
       "        vertical-align: middle;\n",
       "    }\n",
       "\n",
       "    .dataframe tbody tr th {\n",
       "        vertical-align: top;\n",
       "    }\n",
       "\n",
       "    .dataframe thead th {\n",
       "        text-align: right;\n",
       "    }\n",
       "</style>\n",
       "<table border=\"1\" class=\"dataframe\">\n",
       "  <thead>\n",
       "    <tr style=\"text-align: right;\">\n",
       "      <th></th>\n",
       "      <th>review/text</th>\n",
       "      <th>sentiment_subgroup</th>\n",
       "      <th>tokens</th>\n",
       "    </tr>\n",
       "  </thead>\n",
       "  <tbody>\n",
       "    <tr>\n",
       "      <th>0</th>\n",
       "      <td>This is only for Julie Strain fans. It's a col...</td>\n",
       "      <td>Positive</td>\n",
       "      <td>juli strain fan collect photo page worth nice ...</td>\n",
       "    </tr>\n",
       "    <tr>\n",
       "      <th>1</th>\n",
       "      <td>I don't care much for Dr. Seuss but after read...</td>\n",
       "      <td>Positive</td>\n",
       "      <td>nt care much dr seuss read philip nel book cha...</td>\n",
       "    </tr>\n",
       "    <tr>\n",
       "      <th>2</th>\n",
       "      <td>If people become the books they read and if \"t...</td>\n",
       "      <td>Positive</td>\n",
       "      <td>peopl becom book read child father man dr seus...</td>\n",
       "    </tr>\n",
       "    <tr>\n",
       "      <th>3</th>\n",
       "      <td>Theodore Seuss Geisel (1904-1991), aka &amp;quot;D...</td>\n",
       "      <td>Positive</td>\n",
       "      <td>theodor seuss geisel aka quot dr seuss quot on...</td>\n",
       "    </tr>\n",
       "    <tr>\n",
       "      <th>4</th>\n",
       "      <td>Philip Nel - Dr. Seuss: American IconThis is b...</td>\n",
       "      <td>Positive</td>\n",
       "      <td>philip nel dr seuss american iconthi basic aca...</td>\n",
       "    </tr>\n",
       "    <tr>\n",
       "      <th>...</th>\n",
       "      <td>...</td>\n",
       "      <td>...</td>\n",
       "      <td>...</td>\n",
       "    </tr>\n",
       "    <tr>\n",
       "      <th>96694</th>\n",
       "      <td>The book stated in was in \"good\" shape, but I ...</td>\n",
       "      <td>Neutral</td>\n",
       "      <td>book state good shape say littl less good stil...</td>\n",
       "    </tr>\n",
       "    <tr>\n",
       "      <th>96695</th>\n",
       "      <td>Hawthorne has written a book deeply in psychol...</td>\n",
       "      <td>Neutral</td>\n",
       "      <td>hawthorn written book deepli psycholog symbol ...</td>\n",
       "    </tr>\n",
       "    <tr>\n",
       "      <th>96696</th>\n",
       "      <td>How can this be considered a classic? It's fun...</td>\n",
       "      <td>Neutral</td>\n",
       "      <td>consid classic fun entertain lack much qualiti...</td>\n",
       "    </tr>\n",
       "    <tr>\n",
       "      <th>96697</th>\n",
       "      <td>Tom's book was a good read. Overall I would ra...</td>\n",
       "      <td>Neutral</td>\n",
       "      <td>tom book good read overal would rate quot ok q...</td>\n",
       "    </tr>\n",
       "    <tr>\n",
       "      <th>96698</th>\n",
       "      <td>1984 is the kind of book that I admire more th...</td>\n",
       "      <td>Neutral</td>\n",
       "      <td>kind book admir like admir orwel detail believ...</td>\n",
       "    </tr>\n",
       "  </tbody>\n",
       "</table>\n",
       "<p>96696 rows × 3 columns</p>\n",
       "</div>"
      ],
      "text/plain": [
       "                                             review/text sentiment_subgroup  \\\n",
       "0      This is only for Julie Strain fans. It's a col...           Positive   \n",
       "1      I don't care much for Dr. Seuss but after read...           Positive   \n",
       "2      If people become the books they read and if \"t...           Positive   \n",
       "3      Theodore Seuss Geisel (1904-1991), aka &quot;D...           Positive   \n",
       "4      Philip Nel - Dr. Seuss: American IconThis is b...           Positive   \n",
       "...                                                  ...                ...   \n",
       "96694  The book stated in was in \"good\" shape, but I ...            Neutral   \n",
       "96695  Hawthorne has written a book deeply in psychol...            Neutral   \n",
       "96696  How can this be considered a classic? It's fun...            Neutral   \n",
       "96697  Tom's book was a good read. Overall I would ra...            Neutral   \n",
       "96698  1984 is the kind of book that I admire more th...            Neutral   \n",
       "\n",
       "                                                  tokens  \n",
       "0      juli strain fan collect photo page worth nice ...  \n",
       "1      nt care much dr seuss read philip nel book cha...  \n",
       "2      peopl becom book read child father man dr seus...  \n",
       "3      theodor seuss geisel aka quot dr seuss quot on...  \n",
       "4      philip nel dr seuss american iconthi basic aca...  \n",
       "...                                                  ...  \n",
       "96694  book state good shape say littl less good stil...  \n",
       "96695  hawthorn written book deepli psycholog symbol ...  \n",
       "96696  consid classic fun entertain lack much qualiti...  \n",
       "96697  tom book good read overal would rate quot ok q...  \n",
       "96698  kind book admir like admir orwel detail believ...  \n",
       "\n",
       "[96696 rows x 3 columns]"
      ]
     },
     "execution_count": 37,
     "metadata": {},
     "output_type": "execute_result"
    }
   ],
   "source": [
    "df"
   ]
  },
  {
   "cell_type": "markdown",
   "id": "a074274b-f2ca-49bf-879f-7d3f7e860af8",
   "metadata": {
    "tags": []
   },
   "source": [
    "### Handling out-of-vocabulary words"
   ]
  },
  {
   "cell_type": "markdown",
   "id": "e89beb0c-ce0f-4d7a-802a-dc3df75cf3fe",
   "metadata": {
    "tags": []
   },
   "source": [
    "Author note: It seemed I couldn't do this until I had trained a Word2Vec model "
   ]
  },
  {
   "cell_type": "markdown",
   "id": "16f41aed-59a3-4e90-b9ab-f02f6240963d",
   "metadata": {},
   "source": [
    "## Reset index "
   ]
  },
  {
   "cell_type": "code",
   "execution_count": 38,
   "id": "07f6ed6f-8729-409c-a143-8ceffe969b26",
   "metadata": {
    "tags": []
   },
   "outputs": [],
   "source": [
    "df.reset_index(drop=True, inplace=True)"
   ]
  },
  {
   "cell_type": "markdown",
   "id": "f4195652-9fe7-4f84-9ed2-7aac349ca043",
   "metadata": {},
   "source": [
    "## Word embedding "
   ]
  },
  {
   "cell_type": "code",
   "execution_count": 39,
   "id": "667ec6a8-edb8-4622-9ad2-3ead6c072d75",
   "metadata": {
    "tags": []
   },
   "outputs": [
    {
     "name": "stderr",
     "output_type": "stream",
     "text": [
      "/var/folders/cr/qlkb4cqn3vn0pb1jrc5s04800000gn/T/ipykernel_6463/1134887140.py:6: SettingWithCopyWarning: \n",
      "A value is trying to be set on a copy of a slice from a DataFrame.\n",
      "Try using .loc[row_indexer,col_indexer] = value instead\n",
      "\n",
      "See the caveats in the documentation: https://pandas.pydata.org/pandas-docs/stable/user_guide/indexing.html#returning-a-view-versus-a-copy\n",
      "  df['tokens'] = df['review/text'].apply(word_tokenize)\n",
      "/var/folders/cr/qlkb4cqn3vn0pb1jrc5s04800000gn/T/ipykernel_6463/1134887140.py:25: SettingWithCopyWarning: \n",
      "A value is trying to be set on a copy of a slice from a DataFrame.\n",
      "Try using .loc[row_indexer,col_indexer] = value instead\n",
      "\n",
      "See the caveats in the documentation: https://pandas.pydata.org/pandas-docs/stable/user_guide/indexing.html#returning-a-view-versus-a-copy\n",
      "  df['word_embeddings'] = df['tokens'].apply(apply_word_embeddings)\n"
     ]
    }
   ],
   "source": [
    "from gensim.models import Word2Vec\n",
    "from nltk.tokenize import word_tokenize\n",
    "import numpy as np\n",
    "\n",
    "# Tokenize text in the 'content' column\n",
    "df['tokens'] = df['review/text'].apply(word_tokenize)\n",
    "\n",
    "# Load pre-trained Word2Vec model \n",
    "word2vec_model = Word2Vec(df['tokens'], min_count=1)\n",
    "\n",
    "# Function to apply word embeddings\n",
    "def apply_word_embeddings(tokens):\n",
    "    word_vectors = []\n",
    "    for token in tokens:\n",
    "        if token in word2vec_model.wv:\n",
    "            word_vector = word2vec_model.wv[token]  # Get word vector\n",
    "            word_vectors.append(word_vector)\n",
    "    if word_vectors:\n",
    "        tweet_vector = np.mean(word_vectors, axis=0)  # Aggregate word vectors\n",
    "        return tweet_vector\n",
    "    else:\n",
    "        return None\n",
    "\n",
    "# Apply word embeddings to the 'tokens' column\n",
    "df['word_embeddings'] = df['tokens'].apply(apply_word_embeddings)\n",
    "\n",
    "# Drop rows with None values in 'word_embeddings' column\n",
    "df = df.dropna(subset=['word_embeddings'])"
   ]
  },
  {
   "cell_type": "code",
   "execution_count": 40,
   "id": "4aaaa36d-e497-486c-acc2-d9a9ad4ffa6f",
   "metadata": {
    "tags": []
   },
   "outputs": [
    {
     "data": {
      "text/html": [
       "<div>\n",
       "<style scoped>\n",
       "    .dataframe tbody tr th:only-of-type {\n",
       "        vertical-align: middle;\n",
       "    }\n",
       "\n",
       "    .dataframe tbody tr th {\n",
       "        vertical-align: top;\n",
       "    }\n",
       "\n",
       "    .dataframe thead th {\n",
       "        text-align: right;\n",
       "    }\n",
       "</style>\n",
       "<table border=\"1\" class=\"dataframe\">\n",
       "  <thead>\n",
       "    <tr style=\"text-align: right;\">\n",
       "      <th></th>\n",
       "      <th>review/text</th>\n",
       "      <th>sentiment_subgroup</th>\n",
       "      <th>tokens</th>\n",
       "      <th>word_embeddings</th>\n",
       "    </tr>\n",
       "  </thead>\n",
       "  <tbody>\n",
       "    <tr>\n",
       "      <th>0</th>\n",
       "      <td>This is only for Julie Strain fans. It's a col...</td>\n",
       "      <td>Positive</td>\n",
       "      <td>[This, is, only, for, Julie, Strain, fans, ., ...</td>\n",
       "      <td>[0.036981437, -0.4918617, -1.5036561, 0.653894...</td>\n",
       "    </tr>\n",
       "    <tr>\n",
       "      <th>1</th>\n",
       "      <td>I don't care much for Dr. Seuss but after read...</td>\n",
       "      <td>Positive</td>\n",
       "      <td>[I, do, n't, care, much, for, Dr., Seuss, but,...</td>\n",
       "      <td>[-0.34708437, -0.25579467, -1.2326527, 0.35956...</td>\n",
       "    </tr>\n",
       "    <tr>\n",
       "      <th>2</th>\n",
       "      <td>If people become the books they read and if \"t...</td>\n",
       "      <td>Positive</td>\n",
       "      <td>[If, people, become, the, books, they, read, a...</td>\n",
       "      <td>[-0.35601878, -0.20433958, -1.0501455, 0.30435...</td>\n",
       "    </tr>\n",
       "    <tr>\n",
       "      <th>3</th>\n",
       "      <td>Theodore Seuss Geisel (1904-1991), aka &amp;quot;D...</td>\n",
       "      <td>Positive</td>\n",
       "      <td>[Theodore, Seuss, Geisel, (, 1904-1991, ), ,, ...</td>\n",
       "      <td>[-0.45737424, -0.3882762, -1.0788666, 0.477615...</td>\n",
       "    </tr>\n",
       "    <tr>\n",
       "      <th>4</th>\n",
       "      <td>Philip Nel - Dr. Seuss: American IconThis is b...</td>\n",
       "      <td>Positive</td>\n",
       "      <td>[Philip, Nel, -, Dr., Seuss, :, American, Icon...</td>\n",
       "      <td>[-0.16913952, -0.43138853, -1.1637785, 0.42877...</td>\n",
       "    </tr>\n",
       "  </tbody>\n",
       "</table>\n",
       "</div>"
      ],
      "text/plain": [
       "                                         review/text sentiment_subgroup  \\\n",
       "0  This is only for Julie Strain fans. It's a col...           Positive   \n",
       "1  I don't care much for Dr. Seuss but after read...           Positive   \n",
       "2  If people become the books they read and if \"t...           Positive   \n",
       "3  Theodore Seuss Geisel (1904-1991), aka &quot;D...           Positive   \n",
       "4  Philip Nel - Dr. Seuss: American IconThis is b...           Positive   \n",
       "\n",
       "                                              tokens  \\\n",
       "0  [This, is, only, for, Julie, Strain, fans, ., ...   \n",
       "1  [I, do, n't, care, much, for, Dr., Seuss, but,...   \n",
       "2  [If, people, become, the, books, they, read, a...   \n",
       "3  [Theodore, Seuss, Geisel, (, 1904-1991, ), ,, ...   \n",
       "4  [Philip, Nel, -, Dr., Seuss, :, American, Icon...   \n",
       "\n",
       "                                     word_embeddings  \n",
       "0  [0.036981437, -0.4918617, -1.5036561, 0.653894...  \n",
       "1  [-0.34708437, -0.25579467, -1.2326527, 0.35956...  \n",
       "2  [-0.35601878, -0.20433958, -1.0501455, 0.30435...  \n",
       "3  [-0.45737424, -0.3882762, -1.0788666, 0.477615...  \n",
       "4  [-0.16913952, -0.43138853, -1.1637785, 0.42877...  "
      ]
     },
     "execution_count": 40,
     "metadata": {},
     "output_type": "execute_result"
    }
   ],
   "source": [
    "df.head()"
   ]
  },
  {
   "cell_type": "code",
   "execution_count": 41,
   "id": "7915c232-9922-4e30-87fe-fdcb2f552209",
   "metadata": {
    "tags": []
   },
   "outputs": [
    {
     "name": "stdout",
     "output_type": "stream",
     "text": [
      "   sentiment_subgroup                                    word_embeddings\n",
      "0                   2  [0.036981437, -0.4918617, -1.5036561, 0.653894...\n",
      "1                   2  [-0.34708437, -0.25579467, -1.2326527, 0.35956...\n",
      "2                   2  [-0.35601878, -0.20433958, -1.0501455, 0.30435...\n",
      "3                   2  [-0.45737424, -0.3882762, -1.0788666, 0.477615...\n",
      "4                   2  [-0.16913952, -0.43138853, -1.1637785, 0.42877...\n"
     ]
    }
   ],
   "source": [
    "from sklearn.preprocessing import LabelEncoder\n",
    "\n",
    "# Drop columns except 'sentiment_subgroup' and word embeddings\n",
    "columns_to_keep = ['sentiment_subgroup', 'word_embeddings']\n",
    "df = df[columns_to_keep]\n",
    "\n",
    "# Convert 'sentiment_subgroup' into numeric values\n",
    "label_encoder = LabelEncoder()\n",
    "df['sentiment_subgroup'] = label_encoder.fit_transform(df['sentiment_subgroup'])\n",
    "\n",
    "# Display the first few rows of the modified DataFrame\n",
    "print(df.head())"
   ]
  },
  {
   "cell_type": "markdown",
   "id": "09e5cb18-4325-4738-8a60-a4c7b9441777",
   "metadata": {},
   "source": [
    "## Train test split and model training "
   ]
  },
  {
   "cell_type": "code",
   "execution_count": 42,
   "id": "91f548a7-1e16-4c58-8eb3-c6e005457644",
   "metadata": {},
   "outputs": [
    {
     "name": "stderr",
     "output_type": "stream",
     "text": [
      "2024-03-11 06:42:18.740328: I tensorflow/core/platform/cpu_feature_guard.cc:182] This TensorFlow binary is optimized to use available CPU instructions in performance-critical operations.\n",
      "To enable the following instructions: AVX2 FMA, in other operations, rebuild TensorFlow with the appropriate compiler flags.\n"
     ]
    },
    {
     "name": "stdout",
     "output_type": "stream",
     "text": [
      "Fitting 3 folds for each of 1 candidates, totalling 3 fits\n",
      "[CV] END ...........batch_size=16, epochs=30, optimizer=adam; total time= 9.6min\n",
      "[CV] END ...........batch_size=16, epochs=30, optimizer=adam; total time= 9.6min\n",
      "[CV] END ...........batch_size=16, epochs=30, optimizer=adam; total time= 9.6min\n",
      "Best Parameters: {'batch_size': 16, 'epochs': 30, 'optimizer': 'adam'}\n",
      "Train Accuracy: 0.8929365530792699\n",
      "Train Precision: 0.8931072756356649\n",
      "Train Recall: 0.8929365530792699\n",
      "Train F1 Score: 0.8924076276740752\n",
      "Test Accuracy: 0.8586866597724923\n",
      "Test Precision: 0.8588014313311678\n",
      "Test Recall: 0.8586866597724923\n",
      "Test F1 Score: 0.857782206004972\n"
     ]
    },
    {
     "name": "stderr",
     "output_type": "stream",
     "text": [
      "2024-03-11 07:04:16.903825: I tensorflow/core/common_runtime/executor.cc:1197] [/device:CPU:0] (DEBUG INFO) Executor start aborting (this does not indicate an error and you can ignore this message): INVALID_ARGUMENT: You must feed a value for placeholder tensor 'inputs' with dtype float and shape [?,128]\n",
      "\t [[{{node inputs}}]]\n",
      "2024-03-11 07:04:17.582714: I tensorflow/core/common_runtime/executor.cc:1197] [/device:CPU:0] (DEBUG INFO) Executor start aborting (this does not indicate an error and you can ignore this message): INVALID_ARGUMENT: You must feed a value for placeholder tensor 'inputs' with dtype float and shape [?,128]\n",
      "\t [[{{node inputs}}]]\n",
      "WARNING:absl:Found untraced functions such as _update_step_xla while saving (showing 1 of 1). These functions will not be directly callable after loading.\n"
     ]
    },
    {
     "name": "stdout",
     "output_type": "stream",
     "text": [
      "INFO:tensorflow:Assets written to: ram://a911b750d02748ecaed28978e9df5370/assets\n"
     ]
    },
    {
     "name": "stderr",
     "output_type": "stream",
     "text": [
      "INFO:tensorflow:Assets written to: ram://a911b750d02748ecaed28978e9df5370/assets\n"
     ]
    }
   ],
   "source": [
    "import numpy as np\n",
    "import pandas as pd\n",
    "from sklearn.model_selection import train_test_split, GridSearchCV\n",
    "from sklearn.metrics import accuracy_score, precision_score, recall_score, f1_score\n",
    "import tensorflow as tf\n",
    "from sklearn.preprocessing import StandardScaler\n",
    "from scikeras.wrappers import KerasClassifier\n",
    "import pickle\n",
    "\n",
    "# Assuming 'df' contains the DataFrame with columns 'sentiment_subgroup' and 'word_embeddings'\n",
    "\n",
    "# Splitting the data into features (X) and target (y)\n",
    "X = np.array(df['word_embeddings'].tolist())  # Convert word embeddings to numpy array\n",
    "y = np.array(df['sentiment_subgroup'])\n",
    "\n",
    "# Splitting the data into train and test sets\n",
    "X_train, X_test, y_train, y_test = train_test_split(X, y, test_size=0.2, random_state=42)\n",
    "\n",
    "# Standardizing the features\n",
    "scaler = StandardScaler()\n",
    "X_train = scaler.fit_transform(X_train)\n",
    "X_test = scaler.transform(X_test)\n",
    "\n",
    "# Define the neural network model\n",
    "def create_model(optimizer='adam'):\n",
    "    model = tf.keras.Sequential([\n",
    "        tf.keras.layers.Dense(128, activation='relu', input_shape=(X_train.shape[1],)),\n",
    "        tf.keras.layers.Dropout(0.2),\n",
    "        tf.keras.layers.Dense(3, activation='softmax')  # Assuming 3 classes for sentiment_subgroup\n",
    "    ])\n",
    "    model.compile(optimizer=optimizer,\n",
    "                  loss='sparse_categorical_crossentropy',\n",
    "                  metrics=['accuracy'])\n",
    "    return model\n",
    "\n",
    "# Create a KerasClassifier object\n",
    "keras_model = KerasClassifier(model=create_model, verbose=0)\n",
    "\n",
    "# Define the hyperparameters grid\n",
    "param_grid = {\n",
    "    'batch_size': [16],\n",
    "    'epochs': [30],\n",
    "    'optimizer': ['adam'],\n",
    "}\n",
    "\n",
    "# Create GridSearchCV\n",
    "grid_search = GridSearchCV(estimator=keras_model, param_grid=param_grid, cv=3, verbose=2, n_jobs=-1)\n",
    "\n",
    "# Fit the model\n",
    "grid_search.fit(X_train, y_train)\n",
    "\n",
    "# Get the best parameters\n",
    "best_params = grid_search.best_params_\n",
    "print(\"Best Parameters:\", best_params)\n",
    "\n",
    "# Predictions\n",
    "y_train_pred = grid_search.predict(X_train)\n",
    "y_test_pred = grid_search.predict(X_test)\n",
    "\n",
    "# Calculate metrics for train set\n",
    "train_accuracy = accuracy_score(y_train, y_train_pred)\n",
    "train_precision = precision_score(y_train, y_train_pred, average='weighted')\n",
    "train_recall = recall_score(y_train, y_train_pred, average='weighted')\n",
    "train_f1 = f1_score(y_train, y_train_pred, average='weighted')\n",
    "\n",
    "# Calculate metrics for test set\n",
    "test_accuracy = accuracy_score(y_test, y_test_pred)\n",
    "test_precision = precision_score(y_test, y_test_pred, average='weighted')\n",
    "test_recall = recall_score(y_test, y_test_pred, average='weighted')\n",
    "test_f1 = f1_score(y_test, y_test_pred, average='weighted')\n",
    "\n",
    "# Print the metrics\n",
    "print(\"Train Accuracy:\", train_accuracy)\n",
    "print(\"Train Precision:\", train_precision)\n",
    "print(\"Train Recall:\", train_recall)\n",
    "print(\"Train F1 Score:\", train_f1)\n",
    "print(\"Test Accuracy:\", test_accuracy)\n",
    "print(\"Test Precision:\", test_precision)\n",
    "print(\"Test Recall:\", test_recall)\n",
    "print(\"Test F1 Score:\", test_f1)\n",
    "\n",
    "# Save the best model using pickle\n",
    "best_model = grid_search.best_estimator_\n",
    "with open(\"best_model.pkl\", \"wb\") as f:\n",
    "    pickle.dump(best_model, f)\n"
   ]
  },
  {
   "cell_type": "code",
   "execution_count": 43,
   "id": "0f310c76-155e-4f32-a634-9cf8afe874a6",
   "metadata": {},
   "outputs": [
    {
     "data": {
      "image/png": "[encoded data removed]",
      "text/plain": [
       "<Figure size 800x600 with 2 Axes>"
      ]
     },
     "metadata": {},
     "output_type": "display_data"
    },
    {
     "name": "stdout",
     "output_type": "stream",
     "text": [
      "Confusion Matrix for Test Set:\n",
      "[[5900  213  348]\n",
      " [ 279 5677  490]\n",
      " [ 759  644 5030]]\n"
     ]
    }
   ],
   "source": [
    "# Confusion matrix for test set\n",
    "from sklearn.metrics import confusion_matrix\n",
    "import matplotlib.pyplot as plt\n",
    "import seaborn as sns\n",
    "\n",
    "# Confusion matrix for test set\n",
    "conf_matrix_test = confusion_matrix(y_test, y_test_pred)\n",
    "\n",
    "# Define class labels\n",
    "class_labels = ['Negative', 'Neutral', 'Positive']\n",
    "\n",
    "# Create a heatmap for the confusion matrix\n",
    "plt.figure(figsize=(8, 6))\n",
    "sns.heatmap(conf_matrix_test, annot=True, cmap='Blues', fmt='g', xticklabels=class_labels, yticklabels=class_labels)\n",
    "plt.xlabel('Predicted labels')\n",
    "plt.ylabel('True labels')\n",
    "plt.title('Confusion Matrix for Test Set')\n",
    "plt.show()\n",
    "conf_matrix_test = confusion_matrix(y_test, y_test_pred)\n",
    "print(\"Confusion Matrix for Test Set:\")\n",
    "print(conf_matrix_test)"
   ]
  },
  {
   "cell_type": "code",
   "execution_count": 44,
   "id": "c610c007-c056-4e28-8676-66bad19a07e7",
   "metadata": {
    "tags": []
   },
   "outputs": [
    {
     "name": "stdout",
     "output_type": "stream",
     "text": [
      "Classes encoded by LabelEncoder: ['Negative' 'Neutral' 'Positive']\n",
      "Mapping of classes to numerical values: {'Negative': 0, 'Neutral': 1, 'Positive': 2}\n"
     ]
    }
   ],
   "source": [
    "# Inspect classes encoded by LabelEncoder\n",
    "print(\"Classes encoded by LabelEncoder:\", label_encoder.classes_)\n",
    "\n",
    "# Inspect numerical values assigned to classes\n",
    "numerical_values = label_encoder.transform(label_encoder.classes_)\n",
    "mapping = dict(zip(label_encoder.classes_, numerical_values))\n",
    "print(\"Mapping of classes to numerical values:\", mapping)"
   ]
  },
  {
   "cell_type": "markdown",
   "id": "f645c90b-f275-4c0c-a2d4-c83b67867657",
   "metadata": {},
   "source": [
    "## Import new data "
   ]
  },
  {
   "cell_type": "code",
   "execution_count": 51,
   "id": "4739db8f-312d-488b-92bb-146741337d81",
   "metadata": {
    "tags": []
   },
   "outputs": [
    {
     "name": "stdin",
     "output_type": "stream",
     "text": [
      "Please enter the file pathway:  /Users/matthewbatchelor/Downloads/test_data - test_input_2.csv\n"
     ]
    },
    {
     "name": "stdout",
     "output_type": "stream",
     "text": [
      "Error: File not found.\n",
      "The average number of characters in the 'text' column is: 790.05\n",
      "- Preprocessing step 1/9: Null value check done. Number of dropped rows due to null values: 0\n"
     ]
    },
    {
     "name": "stderr",
     "output_type": "stream",
     "text": [
      "[nltk_data] Downloading package punkt to\n",
      "[nltk_data]     /Users/matthewbatchelor/nltk_data...\n",
      "[nltk_data]   Package punkt is already up-to-date!\n",
      "[nltk_data] Downloading package stopwords to\n",
      "[nltk_data]     /Users/matthewbatchelor/nltk_data...\n",
      "[nltk_data]   Package stopwords is already up-to-date!\n",
      "WARNING:gensim.models.word2vec:Each 'sentences' item should be a list of words (usually unicode strings). First item here is instead plain <class 'str'>.\n"
     ]
    },
    {
     "name": "stdout",
     "output_type": "stream",
     "text": [
      "- Preprocessing step 2/9: Text has been tokenized successfully!\n",
      "- Preprocessing step 3/9: Tokenized text lowercased successfully!\n",
      "- Preprocessing step 4/9: Punctuation removed from tokenized text successfully!\n",
      "- Preprocessing step 5/9: Stopwords removed from tokenized text successfully!\n",
      "- Preprocessing step 6/9: Blank text removed from tokenized text successfully!\n",
      "- Preprocessing step 7/9: Numerical values removed from tokenized text successfully!\n",
      "- Preprocessing step 8/9: Special characters removed from tokenized text successfully!\n",
      "- Preprocessing step 9/9: One letter words removed from tokenized text successfully!\n",
      "- Preprocessing complete!\n",
      "Tokenized and preprocessed text data has been stemmed with Porter Stemmer!\n"
     ]
    },
    {
     "name": "stderr",
     "output_type": "stream",
     "text": [
      "2024-03-11 09:14:45.411866: W tensorflow/core/util/tensor_slice_reader.cc:97] Could not open ram://a49c81a7ecd449328227d08ea3e10b06: INVALID_ARGUMENT: ram://a49c81a7ecd449328227d08ea3e10b06 is a directory.\n"
     ]
    },
    {
     "name": "stdout",
     "output_type": "stream",
     "text": [
      "Sentiment labelled successfully!\n"
     ]
    },
    {
     "data": {
      "text/html": [
       "<div>\n",
       "<style scoped>\n",
       "    .dataframe tbody tr th:only-of-type {\n",
       "        vertical-align: middle;\n",
       "    }\n",
       "\n",
       "    .dataframe tbody tr th {\n",
       "        vertical-align: top;\n",
       "    }\n",
       "\n",
       "    .dataframe thead th {\n",
       "        text-align: right;\n",
       "    }\n",
       "</style>\n",
       "<table border=\"1\" class=\"dataframe\">\n",
       "  <thead>\n",
       "    <tr style=\"text-align: right;\">\n",
       "      <th></th>\n",
       "      <th>unique identifier</th>\n",
       "      <th>text</th>\n",
       "      <th>predicted_sentiment</th>\n",
       "    </tr>\n",
       "  </thead>\n",
       "  <tbody>\n",
       "    <tr>\n",
       "      <th>0</th>\n",
       "      <td>1</td>\n",
       "      <td>nice hotel expensive parking got good deal sta...</td>\n",
       "      <td>Positive</td>\n",
       "    </tr>\n",
       "    <tr>\n",
       "      <th>1</th>\n",
       "      <td>2</td>\n",
       "      <td>ok nothing special charge diamond member hilto...</td>\n",
       "      <td>Neutral</td>\n",
       "    </tr>\n",
       "    <tr>\n",
       "      <th>2</th>\n",
       "      <td>3</td>\n",
       "      <td>nice rooms not 4* experience hotel monaco seat...</td>\n",
       "      <td>Positive</td>\n",
       "    </tr>\n",
       "    <tr>\n",
       "      <th>3</th>\n",
       "      <td>4</td>\n",
       "      <td>unique, great stay, wonderful time hotel monac...</td>\n",
       "      <td>Negative</td>\n",
       "    </tr>\n",
       "    <tr>\n",
       "      <th>4</th>\n",
       "      <td>5</td>\n",
       "      <td>great stay great stay, went seahawk game aweso...</td>\n",
       "      <td>Positive</td>\n",
       "    </tr>\n",
       "    <tr>\n",
       "      <th>5</th>\n",
       "      <td>6</td>\n",
       "      <td>love monaco staff husband stayed hotel crazy w...</td>\n",
       "      <td>Positive</td>\n",
       "    </tr>\n",
       "    <tr>\n",
       "      <th>6</th>\n",
       "      <td>7</td>\n",
       "      <td>cozy stay rainy city, husband spent 7 nights m...</td>\n",
       "      <td>Positive</td>\n",
       "    </tr>\n",
       "    <tr>\n",
       "      <th>7</th>\n",
       "      <td>8</td>\n",
       "      <td>excellent staff, housekeeping quality hotel ch...</td>\n",
       "      <td>Negative</td>\n",
       "    </tr>\n",
       "    <tr>\n",
       "      <th>8</th>\n",
       "      <td>9</td>\n",
       "      <td>hotel stayed hotel monaco cruise, rooms genero...</td>\n",
       "      <td>Positive</td>\n",
       "    </tr>\n",
       "    <tr>\n",
       "      <th>9</th>\n",
       "      <td>10</td>\n",
       "      <td>excellent stayed hotel monaco past w/e delight...</td>\n",
       "      <td>Neutral</td>\n",
       "    </tr>\n",
       "    <tr>\n",
       "      <th>10</th>\n",
       "      <td>11</td>\n",
       "      <td>poor value stayed monaco seattle july, nice ho...</td>\n",
       "      <td>Neutral</td>\n",
       "    </tr>\n",
       "    <tr>\n",
       "      <th>11</th>\n",
       "      <td>12</td>\n",
       "      <td>nice value seattle stayed 4 nights late 2007. ...</td>\n",
       "      <td>Negative</td>\n",
       "    </tr>\n",
       "    <tr>\n",
       "      <th>12</th>\n",
       "      <td>13</td>\n",
       "      <td>nice hotel good location hotel kimpton design ...</td>\n",
       "      <td>Positive</td>\n",
       "    </tr>\n",
       "    <tr>\n",
       "      <th>13</th>\n",
       "      <td>14</td>\n",
       "      <td>nice hotel not nice staff hotel lovely staff q...</td>\n",
       "      <td>Neutral</td>\n",
       "    </tr>\n",
       "    <tr>\n",
       "      <th>14</th>\n",
       "      <td>15</td>\n",
       "      <td>great hotel night quick business trip, loved l...</td>\n",
       "      <td>Neutral</td>\n",
       "    </tr>\n",
       "    <tr>\n",
       "      <th>15</th>\n",
       "      <td>16</td>\n",
       "      <td>horrible customer service hotel stay february ...</td>\n",
       "      <td>Positive</td>\n",
       "    </tr>\n",
       "    <tr>\n",
       "      <th>16</th>\n",
       "      <td>17</td>\n",
       "      <td>disappointed say anticipating stay hotel monac...</td>\n",
       "      <td>Negative</td>\n",
       "    </tr>\n",
       "    <tr>\n",
       "      <th>17</th>\n",
       "      <td>18</td>\n",
       "      <td>fantastic stay monaco seattle hotel monaco hol...</td>\n",
       "      <td>Neutral</td>\n",
       "    </tr>\n",
       "    <tr>\n",
       "      <th>18</th>\n",
       "      <td>19</td>\n",
       "      <td>good choice hotel recommended sister, great lo...</td>\n",
       "      <td>Positive</td>\n",
       "    </tr>\n",
       "    <tr>\n",
       "      <th>19</th>\n",
       "      <td>20</td>\n",
       "      <td>hmmmmm say really high hopes hotel monaco chos...</td>\n",
       "      <td>Negative</td>\n",
       "    </tr>\n",
       "  </tbody>\n",
       "</table>\n",
       "</div>"
      ],
      "text/plain": [
       "    unique identifier                                               text  \\\n",
       "0                   1  nice hotel expensive parking got good deal sta...   \n",
       "1                   2  ok nothing special charge diamond member hilto...   \n",
       "2                   3  nice rooms not 4* experience hotel monaco seat...   \n",
       "3                   4  unique, great stay, wonderful time hotel monac...   \n",
       "4                   5  great stay great stay, went seahawk game aweso...   \n",
       "5                   6  love monaco staff husband stayed hotel crazy w...   \n",
       "6                   7  cozy stay rainy city, husband spent 7 nights m...   \n",
       "7                   8  excellent staff, housekeeping quality hotel ch...   \n",
       "8                   9  hotel stayed hotel monaco cruise, rooms genero...   \n",
       "9                  10  excellent stayed hotel monaco past w/e delight...   \n",
       "10                 11  poor value stayed monaco seattle july, nice ho...   \n",
       "11                 12  nice value seattle stayed 4 nights late 2007. ...   \n",
       "12                 13  nice hotel good location hotel kimpton design ...   \n",
       "13                 14  nice hotel not nice staff hotel lovely staff q...   \n",
       "14                 15  great hotel night quick business trip, loved l...   \n",
       "15                 16  horrible customer service hotel stay february ...   \n",
       "16                 17  disappointed say anticipating stay hotel monac...   \n",
       "17                 18  fantastic stay monaco seattle hotel monaco hol...   \n",
       "18                 19  good choice hotel recommended sister, great lo...   \n",
       "19                 20  hmmmmm say really high hopes hotel monaco chos...   \n",
       "\n",
       "   predicted_sentiment  \n",
       "0             Positive  \n",
       "1              Neutral  \n",
       "2             Positive  \n",
       "3             Negative  \n",
       "4             Positive  \n",
       "5             Positive  \n",
       "6             Positive  \n",
       "7             Negative  \n",
       "8             Positive  \n",
       "9              Neutral  \n",
       "10             Neutral  \n",
       "11            Negative  \n",
       "12            Positive  \n",
       "13             Neutral  \n",
       "14             Neutral  \n",
       "15            Positive  \n",
       "16            Negative  \n",
       "17             Neutral  \n",
       "18            Positive  \n",
       "19            Negative  "
      ]
     },
     "execution_count": 51,
     "metadata": {},
     "output_type": "execute_result"
    }
   ],
   "source": [
    "# USER INPUT \n",
    "\n",
    "file_path = input(\"Please enter the file pathway: \")\n",
    "\n",
    "try:\n",
    "    # Attempt to read the file into a DataFrame\n",
    "    df = pd.read_csv(file_path)  # Assuming the file is a CSV file, change the function accordingly for other file types\n",
    "    print(\"DataFrame created successfully:\")\n",
    "    print(df.head())  # Print the first few rows of the DataFrame\n",
    "    print(df.info())  # Print info about the dataframe \n",
    "except FileNotFoundError:\n",
    "    # Handle the case when the file is not found\n",
    "    print(\"Error: File not found.\")\n",
    "except Exception as e:\n",
    "    # Handle any other exceptions that might occur\n",
    "    print(\"An error occurred:\", e)\n",
    "\n",
    "# NULL VALUES CHECK     \n",
    "\n",
    "# Check for null values \n",
    "\n",
    "# Count null values in 'review/text' column before dropping\n",
    "null_count_before = df['text'].isnull().sum()\n",
    "\n",
    "# Drop rows with null values in 'review/text' column\n",
    "df.dropna(subset=['text'], inplace=True)\n",
    "\n",
    "# Count null values in 'review/text' column after dropping\n",
    "null_count_after = df['text'].isnull().sum()\n",
    "\n",
    "# Calculate the count of dropped rows\n",
    "dropped_count = null_count_before - null_count_after\n",
    "\n",
    "# Calculate average number of characters in text column \n",
    "average_chars = df['text'].apply(len).mean()\n",
    "print(f\"The average number of characters in the 'text' column is: {average_chars:.2f}\")\n",
    "\n",
    "# Print the count of dropped rows\n",
    "print(\"- Preprocessing step 1/9: Null value check done. Number of dropped rows due to null values:\", dropped_count)\n",
    "\n",
    "# TOKENIZING\n",
    "\n",
    "import nltk\n",
    "from nltk.tokenize import word_tokenize\n",
    "\n",
    "# Ensure that you have the 'punkt' tokenizer models downloaded\n",
    "nltk.download('punkt')\n",
    "\n",
    "# Convert values in the 'review/text' column to strings and then tokenize\n",
    "df['tokens'] = df['text'].astype(str).apply(word_tokenize)\n",
    "\n",
    "print(\"- Preprocessing step 2/9: Text has been tokenized successfully!\")\n",
    "\n",
    "# PREPROCESSING TOKENIZED DATA \n",
    "\n",
    "# Function to lowercase each word in a list of tokens\n",
    "def lowercase_tokens(tokens_list):\n",
    "    return [word.lower() for word in tokens_list]\n",
    "\n",
    "# Apply lowercase conversion to each list of tokens in the 'tokens' column\n",
    "df.loc[:, 'tokens'] = df['tokens'].apply(lowercase_tokens)\n",
    "print(\"- Preprocessing step 3/9: Tokenized text lowercased successfully!\")\n",
    "\n",
    "import re\n",
    "# Apply punctuation removal using a lambda function\n",
    "df['tokens'] = df['tokens'].apply(lambda tokens_list: [re.sub(r'[^\\w\\s]', '', word) for word in tokens_list] if isinstance(tokens_list, list) else [])\n",
    "print(\"- Preprocessing step 4/9: Punctuation removed from tokenized text successfully!\")\n",
    "\n",
    "from nltk.corpus import stopwords\n",
    "# Download NLTK stopwords if not already downloaded\n",
    "nltk.download('stopwords')\n",
    "# Get the English stopwords from NLTK\n",
    "stop_words = set(stopwords.words('english'))\n",
    "# Remove stopwords from the 'tokens' column\n",
    "df['tokens'] = df['tokens'].apply(lambda x: [word for word in x if word not in stop_words])\n",
    "print(\"- Preprocessing step 5/9: Stopwords removed from tokenized text successfully!\")\n",
    "\n",
    "# Remove blank text from the list of tokens\n",
    "df['tokens'] = df['tokens'].apply(lambda tokens_list: [token for token in tokens_list if token.strip() != ''])\n",
    "print(\"- Preprocessing step 6/9: Blank text removed from tokenized text successfully!\")\n",
    "\n",
    "# Remove numerical values \n",
    "df['tokens'] = df['tokens'].apply(lambda x: [token for token in x if not token.isdigit()])\n",
    "print(\"- Preprocessing step 7/9: Numerical values removed from tokenized text successfully!\")\n",
    "\n",
    "# Remove special characters \n",
    "df['tokens'] = df['tokens'].apply(lambda x: [re.sub(r'\\W', '', token) for token in x])\n",
    "print(\"- Preprocessing step 8/9: Special characters removed from tokenized text successfully!\")\n",
    "\n",
    "# Remove words with just one letter \n",
    "\n",
    "# Define the target words to count\n",
    "target_words = ['a', 'b', 'c', 'd', 'e', 'f', 'g', 'h', 'i', 'j', 'k', 'l', 'm', 'n', 'o', 'p', 'q', 'r', 's', 't', 'u', 'v', 'w', 'x', 'y', 'z']\n",
    "\n",
    "# Initialize counts for each target word\n",
    "word_counts = {word: 0 for word in target_words}\n",
    "\n",
    "# Iterate over the tokens and count occurrences of target words\n",
    "for tokens_list in df['tokens']:\n",
    "    for word in tokens_list:\n",
    "        for target_word in target_words:\n",
    "            if target_word == word:\n",
    "                word_counts[target_word] += 1\n",
    "            elif target_word.strip() == word:\n",
    "                word_counts[target_word] += 1\n",
    "\n",
    "df['tokens'] = df['tokens'].apply(lambda tokens_list: [word for word in tokens_list if word not in target_words and word.strip() not in target_words])\n",
    "print(\"- Preprocessing step 9/9: One letter words removed from tokenized text successfully!\")\n",
    "print(\"- Preprocessing complete!\")\n",
    "\n",
    "# TOKEN NORMALIZATION\n",
    "\n",
    "from nltk.stem import PorterStemmer\n",
    "\n",
    "# Initialize PorterStemmer\n",
    "stemmer = PorterStemmer()\n",
    "\n",
    "# Apply stemming to tokens\n",
    "df['tokens'] = df['tokens'].apply(lambda x: ' '.join([stemmer.stem(word) for word in x]))\n",
    "print(\"Tokenized and preprocessed text data has been stemmed with Porter Stemmer!\")\n",
    "\n",
    "# Reset index\n",
    "\n",
    "df.reset_index(drop=True, inplace=True)\n",
    "\n",
    "# WORD EMBEDDING\n",
    "\n",
    "from gensim.models import Word2Vec\n",
    "from nltk.tokenize import word_tokenize\n",
    "import numpy as np\n",
    "\n",
    "# Load pre-trained Word2Vec model \n",
    "word2vec_model = Word2Vec(df['tokens'], min_count=1)\n",
    "\n",
    "# Function to apply word embeddings\n",
    "def apply_word_embeddings(tokens):\n",
    "    word_vectors = []\n",
    "    for token in tokens:\n",
    "        if token in word2vec_model.wv:\n",
    "            word_vector = word2vec_model.wv[token]  # Get word vector\n",
    "            word_vectors.append(word_vector)\n",
    "    if word_vectors:\n",
    "        tweet_vector = np.mean(word_vectors, axis=0)  # Aggregate word vectors\n",
    "        return tweet_vector\n",
    "    else:\n",
    "        return None\n",
    "\n",
    "# Apply word embeddings to the 'tokens' column\n",
    "df['word_embeddings'] = df['tokens'].apply(apply_word_embeddings)\n",
    "\n",
    "# Drop rows with None values in 'word_embeddings' column\n",
    "df = df.dropna(subset=['word_embeddings'])\n",
    "df.head()\n",
    "\n",
    "# Load the saved model using pickle\n",
    "with open('best_model.pkl', 'rb') as f:\n",
    "    model = pickle.load(f)\n",
    "\n",
    "# Convert word embeddings to numpy array\n",
    "X_new = np.array(df['word_embeddings'].tolist())\n",
    "\n",
    "# Standardize features if necessary\n",
    "scaler = StandardScaler()\n",
    "scaler.fit(X_new)\n",
    "X_new_scaled = scaler.transform(X_new)\n",
    "\n",
    "# Make predictions on the new data\n",
    "sentiment = model.predict(X_new_scaled)\n",
    "\n",
    "print(\"Sentiment labelled successfully!\")\n",
    "\n",
    "# Add predictions column to dataframe \n",
    "df['sentiment'] = sentiment\n",
    "\n",
    "# Define a mapping between numerical sentiment values and sentiment labels (see body of code above this for reference of how Label Encoder handled sentiment)\n",
    "sentiment_mapping = {\n",
    "    0: \"Negative\",\n",
    "    1: \"Neutral\",\n",
    "    2: \"Positive\"\n",
    "}\n",
    "\n",
    "# Map numerical sentiment predictions to sentiment labels\n",
    "df['predicted_sentiment'] = df['sentiment'].map(sentiment_mapping)\n",
    "\n",
    "# Drop columns 'tokens' and 'word_embeddings' for readability \n",
    "df.drop(columns=['tokens', 'word_embeddings', 'sentiment'], inplace=True)\n",
    "\n",
    "df"
   ]
  },
  {
   "cell_type": "code",
   "execution_count": null,
   "id": "ca3791e8-2658-4866-b6b6-0c61119f6fb7",
   "metadata": {
    "tags": []
   },
   "outputs": [],
   "source": [
    "# test csv : /Users/matthewbatchelor/Downloads/test_data - test_input_2.csv"
   ]
  },
  {
   "cell_type": "markdown",
   "id": "fcef447e-208e-4e82-beab-94651785e26b",
   "metadata": {},
   "source": [
    "## Visualizing the results "
   ]
  },
  {
   "cell_type": "code",
   "execution_count": 50,
   "id": "4ab449fa-51d8-466e-b567-5b53aa490635",
   "metadata": {},
   "outputs": [
    {
     "data": {
      "image/png": "[encoded data removed]",
      "text/plain": [
       "<Figure size 800x600 with 1 Axes>"
      ]
     },
     "metadata": {},
     "output_type": "display_data"
    },
    {
     "name": "stdout",
     "output_type": "stream",
     "text": [
      "\u001b[1m\u001b[94mValue counts of 'predicted_sentiment' column:\u001b[0m\n",
      "predicted_sentiment\n",
      "Positive    9\n",
      "Negative    8\n",
      "Neutral     3\n",
      "Name: count, dtype: int64\n",
      "\n",
      "\u001b[1m\u001b[94mSummary Metrics:\u001b[0m\n",
      "\u001b[1mTotal Samples:\u001b[0m 20\n",
      "\u001b[1mPositive Samples:\u001b[0m 9 (45.00%)\n",
      "\u001b[1mNeutral Samples:\u001b[0m 3 (15.00%)\n",
      "\u001b[1mNegative Samples:\u001b[0m 8 (40.00%)\n",
      "The leading sentiment is Positive.\n"
     ]
    }
   ],
   "source": [
    "import matplotlib.pyplot as plt\n",
    "\n",
    "# Calculate value counts of 'predicted_sentiment' column\n",
    "sentiment_value_counts = df['predicted_sentiment'].value_counts()\n",
    "\n",
    "# Plotting\n",
    "plt.figure(figsize=(8, 6))\n",
    "sentiment_value_counts.plot(kind='bar', color=['blue'])  # Adjust color scheme here\n",
    "plt.title('Sentiment Distribution')\n",
    "plt.xlabel('Sentiment')\n",
    "plt.ylabel('Count')\n",
    "plt.xticks(rotation=0)\n",
    "plt.show()\n",
    "\n",
    "# Display the value counts\n",
    "print(\"\\033[1m\\033[94mValue counts of 'predicted_sentiment' column:\\033[0m\")\n",
    "print(sentiment_value_counts)\n",
    "\n",
    "# Calculate summary metrics\n",
    "total_samples = sentiment_value_counts.sum()\n",
    "positive_samples = sentiment_value_counts.get('Positive', 0)\n",
    "neutral_samples = sentiment_value_counts.get('Neutral', 0)\n",
    "negative_samples = sentiment_value_counts.get('Negative', 0)\n",
    "\n",
    "# Calculate percentages\n",
    "positive_percentage = (positive_samples / total_samples) * 100\n",
    "neutral_percentage = (neutral_samples / total_samples) * 100\n",
    "negative_percentage = (negative_samples / total_samples) * 100\n",
    "\n",
    "# Display summary metrics\n",
    "print(\"\\n\\033[1m\\033[94mSummary Metrics:\\033[0m\")\n",
    "print(\"\\033[1mTotal Samples:\\033[0m\", total_samples)\n",
    "print(\"\\033[1mPositive Samples:\\033[0m\", positive_samples, f\"({positive_percentage:.2f}%)\")\n",
    "print(\"\\033[1mNeutral Samples:\\033[0m\", neutral_samples, f\"({neutral_percentage:.2f}%)\")\n",
    "print(\"\\033[1mNegative Samples:\\033[0m\", negative_samples, f\"({negative_percentage:.2f}%)\")\n",
    "\n",
    "overall_sentiment = df['predicted_sentiment'].value_counts().idxmax()\n",
    "print(f\"The leading sentiment is {overall_sentiment}.\")"
   ]
  },
  {
   "cell_type": "code",
   "execution_count": null,
   "id": "3daba65b-d66a-4a48-8ed0-fa8e515cc9a1",
   "metadata": {},
   "outputs": [],
   "source": []
  }
 ],
 "metadata": {
  "kernelspec": {
   "display_name": "Python 3 (ipykernel)",
   "language": "python",
   "name": "python3"
  },
  "language_info": {
   "codemirror_mode": {
    "name": "ipython",
    "version": 3
   },
   "file_extension": ".py",
   "mimetype": "text/x-python",
   "name": "python",
   "nbconvert_exporter": "python",
   "pygments_lexer": "ipython3",
   "version": "3.11.5"
  }
 },
 "nbformat": 4,
 "nbformat_minor": 5
}
