{
 "cells": [
  {
   "cell_type": "markdown",
   "id": "0d58ce08-8fc4-4c43-9033-a9f61206ac26",
   "metadata": {},
   "source": [
    "## Cycle 2 Iteration 3 description "
   ]
  },
  {
   "cell_type": "markdown",
   "id": "03998420-c155-4629-aac6-a986e6c0444c",
   "metadata": {},
   "source": [
    "As I noticed the accuracy increased with each epoch in Cycle 2 Iteration 1, I decided to increase the number of epochs to 30 to understand the effect. "
   ]
  },
  {
   "cell_type": "markdown",
   "id": "e7e23909-fc2e-453c-acc7-82df002ecf18",
   "metadata": {},
   "source": [
    "## Import libraries "
   ]
  },
  {
   "cell_type": "code",
   "execution_count": 1,
   "id": "758fda44-4274-464d-9e06-4829a86c9af6",
   "metadata": {
    "tags": []
   },
   "outputs": [],
   "source": [
    "import pandas as pd\n",
    "import matplotlib.pyplot as plt"
   ]
  },
  {
   "cell_type": "markdown",
   "id": "b1b60e59-4166-4fbd-a76c-e59a758d5404",
   "metadata": {},
   "source": [
    "## Import CSV"
   ]
  },
  {
   "cell_type": "code",
   "execution_count": 2,
   "id": "0d3f9432-c376-4be7-b68e-e15bb1df6a80",
   "metadata": {
    "tags": []
   },
   "outputs": [
    {
     "data": {
      "text/html": [
       "<div>\n",
       "<style scoped>\n",
       "    .dataframe tbody tr th:only-of-type {\n",
       "        vertical-align: middle;\n",
       "    }\n",
       "\n",
       "    .dataframe tbody tr th {\n",
       "        vertical-align: top;\n",
       "    }\n",
       "\n",
       "    .dataframe thead th {\n",
       "        text-align: right;\n",
       "    }\n",
       "</style>\n",
       "<table border=\"1\" class=\"dataframe\">\n",
       "  <thead>\n",
       "    <tr style=\"text-align: right;\">\n",
       "      <th></th>\n",
       "      <th>tweet_id</th>\n",
       "      <th>sentiment</th>\n",
       "      <th>content</th>\n",
       "    </tr>\n",
       "  </thead>\n",
       "  <tbody>\n",
       "    <tr>\n",
       "      <th>0</th>\n",
       "      <td>1956967341</td>\n",
       "      <td>empty</td>\n",
       "      <td>@tiffanylue i know  i was listenin to bad habi...</td>\n",
       "    </tr>\n",
       "    <tr>\n",
       "      <th>1</th>\n",
       "      <td>1956967666</td>\n",
       "      <td>sadness</td>\n",
       "      <td>Layin n bed with a headache  ughhhh...waitin o...</td>\n",
       "    </tr>\n",
       "    <tr>\n",
       "      <th>2</th>\n",
       "      <td>1956967696</td>\n",
       "      <td>sadness</td>\n",
       "      <td>Funeral ceremony...gloomy friday...</td>\n",
       "    </tr>\n",
       "    <tr>\n",
       "      <th>3</th>\n",
       "      <td>1956967789</td>\n",
       "      <td>enthusiasm</td>\n",
       "      <td>wants to hang out with friends SOON!</td>\n",
       "    </tr>\n",
       "    <tr>\n",
       "      <th>4</th>\n",
       "      <td>1956968416</td>\n",
       "      <td>neutral</td>\n",
       "      <td>@dannycastillo We want to trade with someone w...</td>\n",
       "    </tr>\n",
       "    <tr>\n",
       "      <th>...</th>\n",
       "      <td>...</td>\n",
       "      <td>...</td>\n",
       "      <td>...</td>\n",
       "    </tr>\n",
       "    <tr>\n",
       "      <th>39995</th>\n",
       "      <td>1753918954</td>\n",
       "      <td>neutral</td>\n",
       "      <td>@JohnLloydTaylor</td>\n",
       "    </tr>\n",
       "    <tr>\n",
       "      <th>39996</th>\n",
       "      <td>1753919001</td>\n",
       "      <td>love</td>\n",
       "      <td>Happy Mothers Day  All my love</td>\n",
       "    </tr>\n",
       "    <tr>\n",
       "      <th>39997</th>\n",
       "      <td>1753919005</td>\n",
       "      <td>love</td>\n",
       "      <td>Happy Mother's Day to all the mommies out ther...</td>\n",
       "    </tr>\n",
       "    <tr>\n",
       "      <th>39998</th>\n",
       "      <td>1753919043</td>\n",
       "      <td>happiness</td>\n",
       "      <td>@niariley WASSUP BEAUTIFUL!!! FOLLOW ME!!  PEE...</td>\n",
       "    </tr>\n",
       "    <tr>\n",
       "      <th>39999</th>\n",
       "      <td>1753919049</td>\n",
       "      <td>love</td>\n",
       "      <td>@mopedronin bullet train from tokyo    the gf ...</td>\n",
       "    </tr>\n",
       "  </tbody>\n",
       "</table>\n",
       "<p>40000 rows × 3 columns</p>\n",
       "</div>"
      ],
      "text/plain": [
       "         tweet_id   sentiment  \\\n",
       "0      1956967341       empty   \n",
       "1      1956967666     sadness   \n",
       "2      1956967696     sadness   \n",
       "3      1956967789  enthusiasm   \n",
       "4      1956968416     neutral   \n",
       "...           ...         ...   \n",
       "39995  1753918954     neutral   \n",
       "39996  1753919001        love   \n",
       "39997  1753919005        love   \n",
       "39998  1753919043   happiness   \n",
       "39999  1753919049        love   \n",
       "\n",
       "                                                 content  \n",
       "0      @tiffanylue i know  i was listenin to bad habi...  \n",
       "1      Layin n bed with a headache  ughhhh...waitin o...  \n",
       "2                    Funeral ceremony...gloomy friday...  \n",
       "3                   wants to hang out with friends SOON!  \n",
       "4      @dannycastillo We want to trade with someone w...  \n",
       "...                                                  ...  \n",
       "39995                                   @JohnLloydTaylor  \n",
       "39996                     Happy Mothers Day  All my love  \n",
       "39997  Happy Mother's Day to all the mommies out ther...  \n",
       "39998  @niariley WASSUP BEAUTIFUL!!! FOLLOW ME!!  PEE...  \n",
       "39999  @mopedronin bullet train from tokyo    the gf ...  \n",
       "\n",
       "[40000 rows x 3 columns]"
      ]
     },
     "execution_count": 2,
     "metadata": {},
     "output_type": "execute_result"
    }
   ],
   "source": [
    "df = pd.read_csv('tweet_emotions.csv')\n",
    "df"
   ]
  },
  {
   "cell_type": "markdown",
   "id": "0e778d41-e951-400a-95ee-825c9c452cec",
   "metadata": {
    "tags": []
   },
   "source": [
    "## Preprocessing "
   ]
  },
  {
   "cell_type": "code",
   "execution_count": 3,
   "id": "b649a45f-fccb-4220-a139-30ba65de4766",
   "metadata": {
    "tags": []
   },
   "outputs": [
    {
     "data": {
      "text/plain": [
       "array(['empty', 'sadness', 'enthusiasm', 'neutral', 'worry', 'surprise',\n",
       "       'love', 'fun', 'hate', 'happiness', 'boredom', 'relief', 'anger'],\n",
       "      dtype=object)"
      ]
     },
     "execution_count": 3,
     "metadata": {},
     "output_type": "execute_result"
    }
   ],
   "source": [
    "df['sentiment'].unique()"
   ]
  },
  {
   "cell_type": "code",
   "execution_count": 4,
   "id": "f6bd7acb-14bb-4b2e-a13c-9ff7c26b0423",
   "metadata": {
    "tags": []
   },
   "outputs": [
    {
     "name": "stderr",
     "output_type": "stream",
     "text": [
      "/var/folders/cr/qlkb4cqn3vn0pb1jrc5s04800000gn/T/ipykernel_9207/962842564.py:2: MatplotlibDeprecationWarning: The seaborn styles shipped by Matplotlib are deprecated since 3.6, as they no longer correspond to the styles shipped by seaborn. However, they will remain available as 'seaborn-v0_8-<style>'. Alternatively, directly use the seaborn API instead.\n",
      "  plt.style.use('seaborn-darkgrid')\n"
     ]
    },
    {
     "data": {
      "image/png": "[encoded data removed]",
      "text/plain": [
       "<Figure size 640x480 with 1 Axes>"
      ]
     },
     "metadata": {},
     "output_type": "display_data"
    }
   ],
   "source": [
    "# Set the style of the plot\n",
    "plt.style.use('seaborn-darkgrid')\n",
    "\n",
    "# Create the histogram\n",
    "plt.hist(df['sentiment'], bins=10, color='skyblue', edgecolor='black', alpha=0.7)\n",
    "\n",
    "# Add labels and title\n",
    "plt.xlabel('Sentiment Scores', fontsize=14)\n",
    "plt.ylabel('Frequency', fontsize=14)\n",
    "plt.title('Distribution of Sentiment Scores', fontsize=16)\n",
    "\n",
    "# Add grid and adjust tick parameters\n",
    "plt.grid(axis='y', linestyle='--', alpha=0.7)\n",
    "plt.xticks(rotation=45, fontsize=12)  # Rotate x-axis labels by 45 degrees\n",
    "plt.yticks(fontsize=12)\n",
    "\n",
    "# Show the plot\n",
    "plt.tight_layout()  # Adjust layout to prevent clipping of labels\n",
    "plt.show()"
   ]
  },
  {
   "cell_type": "code",
   "execution_count": 5,
   "id": "838080d7-bcc3-440a-838a-66dc55371369",
   "metadata": {
    "tags": []
   },
   "outputs": [
    {
     "data": {
      "text/plain": [
       "sentiment\n",
       "neutral       8638\n",
       "worry         8459\n",
       "happiness     5209\n",
       "sadness       5165\n",
       "love          3842\n",
       "surprise      2187\n",
       "fun           1776\n",
       "relief        1526\n",
       "hate          1323\n",
       "empty          827\n",
       "enthusiasm     759\n",
       "boredom        179\n",
       "anger          110\n",
       "Name: count, dtype: int64"
      ]
     },
     "execution_count": 5,
     "metadata": {},
     "output_type": "execute_result"
    }
   ],
   "source": [
    "df['sentiment'].value_counts()"
   ]
  },
  {
   "cell_type": "markdown",
   "id": "1243652d-d1bb-4145-939f-6c2e1c8bf865",
   "metadata": {},
   "source": [
    "Author note: This data is imbalanced. "
   ]
  },
  {
   "cell_type": "markdown",
   "id": "e4ce6881-ec51-46a1-9d46-d741eba2de76",
   "metadata": {},
   "source": [
    "Author note: Guidance to reduce the number of emotion groups "
   ]
  },
  {
   "cell_type": "markdown",
   "id": "f17fbe4c-67d3-4098-94a7-3548d519b9ab",
   "metadata": {
    "tags": []
   },
   "source": [
    "Author note: In order to guide the workload of a Customer Success Manager, the following grouping would make sense: \n",
    "\n",
    "Positive Sentiments:\n",
    "\n",
    "- happiness\n",
    "- love\n",
    "- relief\n",
    "- enthusiasm\n",
    "\n",
    "Neutral Sentiments:\n",
    "\n",
    "- neutral\n",
    "- surprise\n",
    "- fun\n",
    "\n",
    "Negative Sentiments:\n",
    "\n",
    "- worry\n",
    "- sadness\n",
    "- hate\n",
    "- empty\n",
    "- boredom\n",
    "- anger"
   ]
  },
  {
   "cell_type": "code",
   "execution_count": 6,
   "id": "014729ff-e949-41cb-b9d8-99cae3d957ac",
   "metadata": {
    "tags": []
   },
   "outputs": [
    {
     "data": {
      "text/html": [
       "<div>\n",
       "<style scoped>\n",
       "    .dataframe tbody tr th:only-of-type {\n",
       "        vertical-align: middle;\n",
       "    }\n",
       "\n",
       "    .dataframe tbody tr th {\n",
       "        vertical-align: top;\n",
       "    }\n",
       "\n",
       "    .dataframe thead th {\n",
       "        text-align: right;\n",
       "    }\n",
       "</style>\n",
       "<table border=\"1\" class=\"dataframe\">\n",
       "  <thead>\n",
       "    <tr style=\"text-align: right;\">\n",
       "      <th></th>\n",
       "      <th>tweet_id</th>\n",
       "      <th>sentiment</th>\n",
       "      <th>content</th>\n",
       "      <th>sentiment_subgroup</th>\n",
       "    </tr>\n",
       "  </thead>\n",
       "  <tbody>\n",
       "    <tr>\n",
       "      <th>0</th>\n",
       "      <td>1956967341</td>\n",
       "      <td>empty</td>\n",
       "      <td>@tiffanylue i know  i was listenin to bad habi...</td>\n",
       "      <td>Negative</td>\n",
       "    </tr>\n",
       "    <tr>\n",
       "      <th>1</th>\n",
       "      <td>1956967666</td>\n",
       "      <td>sadness</td>\n",
       "      <td>Layin n bed with a headache  ughhhh...waitin o...</td>\n",
       "      <td>Negative</td>\n",
       "    </tr>\n",
       "    <tr>\n",
       "      <th>2</th>\n",
       "      <td>1956967696</td>\n",
       "      <td>sadness</td>\n",
       "      <td>Funeral ceremony...gloomy friday...</td>\n",
       "      <td>Negative</td>\n",
       "    </tr>\n",
       "    <tr>\n",
       "      <th>3</th>\n",
       "      <td>1956967789</td>\n",
       "      <td>enthusiasm</td>\n",
       "      <td>wants to hang out with friends SOON!</td>\n",
       "      <td>Positive</td>\n",
       "    </tr>\n",
       "    <tr>\n",
       "      <th>4</th>\n",
       "      <td>1956968416</td>\n",
       "      <td>neutral</td>\n",
       "      <td>@dannycastillo We want to trade with someone w...</td>\n",
       "      <td>Neutral</td>\n",
       "    </tr>\n",
       "    <tr>\n",
       "      <th>...</th>\n",
       "      <td>...</td>\n",
       "      <td>...</td>\n",
       "      <td>...</td>\n",
       "      <td>...</td>\n",
       "    </tr>\n",
       "    <tr>\n",
       "      <th>39995</th>\n",
       "      <td>1753918954</td>\n",
       "      <td>neutral</td>\n",
       "      <td>@JohnLloydTaylor</td>\n",
       "      <td>Neutral</td>\n",
       "    </tr>\n",
       "    <tr>\n",
       "      <th>39996</th>\n",
       "      <td>1753919001</td>\n",
       "      <td>love</td>\n",
       "      <td>Happy Mothers Day  All my love</td>\n",
       "      <td>Positive</td>\n",
       "    </tr>\n",
       "    <tr>\n",
       "      <th>39997</th>\n",
       "      <td>1753919005</td>\n",
       "      <td>love</td>\n",
       "      <td>Happy Mother's Day to all the mommies out ther...</td>\n",
       "      <td>Positive</td>\n",
       "    </tr>\n",
       "    <tr>\n",
       "      <th>39998</th>\n",
       "      <td>1753919043</td>\n",
       "      <td>happiness</td>\n",
       "      <td>@niariley WASSUP BEAUTIFUL!!! FOLLOW ME!!  PEE...</td>\n",
       "      <td>Positive</td>\n",
       "    </tr>\n",
       "    <tr>\n",
       "      <th>39999</th>\n",
       "      <td>1753919049</td>\n",
       "      <td>love</td>\n",
       "      <td>@mopedronin bullet train from tokyo    the gf ...</td>\n",
       "      <td>Positive</td>\n",
       "    </tr>\n",
       "  </tbody>\n",
       "</table>\n",
       "<p>40000 rows × 4 columns</p>\n",
       "</div>"
      ],
      "text/plain": [
       "         tweet_id   sentiment  \\\n",
       "0      1956967341       empty   \n",
       "1      1956967666     sadness   \n",
       "2      1956967696     sadness   \n",
       "3      1956967789  enthusiasm   \n",
       "4      1956968416     neutral   \n",
       "...           ...         ...   \n",
       "39995  1753918954     neutral   \n",
       "39996  1753919001        love   \n",
       "39997  1753919005        love   \n",
       "39998  1753919043   happiness   \n",
       "39999  1753919049        love   \n",
       "\n",
       "                                                 content sentiment_subgroup  \n",
       "0      @tiffanylue i know  i was listenin to bad habi...           Negative  \n",
       "1      Layin n bed with a headache  ughhhh...waitin o...           Negative  \n",
       "2                    Funeral ceremony...gloomy friday...           Negative  \n",
       "3                   wants to hang out with friends SOON!           Positive  \n",
       "4      @dannycastillo We want to trade with someone w...            Neutral  \n",
       "...                                                  ...                ...  \n",
       "39995                                   @JohnLloydTaylor            Neutral  \n",
       "39996                     Happy Mothers Day  All my love           Positive  \n",
       "39997  Happy Mother's Day to all the mommies out ther...           Positive  \n",
       "39998  @niariley WASSUP BEAUTIFUL!!! FOLLOW ME!!  PEE...           Positive  \n",
       "39999  @mopedronin bullet train from tokyo    the gf ...           Positive  \n",
       "\n",
       "[40000 rows x 4 columns]"
      ]
     },
     "execution_count": 6,
     "metadata": {},
     "output_type": "execute_result"
    }
   ],
   "source": [
    "# Define a function to map sentiments to sub-groups\n",
    "def map_sentiment_to_subgroup(sentiment):\n",
    "    if sentiment in ['empty', 'sadness', 'worry', 'hate', 'boredom', 'anger']:\n",
    "        return 'Negative'\n",
    "    elif sentiment in ['neutral', 'surprise', 'fun']:\n",
    "        return 'Neutral'\n",
    "    else:\n",
    "        return 'Positive'\n",
    "\n",
    "# Apply the function to create a new column for sub-groups\n",
    "df['sentiment_subgroup'] = df['sentiment'].apply(map_sentiment_to_subgroup)\n",
    "\n",
    "df"
   ]
  },
  {
   "cell_type": "code",
   "execution_count": 7,
   "id": "64d952a7-9c31-4709-ae59-821a4e646511",
   "metadata": {
    "tags": []
   },
   "outputs": [
    {
     "data": {
      "text/plain": [
       "sentiment_subgroup\n",
       "Negative    16063\n",
       "Neutral     12601\n",
       "Positive    11336\n",
       "Name: count, dtype: int64"
      ]
     },
     "execution_count": 7,
     "metadata": {},
     "output_type": "execute_result"
    }
   ],
   "source": [
    "df['sentiment_subgroup'].value_counts()"
   ]
  },
  {
   "cell_type": "code",
   "execution_count": 8,
   "id": "9893c36b-a7c3-46a6-918d-fb67a7ae663d",
   "metadata": {
    "tags": []
   },
   "outputs": [
    {
     "name": "stderr",
     "output_type": "stream",
     "text": [
      "/var/folders/cr/qlkb4cqn3vn0pb1jrc5s04800000gn/T/ipykernel_9207/2723297244.py:4: MatplotlibDeprecationWarning: The seaborn styles shipped by Matplotlib are deprecated since 3.6, as they no longer correspond to the styles shipped by seaborn. However, they will remain available as 'seaborn-v0_8-<style>'. Alternatively, directly use the seaborn API instead.\n",
      "  plt.style.use('seaborn-darkgrid')\n"
     ]
    },
    {
     "data": {
      "image/png": "[encoded data removed]",
      "text/plain": [
       "<Figure size 640x480 with 1 Axes>"
      ]
     },
     "metadata": {},
     "output_type": "display_data"
    }
   ],
   "source": [
    "import matplotlib.pyplot as plt\n",
    "\n",
    "# Set the style of the plot\n",
    "plt.style.use('seaborn-darkgrid')\n",
    "\n",
    "# Create the histogram\n",
    "plt.hist(df['sentiment_subgroup'], bins=10, color='skyblue', edgecolor='black', alpha=0.7)\n",
    "\n",
    "# Add labels and title\n",
    "plt.xlabel('Sentiment Scores', fontsize=14)\n",
    "plt.ylabel('Frequency', fontsize=14)\n",
    "plt.title('Distribution of Sentiment Scores', fontsize=16)\n",
    "\n",
    "# Add grid and adjust tick parameters\n",
    "plt.grid(axis='y', linestyle='--', alpha=0.7)\n",
    "plt.xticks(rotation=45, fontsize=12)  # Rotate x-axis labels by 45 degrees\n",
    "plt.yticks(fontsize=12)\n",
    "\n",
    "# Show the plot\n",
    "plt.tight_layout()  # Adjust layout to prevent clipping of labels\n",
    "plt.show()"
   ]
  },
  {
   "cell_type": "code",
   "execution_count": 9,
   "id": "acb090f7-8096-4a1f-9525-68350f71d65c",
   "metadata": {
    "tags": []
   },
   "outputs": [
    {
     "name": "stdout",
     "output_type": "stream",
     "text": [
      "tweet_id              0\n",
      "sentiment             0\n",
      "content               0\n",
      "sentiment_subgroup    0\n",
      "dtype: int64\n"
     ]
    }
   ],
   "source": [
    "# Check for null values \n",
    "\n",
    "print(df.isnull().sum())"
   ]
  },
  {
   "cell_type": "code",
   "execution_count": 10,
   "id": "ce03755c-620a-468f-bd0f-753e11dd0c96",
   "metadata": {
    "tags": []
   },
   "outputs": [
    {
     "data": {
      "text/plain": [
       "Series([], Name: count, dtype: int64)"
      ]
     },
     "execution_count": 10,
     "metadata": {},
     "output_type": "execute_result"
    }
   ],
   "source": [
    "# Check for duplicates \n",
    "\n",
    "duplicate_rows = df[df.duplicated()]\n",
    "duplicate_rows.value_counts()"
   ]
  },
  {
   "cell_type": "markdown",
   "id": "796a222e-e815-4cfd-9eb9-859b90fef3af",
   "metadata": {},
   "source": [
    "### Remove names from content column before tokenizing "
   ]
  },
  {
   "cell_type": "markdown",
   "id": "6523ccfd-7e89-415f-9e72-8e6b75d9d90e",
   "metadata": {},
   "source": [
    "Author note: As we know that any word beginning with @ is a name, we can assume that these words will not be useful predictors of sentiment. As such, I have chosen to delete all @ words prior to tokenizing. "
   ]
  },
  {
   "cell_type": "code",
   "execution_count": 11,
   "id": "63ad0cda-4a8f-42d2-a526-83f69f07277b",
   "metadata": {
    "tags": []
   },
   "outputs": [],
   "source": [
    "# Remove words starting with '@' using a lambda function\n",
    "df['content'] = df['content'].apply(lambda x: ' '.join([word for word in x.split() if not word.startswith('@')]))"
   ]
  },
  {
   "cell_type": "code",
   "execution_count": 12,
   "id": "41853749-d285-4314-80a0-f6bc1011e9be",
   "metadata": {
    "tags": []
   },
   "outputs": [
    {
     "data": {
      "text/plain": [
       "0        i know i was listenin to bad habit earlier and...\n",
       "1        Layin n bed with a headache ughhhh...waitin on...\n",
       "2                      Funeral ceremony...gloomy friday...\n",
       "3                     wants to hang out with friends SOON!\n",
       "4        We want to trade with someone who has Houston ...\n",
       "                               ...                        \n",
       "39995                                                     \n",
       "39996                        Happy Mothers Day All my love\n",
       "39997    Happy Mother's Day to all the mommies out ther...\n",
       "39998    WASSUP BEAUTIFUL!!! FOLLOW ME!! PEEP OUT MY NE...\n",
       "39999    bullet train from tokyo the gf and i have been...\n",
       "Name: content, Length: 40000, dtype: object"
      ]
     },
     "execution_count": 12,
     "metadata": {},
     "output_type": "execute_result"
    }
   ],
   "source": [
    "df['content']"
   ]
  },
  {
   "cell_type": "markdown",
   "id": "c6f821ff-7409-4a85-b6ee-cc32423d5505",
   "metadata": {},
   "source": [
    "## Tokenizing"
   ]
  },
  {
   "cell_type": "code",
   "execution_count": 13,
   "id": "9de21d98-baba-43a3-ab85-9942b6e7838a",
   "metadata": {
    "tags": []
   },
   "outputs": [
    {
     "name": "stderr",
     "output_type": "stream",
     "text": [
      "[nltk_data] Downloading package punkt to\n",
      "[nltk_data]     /Users/matthewbatchelor/nltk_data...\n",
      "[nltk_data]   Package punkt is already up-to-date!\n"
     ]
    },
    {
     "name": "stdout",
     "output_type": "stream",
     "text": [
      "     tweet_id   sentiment                                            content  \\\n",
      "0  1956967341       empty  i know i was listenin to bad habit earlier and...   \n",
      "1  1956967666     sadness  Layin n bed with a headache ughhhh...waitin on...   \n",
      "2  1956967696     sadness                Funeral ceremony...gloomy friday...   \n",
      "3  1956967789  enthusiasm               wants to hang out with friends SOON!   \n",
      "4  1956968416     neutral  We want to trade with someone who has Houston ...   \n",
      "\n",
      "  sentiment_subgroup                                             tokens  \n",
      "0           Negative  [i, know, i, was, listenin, to, bad, habit, ea...  \n",
      "1           Negative  [Layin, n, bed, with, a, headache, ughhhh, ......  \n",
      "2           Negative      [Funeral, ceremony, ..., gloomy, friday, ...]  \n",
      "3           Positive     [wants, to, hang, out, with, friends, SOON, !]  \n",
      "4            Neutral  [We, want, to, trade, with, someone, who, has,...  \n"
     ]
    }
   ],
   "source": [
    "import nltk # Natural Language Toolkit\n",
    "from nltk.tokenize import word_tokenize\n",
    "\n",
    "nltk.download('punkt')  # Ensure that you have the 'punkt' tokenizer models downloaded\n",
    "\n",
    "# Tokenize the text in the 'content' column\n",
    "df['tokens'] = df['content'].apply(word_tokenize)\n",
    "\n",
    "# Display the DataFrame with tokens\n",
    "print(df.head())"
   ]
  },
  {
   "cell_type": "markdown",
   "id": "a9762d35-8558-4472-9fbd-f07f4429ff52",
   "metadata": {},
   "source": [
    "Author note: This code will tokenize each text instance in the 'content' column and store the tokens in a new column called 'tokens' in the DataFrame"
   ]
  },
  {
   "cell_type": "code",
   "execution_count": 14,
   "id": "8a9a6bc4-8189-4784-a76d-44daac45cd11",
   "metadata": {
    "tags": []
   },
   "outputs": [
    {
     "data": {
      "text/html": [
       "<div>\n",
       "<style scoped>\n",
       "    .dataframe tbody tr th:only-of-type {\n",
       "        vertical-align: middle;\n",
       "    }\n",
       "\n",
       "    .dataframe tbody tr th {\n",
       "        vertical-align: top;\n",
       "    }\n",
       "\n",
       "    .dataframe thead th {\n",
       "        text-align: right;\n",
       "    }\n",
       "</style>\n",
       "<table border=\"1\" class=\"dataframe\">\n",
       "  <thead>\n",
       "    <tr style=\"text-align: right;\">\n",
       "      <th></th>\n",
       "      <th>tweet_id</th>\n",
       "      <th>sentiment</th>\n",
       "      <th>content</th>\n",
       "      <th>sentiment_subgroup</th>\n",
       "      <th>tokens</th>\n",
       "    </tr>\n",
       "  </thead>\n",
       "  <tbody>\n",
       "    <tr>\n",
       "      <th>0</th>\n",
       "      <td>1956967341</td>\n",
       "      <td>empty</td>\n",
       "      <td>i know i was listenin to bad habit earlier and...</td>\n",
       "      <td>Negative</td>\n",
       "      <td>[i, know, i, was, listenin, to, bad, habit, ea...</td>\n",
       "    </tr>\n",
       "    <tr>\n",
       "      <th>1</th>\n",
       "      <td>1956967666</td>\n",
       "      <td>sadness</td>\n",
       "      <td>Layin n bed with a headache ughhhh...waitin on...</td>\n",
       "      <td>Negative</td>\n",
       "      <td>[Layin, n, bed, with, a, headache, ughhhh, ......</td>\n",
       "    </tr>\n",
       "    <tr>\n",
       "      <th>2</th>\n",
       "      <td>1956967696</td>\n",
       "      <td>sadness</td>\n",
       "      <td>Funeral ceremony...gloomy friday...</td>\n",
       "      <td>Negative</td>\n",
       "      <td>[Funeral, ceremony, ..., gloomy, friday, ...]</td>\n",
       "    </tr>\n",
       "    <tr>\n",
       "      <th>3</th>\n",
       "      <td>1956967789</td>\n",
       "      <td>enthusiasm</td>\n",
       "      <td>wants to hang out with friends SOON!</td>\n",
       "      <td>Positive</td>\n",
       "      <td>[wants, to, hang, out, with, friends, SOON, !]</td>\n",
       "    </tr>\n",
       "    <tr>\n",
       "      <th>4</th>\n",
       "      <td>1956968416</td>\n",
       "      <td>neutral</td>\n",
       "      <td>We want to trade with someone who has Houston ...</td>\n",
       "      <td>Neutral</td>\n",
       "      <td>[We, want, to, trade, with, someone, who, has,...</td>\n",
       "    </tr>\n",
       "    <tr>\n",
       "      <th>...</th>\n",
       "      <td>...</td>\n",
       "      <td>...</td>\n",
       "      <td>...</td>\n",
       "      <td>...</td>\n",
       "      <td>...</td>\n",
       "    </tr>\n",
       "    <tr>\n",
       "      <th>39995</th>\n",
       "      <td>1753918954</td>\n",
       "      <td>neutral</td>\n",
       "      <td></td>\n",
       "      <td>Neutral</td>\n",
       "      <td>[]</td>\n",
       "    </tr>\n",
       "    <tr>\n",
       "      <th>39996</th>\n",
       "      <td>1753919001</td>\n",
       "      <td>love</td>\n",
       "      <td>Happy Mothers Day All my love</td>\n",
       "      <td>Positive</td>\n",
       "      <td>[Happy, Mothers, Day, All, my, love]</td>\n",
       "    </tr>\n",
       "    <tr>\n",
       "      <th>39997</th>\n",
       "      <td>1753919005</td>\n",
       "      <td>love</td>\n",
       "      <td>Happy Mother's Day to all the mommies out ther...</td>\n",
       "      <td>Positive</td>\n",
       "      <td>[Happy, Mother, 's, Day, to, all, the, mommies...</td>\n",
       "    </tr>\n",
       "    <tr>\n",
       "      <th>39998</th>\n",
       "      <td>1753919043</td>\n",
       "      <td>happiness</td>\n",
       "      <td>WASSUP BEAUTIFUL!!! FOLLOW ME!! PEEP OUT MY NE...</td>\n",
       "      <td>Positive</td>\n",
       "      <td>[WASSUP, BEAUTIFUL, !, !, !, FOLLOW, ME, !, !,...</td>\n",
       "    </tr>\n",
       "    <tr>\n",
       "      <th>39999</th>\n",
       "      <td>1753919049</td>\n",
       "      <td>love</td>\n",
       "      <td>bullet train from tokyo the gf and i have been...</td>\n",
       "      <td>Positive</td>\n",
       "      <td>[bullet, train, from, tokyo, the, gf, and, i, ...</td>\n",
       "    </tr>\n",
       "  </tbody>\n",
       "</table>\n",
       "<p>40000 rows × 5 columns</p>\n",
       "</div>"
      ],
      "text/plain": [
       "         tweet_id   sentiment  \\\n",
       "0      1956967341       empty   \n",
       "1      1956967666     sadness   \n",
       "2      1956967696     sadness   \n",
       "3      1956967789  enthusiasm   \n",
       "4      1956968416     neutral   \n",
       "...           ...         ...   \n",
       "39995  1753918954     neutral   \n",
       "39996  1753919001        love   \n",
       "39997  1753919005        love   \n",
       "39998  1753919043   happiness   \n",
       "39999  1753919049        love   \n",
       "\n",
       "                                                 content sentiment_subgroup  \\\n",
       "0      i know i was listenin to bad habit earlier and...           Negative   \n",
       "1      Layin n bed with a headache ughhhh...waitin on...           Negative   \n",
       "2                    Funeral ceremony...gloomy friday...           Negative   \n",
       "3                   wants to hang out with friends SOON!           Positive   \n",
       "4      We want to trade with someone who has Houston ...            Neutral   \n",
       "...                                                  ...                ...   \n",
       "39995                                                               Neutral   \n",
       "39996                      Happy Mothers Day All my love           Positive   \n",
       "39997  Happy Mother's Day to all the mommies out ther...           Positive   \n",
       "39998  WASSUP BEAUTIFUL!!! FOLLOW ME!! PEEP OUT MY NE...           Positive   \n",
       "39999  bullet train from tokyo the gf and i have been...           Positive   \n",
       "\n",
       "                                                  tokens  \n",
       "0      [i, know, i, was, listenin, to, bad, habit, ea...  \n",
       "1      [Layin, n, bed, with, a, headache, ughhhh, ......  \n",
       "2          [Funeral, ceremony, ..., gloomy, friday, ...]  \n",
       "3         [wants, to, hang, out, with, friends, SOON, !]  \n",
       "4      [We, want, to, trade, with, someone, who, has,...  \n",
       "...                                                  ...  \n",
       "39995                                                 []  \n",
       "39996               [Happy, Mothers, Day, All, my, love]  \n",
       "39997  [Happy, Mother, 's, Day, to, all, the, mommies...  \n",
       "39998  [WASSUP, BEAUTIFUL, !, !, !, FOLLOW, ME, !, !,...  \n",
       "39999  [bullet, train, from, tokyo, the, gf, and, i, ...  \n",
       "\n",
       "[40000 rows x 5 columns]"
      ]
     },
     "execution_count": 14,
     "metadata": {},
     "output_type": "execute_result"
    }
   ],
   "source": [
    "df"
   ]
  },
  {
   "cell_type": "code",
   "execution_count": 15,
   "id": "1a0bdd0c-d4b6-4d9c-b951-ff9f00dd3647",
   "metadata": {
    "tags": []
   },
   "outputs": [
    {
     "data": {
      "text/plain": [
       "0        [i, know, i, was, listenin, to, bad, habit, ea...\n",
       "1        [Layin, n, bed, with, a, headache, ughhhh, ......\n",
       "2            [Funeral, ceremony, ..., gloomy, friday, ...]\n",
       "3           [wants, to, hang, out, with, friends, SOON, !]\n",
       "4        [We, want, to, trade, with, someone, who, has,...\n",
       "                               ...                        \n",
       "39995                                                   []\n",
       "39996                 [Happy, Mothers, Day, All, my, love]\n",
       "39997    [Happy, Mother, 's, Day, to, all, the, mommies...\n",
       "39998    [WASSUP, BEAUTIFUL, !, !, !, FOLLOW, ME, !, !,...\n",
       "39999    [bullet, train, from, tokyo, the, gf, and, i, ...\n",
       "Name: tokens, Length: 40000, dtype: object"
      ]
     },
     "execution_count": 15,
     "metadata": {},
     "output_type": "execute_result"
    }
   ],
   "source": [
    "df['tokens']"
   ]
  },
  {
   "cell_type": "markdown",
   "id": "0c0e6ff6-635d-4159-a0bb-628b8d233a59",
   "metadata": {
    "tags": []
   },
   "source": [
    "## Preprocessing tokenized text data"
   ]
  },
  {
   "cell_type": "markdown",
   "id": "4ff16077-8cba-4085-abe4-58e4c397778c",
   "metadata": {},
   "source": [
    "- Lowercasing: Convert all words to lowercase to ensure consistency and prevent the model from treating words with different cases as different entities.\n",
    "\n",
    "- Removing punctuation: Remove punctuation marks such as commas, periods, and quotation marks. Punctuation generally does not carry semantic meaning and can introduce noise into the embeddings.\n",
    "\n",
    "- Removing stop words: As mentioned earlier, stop words are common words such as \"the,\" \"is,\" and \"and\" that occur frequently but typically do not contribute much to the meaning of the text. Removing them can reduce the dimensionality of the data and improve the efficiency of the Word2Vec model.\n",
    "\n",
    "- Handling numerical values: Depending on the specific use case, you may choose to remove or replace numerical values with placeholders. In some cases, numerical values may not be relevant to the semantics of the text and can be treated as noise.\n",
    "\n",
    "- Removing blank spaces: Should be treated as noise and deleted \n",
    "\n",
    "- Handling special characters: Special characters, symbols, and emojis may need to be handled appropriately based on the specific requirements of the application. You might choose to remove them, replace them with special tokens, or even treat them as separate entities\n",
    "\n",
    "- Removing blank rows\n",
    "\n",
    "- Removing words with just one letter: These are stealth stop words \n",
    "\n",
    "- Token normalization: This involves techniques such as stemming or lemmatization to reduce words to their base or root forms. For example, \"running,\" \"runs,\" and \"ran\" may all be reduced to the base form \"run.\" This helps in capturing semantic similarities between related words.\n",
    "\n",
    "- Handling out-of-vocabulary words: It's essential to handle words that are not present in the vocabulary of the Word2Vec model. This could involve techniques like using subword embeddings (e.g., FastText) or replacing unknown words with a special token.\n",
    "\n"
   ]
  },
  {
   "cell_type": "markdown",
   "id": "3c883c10-19a4-4b2e-8f7e-617ce43cf8da",
   "metadata": {},
   "source": [
    "### Lowercasing"
   ]
  },
  {
   "cell_type": "markdown",
   "id": "078319e2-63f7-48bd-b378-ebd2d2866bf6",
   "metadata": {},
   "source": [
    "Convert all words to lowercase to ensure consistency and prevent the model from treating words with different cases as different entities."
   ]
  },
  {
   "cell_type": "code",
   "execution_count": 16,
   "id": "9bcfc8c4-157a-4497-876c-a9ffc39083a0",
   "metadata": {
    "tags": []
   },
   "outputs": [],
   "source": [
    "# Function to lowercase each word in a list of tokens\n",
    "def lowercase_tokens(tokens_list):\n",
    "    return [word.lower() for word in tokens_list]\n",
    "\n",
    "# Apply lowercase conversion to each list of tokens in the 'tokens' column\n",
    "df.loc[:, 'tokens'] = df['tokens'].apply(lowercase_tokens)"
   ]
  },
  {
   "cell_type": "code",
   "execution_count": 17,
   "id": "ebf91662-857a-4695-a23c-6b1ea666d29c",
   "metadata": {
    "tags": []
   },
   "outputs": [
    {
     "data": {
      "text/plain": [
       "0        [i, know, i, was, listenin, to, bad, habit, ea...\n",
       "1        [layin, n, bed, with, a, headache, ughhhh, ......\n",
       "2            [funeral, ceremony, ..., gloomy, friday, ...]\n",
       "3           [wants, to, hang, out, with, friends, soon, !]\n",
       "4        [we, want, to, trade, with, someone, who, has,...\n",
       "                               ...                        \n",
       "39995                                                   []\n",
       "39996                 [happy, mothers, day, all, my, love]\n",
       "39997    [happy, mother, 's, day, to, all, the, mommies...\n",
       "39998    [wassup, beautiful, !, !, !, follow, me, !, !,...\n",
       "39999    [bullet, train, from, tokyo, the, gf, and, i, ...\n",
       "Name: tokens, Length: 40000, dtype: object"
      ]
     },
     "execution_count": 17,
     "metadata": {},
     "output_type": "execute_result"
    }
   ],
   "source": [
    "df['tokens']"
   ]
  },
  {
   "cell_type": "markdown",
   "id": "d18642cc-0d67-40a7-a3b7-47ee849caf71",
   "metadata": {
    "tags": []
   },
   "source": [
    "### Removing punctuation"
   ]
  },
  {
   "cell_type": "markdown",
   "id": "5c96f60a-25eb-4292-8007-a65017580135",
   "metadata": {},
   "source": [
    "Remove punctuation marks such as commas, periods, and quotation marks. Punctuation generally does not carry semantic meaning and can introduce noise into the embeddings. This code first checks if the value is a string before applying the regex substitution. If the value is not a string (e.g., NaN or float), it returns an empty string. This ensures that the re.sub function receives only string inputs, avoiding the TypeError."
   ]
  },
  {
   "cell_type": "code",
   "execution_count": 18,
   "id": "1f988827-13d5-4ee8-aae7-59cb2fcdf9cf",
   "metadata": {
    "tags": []
   },
   "outputs": [],
   "source": [
    "import re\n",
    "\n",
    "# Apply punctuation removal using a lambda function\n",
    "df['tokens'] = df['tokens'].apply(lambda tokens_list: [re.sub(r'[^\\w\\s]', '', word) for word in tokens_list] if isinstance(tokens_list, list) else [])"
   ]
  },
  {
   "cell_type": "code",
   "execution_count": 19,
   "id": "e53750d1-da3b-42c9-a350-d743401b43ed",
   "metadata": {
    "tags": []
   },
   "outputs": [
    {
     "data": {
      "text/plain": [
       "0        [i, know, i, was, listenin, to, bad, habit, ea...\n",
       "1        [layin, n, bed, with, a, headache, ughhhh, , w...\n",
       "2                  [funeral, ceremony, , gloomy, friday, ]\n",
       "3            [wants, to, hang, out, with, friends, soon, ]\n",
       "4        [we, want, to, trade, with, someone, who, has,...\n",
       "                               ...                        \n",
       "39995                                                   []\n",
       "39996                 [happy, mothers, day, all, my, love]\n",
       "39997    [happy, mother, s, day, to, all, the, mommies,...\n",
       "39998    [wassup, beautiful, , , , follow, me, , , peep...\n",
       "39999    [bullet, train, from, tokyo, the, gf, and, i, ...\n",
       "Name: tokens, Length: 40000, dtype: object"
      ]
     },
     "execution_count": 19,
     "metadata": {},
     "output_type": "execute_result"
    }
   ],
   "source": [
    "df['tokens']"
   ]
  },
  {
   "cell_type": "markdown",
   "id": "d28e47f8-8987-4991-bc51-b04bdfb0e28f",
   "metadata": {},
   "source": [
    "### Removing stop-words "
   ]
  },
  {
   "cell_type": "markdown",
   "id": "bc833986-9bb5-4859-b8c8-082aa7b05e44",
   "metadata": {},
   "source": [
    "Stop words are common words such as \"the,\" \"is,\" and \"and\" that occur frequently but typically do not contribute much to the meaning of the text. Removing them can reduce the dimensionality of the data and improve the efficiency of the Word2Vec model."
   ]
  },
  {
   "cell_type": "code",
   "execution_count": 20,
   "id": "423bad9e-fe03-4281-a565-03861e8f2d6d",
   "metadata": {
    "tags": []
   },
   "outputs": [
    {
     "name": "stderr",
     "output_type": "stream",
     "text": [
      "[nltk_data] Downloading package stopwords to\n",
      "[nltk_data]     /Users/matthewbatchelor/nltk_data...\n",
      "[nltk_data]   Package stopwords is already up-to-date!\n"
     ]
    }
   ],
   "source": [
    "from nltk.corpus import stopwords\n",
    "\n",
    "# Download NLTK stopwords if not already downloaded\n",
    "nltk.download('stopwords')\n",
    "\n",
    "# Get the English stopwords from NLTK\n",
    "stop_words = set(stopwords.words('english'))\n",
    "\n",
    "# Remove stopwords from the 'tokens' column\n",
    "df['tokens'] = df['tokens'].apply(lambda x: [word for word in x if word not in stop_words])"
   ]
  },
  {
   "cell_type": "code",
   "execution_count": 21,
   "id": "5adb686e-40f3-4d78-b36d-ebb0039241b8",
   "metadata": {
    "tags": []
   },
   "outputs": [
    {
     "data": {
      "text/plain": [
       "0        [know, listenin, bad, habit, earlier, started,...\n",
       "1        [layin, n, bed, headache, ughhhh, , waitin, ca...\n",
       "2                  [funeral, ceremony, , gloomy, friday, ]\n",
       "3                           [wants, hang, friends, soon, ]\n",
       "4        [want, trade, someone, houston, tickets, , one, ]\n",
       "                               ...                        \n",
       "39995                                                   []\n",
       "39996                          [happy, mothers, day, love]\n",
       "39997    [happy, mother, day, mommies, , woman, man, lo...\n",
       "39998    [wassup, beautiful, , , , follow, , , peep, ne...\n",
       "39999    [bullet, train, tokyo, gf, visiting, japan, si...\n",
       "Name: tokens, Length: 40000, dtype: object"
      ]
     },
     "execution_count": 21,
     "metadata": {},
     "output_type": "execute_result"
    }
   ],
   "source": [
    "df['tokens']"
   ]
  },
  {
   "cell_type": "markdown",
   "id": "a97fe52b-115b-4a99-8c30-84c74c93d6e9",
   "metadata": {},
   "source": [
    "### Removing blank spaces"
   ]
  },
  {
   "cell_type": "markdown",
   "id": "aacf185e-fabc-4641-86c1-d19b1efd296c",
   "metadata": {},
   "source": [
    "Author note: Based on the print out of the tokens column above, I can see some blank spaces (' '). I will remove these to reduce noise in my model "
   ]
  },
  {
   "cell_type": "code",
   "execution_count": 22,
   "id": "453ebc4e-d348-4ead-b915-c6ef9b246528",
   "metadata": {
    "tags": []
   },
   "outputs": [
    {
     "name": "stdout",
     "output_type": "stream",
     "text": [
      "0        [know, listenin, bad, habit, earlier, started,...\n",
      "1          [layin, n, bed, headache, ughhhh, waitin, call]\n",
      "2                      [funeral, ceremony, gloomy, friday]\n",
      "3                             [wants, hang, friends, soon]\n",
      "4            [want, trade, someone, houston, tickets, one]\n",
      "                               ...                        \n",
      "39995                                                   []\n",
      "39996                          [happy, mothers, day, love]\n",
      "39997    [happy, mother, day, mommies, woman, man, long...\n",
      "39998    [wassup, beautiful, follow, peep, new, hit, si...\n",
      "39999    [bullet, train, tokyo, gf, visiting, japan, si...\n",
      "Name: tokens, Length: 40000, dtype: object\n"
     ]
    }
   ],
   "source": [
    "# Remove blank spaces from the list of tokens\n",
    "df['tokens'] = df['tokens'].apply(lambda tokens_list: [token for token in tokens_list if token.strip() != ''])\n",
    "\n",
    "# Display the updated DataFrame\n",
    "print(df['tokens'])"
   ]
  },
  {
   "cell_type": "markdown",
   "id": "7d5cbb5f-8719-41e6-9e1f-0ebd822bfb52",
   "metadata": {},
   "source": [
    "### Handling numerical values"
   ]
  },
  {
   "cell_type": "markdown",
   "id": "3f29f3d7-2c20-4a1f-a96f-057360757c78",
   "metadata": {},
   "source": [
    "This code will remove all tokens containing only numerical values from the 'tokens' column."
   ]
  },
  {
   "cell_type": "code",
   "execution_count": 23,
   "id": "32e67e47-8d6b-4ff9-bce9-886984a15faa",
   "metadata": {
    "tags": []
   },
   "outputs": [],
   "source": [
    "df['tokens'] = df['tokens'].apply(lambda x: [token for token in x if not token.isdigit()])"
   ]
  },
  {
   "cell_type": "code",
   "execution_count": 24,
   "id": "7936d065-5fd4-4e5f-a6c6-5e2e9e302f60",
   "metadata": {
    "tags": []
   },
   "outputs": [
    {
     "data": {
      "text/plain": [
       "0        [know, listenin, bad, habit, earlier, started,...\n",
       "1          [layin, n, bed, headache, ughhhh, waitin, call]\n",
       "2                      [funeral, ceremony, gloomy, friday]\n",
       "3                             [wants, hang, friends, soon]\n",
       "4            [want, trade, someone, houston, tickets, one]\n",
       "                               ...                        \n",
       "39995                                                   []\n",
       "39996                          [happy, mothers, day, love]\n",
       "39997    [happy, mother, day, mommies, woman, man, long...\n",
       "39998    [wassup, beautiful, follow, peep, new, hit, si...\n",
       "39999    [bullet, train, tokyo, gf, visiting, japan, si...\n",
       "Name: tokens, Length: 40000, dtype: object"
      ]
     },
     "execution_count": 24,
     "metadata": {},
     "output_type": "execute_result"
    }
   ],
   "source": [
    "df['tokens']"
   ]
  },
  {
   "cell_type": "markdown",
   "id": "aa630009-8d09-4a0c-8e17-e581a9a9300e",
   "metadata": {},
   "source": [
    "### Handling special characters"
   ]
  },
  {
   "cell_type": "markdown",
   "id": "4aecc539-87c5-4fa7-9274-95f1981594cc",
   "metadata": {},
   "source": [
    "This code will remove all non-alphanumeric characters from each token in the 'tokens' column of your DataFrame."
   ]
  },
  {
   "cell_type": "code",
   "execution_count": 25,
   "id": "0e0a26d6-aa31-44fb-953a-9eb90cb78dd5",
   "metadata": {},
   "outputs": [],
   "source": [
    "df['tokens'] = df['tokens'].apply(lambda x: [re.sub(r'\\W', '', token) for token in x])"
   ]
  },
  {
   "cell_type": "code",
   "execution_count": 26,
   "id": "b18ea739-8026-4ce9-9191-e0cddc9cdc3a",
   "metadata": {
    "tags": []
   },
   "outputs": [
    {
     "data": {
      "text/plain": [
       "0        [know, listenin, bad, habit, earlier, started,...\n",
       "1          [layin, n, bed, headache, ughhhh, waitin, call]\n",
       "2                      [funeral, ceremony, gloomy, friday]\n",
       "3                             [wants, hang, friends, soon]\n",
       "4            [want, trade, someone, houston, tickets, one]\n",
       "                               ...                        \n",
       "39995                                                   []\n",
       "39996                          [happy, mothers, day, love]\n",
       "39997    [happy, mother, day, mommies, woman, man, long...\n",
       "39998    [wassup, beautiful, follow, peep, new, hit, si...\n",
       "39999    [bullet, train, tokyo, gf, visiting, japan, si...\n",
       "Name: tokens, Length: 40000, dtype: object"
      ]
     },
     "execution_count": 26,
     "metadata": {},
     "output_type": "execute_result"
    }
   ],
   "source": [
    "df['tokens']"
   ]
  },
  {
   "cell_type": "markdown",
   "id": "d3982bf9-d9af-411a-b2b3-57e39050fff9",
   "metadata": {},
   "source": [
    "### Removing blank rows   "
   ]
  },
  {
   "cell_type": "markdown",
   "id": "822b73af-426b-4acf-b881-a5978aa4be71",
   "metadata": {},
   "source": [
    "In the print-out above, I see cases (such as ID 39995) where the row is blank '[]'. These may add noise to the model and I will remove. "
   ]
  },
  {
   "cell_type": "code",
   "execution_count": 27,
   "id": "ad3a7334-65c9-4304-8b3a-d2e2d0dcf0dd",
   "metadata": {
    "tags": []
   },
   "outputs": [
    {
     "name": "stdout",
     "output_type": "stream",
     "text": [
      "Number of rows deleted: 216\n"
     ]
    }
   ],
   "source": [
    "# Count the number of rows before removing blank rows\n",
    "num_rows_before = len(df)\n",
    "\n",
    "# Remove rows with blank lists in the 'tokens' column\n",
    "df = df[df['tokens'].apply(lambda tokens_list: tokens_list != [])]\n",
    "\n",
    "# Count the number of rows after removing blank rows\n",
    "num_rows_after = len(df)\n",
    "\n",
    "# Calculate the number of rows deleted\n",
    "num_rows_deleted = num_rows_before - num_rows_after\n",
    "\n",
    "# Print the number of rows deleted\n",
    "print(\"Number of rows deleted:\", num_rows_deleted)"
   ]
  },
  {
   "cell_type": "markdown",
   "id": "ec776eb4-75c5-4d6f-bab9-594a477a4cf4",
   "metadata": {
    "tags": []
   },
   "source": [
    "### Removing words with just one letter"
   ]
  },
  {
   "cell_type": "markdown",
   "id": "9ab1e535-a6c5-4a05-880d-de4e63d4708b",
   "metadata": {},
   "source": [
    "These are hidden stop-words"
   ]
  },
  {
   "cell_type": "code",
   "execution_count": 28,
   "id": "34563721-34e7-49e6-aec8-4d8f476c0902",
   "metadata": {
    "tags": []
   },
   "outputs": [
    {
     "name": "stdout",
     "output_type": "stream",
     "text": [
      "Occurrences of 'a': 0\n",
      "Occurrences of 'b': 137\n",
      "Occurrences of 'c': 86\n",
      "Occurrences of 'd': 0\n",
      "Occurrences of 'e': 41\n",
      "Occurrences of 'f': 37\n",
      "Occurrences of 'g': 27\n",
      "Occurrences of 'h': 17\n",
      "Occurrences of 'i': 0\n",
      "Occurrences of 'j': 24\n",
      "Occurrences of 'k': 48\n",
      "Occurrences of 'l': 50\n",
      "Occurrences of 'm': 0\n",
      "Occurrences of 'n': 248\n",
      "Occurrences of 'o': 0\n",
      "Occurrences of 'p': 123\n",
      "Occurrences of 'q': 18\n",
      "Occurrences of 'r': 164\n",
      "Occurrences of 's': 0\n",
      "Occurrences of 't': 0\n",
      "Occurrences of 'u': 1354\n",
      "Occurrences of 'v': 39\n",
      "Occurrences of 'w': 151\n",
      "Occurrences of 'x': 301\n",
      "Occurrences of 'y': 0\n",
      "Occurrences of 'z': 8\n"
     ]
    }
   ],
   "source": [
    "# Define the target words to count\n",
    "target_words = ['a', 'b', 'c', 'd', 'e', 'f', 'g', 'h', 'i', 'j', 'k', 'l', 'm', 'n', 'o', 'p', 'q', 'r', 's', 't', 'u', 'v', 'w', 'x', 'y', 'z']\n",
    "\n",
    "# Initialize counts for each target word\n",
    "word_counts = {word: 0 for word in target_words}\n",
    "\n",
    "# Iterate over the tokens and count occurrences of target words\n",
    "for tokens_list in df['tokens']:\n",
    "    for word in tokens_list:\n",
    "        for target_word in target_words:\n",
    "            if target_word == word:\n",
    "                word_counts[target_word] += 1\n",
    "            elif target_word.strip() == word:\n",
    "                word_counts[target_word] += 1\n",
    "\n",
    "# Print the word counts\n",
    "for word, count in word_counts.items():\n",
    "    print(f\"Occurrences of '{word}': {count}\")"
   ]
  },
  {
   "cell_type": "code",
   "execution_count": 29,
   "id": "7d43ea1d-b6e2-49f7-a7cc-0e3d441969f6",
   "metadata": {
    "tags": []
   },
   "outputs": [
    {
     "name": "stderr",
     "output_type": "stream",
     "text": [
      "/var/folders/cr/qlkb4cqn3vn0pb1jrc5s04800000gn/T/ipykernel_9207/3323392164.py:2: SettingWithCopyWarning: \n",
      "A value is trying to be set on a copy of a slice from a DataFrame.\n",
      "Try using .loc[row_indexer,col_indexer] = value instead\n",
      "\n",
      "See the caveats in the documentation: https://pandas.pydata.org/pandas-docs/stable/user_guide/indexing.html#returning-a-view-versus-a-copy\n",
      "  df['tokens'] = df['tokens'].apply(lambda tokens_list: [word for word in tokens_list if word not in target_words and word.strip() not in target_words])\n"
     ]
    }
   ],
   "source": [
    "# Delete occurrences of target_words from df['tokens']\n",
    "df['tokens'] = df['tokens'].apply(lambda tokens_list: [word for word in tokens_list if word not in target_words and word.strip() not in target_words])"
   ]
  },
  {
   "cell_type": "code",
   "execution_count": 30,
   "id": "72b5576a-f1f5-431f-814c-30d8d47dcbcb",
   "metadata": {
    "tags": []
   },
   "outputs": [
    {
     "data": {
      "text/plain": [
       "0        [know, listenin, bad, habit, earlier, started,...\n",
       "1             [layin, bed, headache, ughhhh, waitin, call]\n",
       "2                      [funeral, ceremony, gloomy, friday]\n",
       "3                             [wants, hang, friends, soon]\n",
       "4            [want, trade, someone, houston, tickets, one]\n",
       "                               ...                        \n",
       "39994                      [succesfully, following, tayla]\n",
       "39996                          [happy, mothers, day, love]\n",
       "39997    [happy, mother, day, mommies, woman, man, long...\n",
       "39998    [wassup, beautiful, follow, peep, new, hit, si...\n",
       "39999    [bullet, train, tokyo, gf, visiting, japan, si...\n",
       "Name: tokens, Length: 39784, dtype: object"
      ]
     },
     "execution_count": 30,
     "metadata": {},
     "output_type": "execute_result"
    }
   ],
   "source": [
    "df['tokens']"
   ]
  },
  {
   "cell_type": "markdown",
   "id": "90e44ac1-06cb-48d0-acdc-348441fe93bc",
   "metadata": {},
   "source": [
    "### Token normalization"
   ]
  },
  {
   "cell_type": "markdown",
   "id": "8db6ee08-2111-40df-b7c4-de2ef78dca17",
   "metadata": {},
   "source": [
    "This involves techniques such as stemming or lemmatization to reduce words to their base or root forms. For example, \"running,\" \"runs,\" and \"ran\" may all be reduced to the base form \"run.\" This helps in capturing semantic similarities between related words."
   ]
  },
  {
   "cell_type": "code",
   "execution_count": 31,
   "id": "9ab52b5e-7f6b-48ba-b1f2-8f4ad6ed9a0e",
   "metadata": {
    "tags": []
   },
   "outputs": [
    {
     "name": "stderr",
     "output_type": "stream",
     "text": [
      "/var/folders/cr/qlkb4cqn3vn0pb1jrc5s04800000gn/T/ipykernel_9207/1729550754.py:7: SettingWithCopyWarning: \n",
      "A value is trying to be set on a copy of a slice from a DataFrame.\n",
      "Try using .loc[row_indexer,col_indexer] = value instead\n",
      "\n",
      "See the caveats in the documentation: https://pandas.pydata.org/pandas-docs/stable/user_guide/indexing.html#returning-a-view-versus-a-copy\n",
      "  df['tokens'] = df['tokens'].apply(lambda x: ' '.join([stemmer.stem(word) for word in x]))\n"
     ]
    }
   ],
   "source": [
    "from nltk.stem import PorterStemmer\n",
    "\n",
    "# Initialize PorterStemmer\n",
    "stemmer = PorterStemmer()\n",
    "\n",
    "# Apply stemming to tokens\n",
    "df['tokens'] = df['tokens'].apply(lambda x: ' '.join([stemmer.stem(word) for word in x]))"
   ]
  },
  {
   "cell_type": "code",
   "execution_count": 32,
   "id": "bea64d0e-b34c-46cc-9997-528cd7c8add5",
   "metadata": {
    "tags": []
   },
   "outputs": [
    {
     "data": {
      "text/html": [
       "<div>\n",
       "<style scoped>\n",
       "    .dataframe tbody tr th:only-of-type {\n",
       "        vertical-align: middle;\n",
       "    }\n",
       "\n",
       "    .dataframe tbody tr th {\n",
       "        vertical-align: top;\n",
       "    }\n",
       "\n",
       "    .dataframe thead th {\n",
       "        text-align: right;\n",
       "    }\n",
       "</style>\n",
       "<table border=\"1\" class=\"dataframe\">\n",
       "  <thead>\n",
       "    <tr style=\"text-align: right;\">\n",
       "      <th></th>\n",
       "      <th>tweet_id</th>\n",
       "      <th>sentiment</th>\n",
       "      <th>content</th>\n",
       "      <th>sentiment_subgroup</th>\n",
       "      <th>tokens</th>\n",
       "    </tr>\n",
       "  </thead>\n",
       "  <tbody>\n",
       "    <tr>\n",
       "      <th>0</th>\n",
       "      <td>1956967341</td>\n",
       "      <td>empty</td>\n",
       "      <td>i know i was listenin to bad habit earlier and...</td>\n",
       "      <td>Negative</td>\n",
       "      <td>know listenin bad habit earlier start freakin ...</td>\n",
       "    </tr>\n",
       "    <tr>\n",
       "      <th>1</th>\n",
       "      <td>1956967666</td>\n",
       "      <td>sadness</td>\n",
       "      <td>Layin n bed with a headache ughhhh...waitin on...</td>\n",
       "      <td>Negative</td>\n",
       "      <td>layin bed headach ughhhh waitin call</td>\n",
       "    </tr>\n",
       "    <tr>\n",
       "      <th>2</th>\n",
       "      <td>1956967696</td>\n",
       "      <td>sadness</td>\n",
       "      <td>Funeral ceremony...gloomy friday...</td>\n",
       "      <td>Negative</td>\n",
       "      <td>funer ceremoni gloomi friday</td>\n",
       "    </tr>\n",
       "    <tr>\n",
       "      <th>3</th>\n",
       "      <td>1956967789</td>\n",
       "      <td>enthusiasm</td>\n",
       "      <td>wants to hang out with friends SOON!</td>\n",
       "      <td>Positive</td>\n",
       "      <td>want hang friend soon</td>\n",
       "    </tr>\n",
       "    <tr>\n",
       "      <th>4</th>\n",
       "      <td>1956968416</td>\n",
       "      <td>neutral</td>\n",
       "      <td>We want to trade with someone who has Houston ...</td>\n",
       "      <td>Neutral</td>\n",
       "      <td>want trade someon houston ticket one</td>\n",
       "    </tr>\n",
       "    <tr>\n",
       "      <th>...</th>\n",
       "      <td>...</td>\n",
       "      <td>...</td>\n",
       "      <td>...</td>\n",
       "      <td>...</td>\n",
       "      <td>...</td>\n",
       "    </tr>\n",
       "    <tr>\n",
       "      <th>39994</th>\n",
       "      <td>1753918900</td>\n",
       "      <td>happiness</td>\n",
       "      <td>Succesfully following Tayla!!</td>\n",
       "      <td>Positive</td>\n",
       "      <td>succes follow tayla</td>\n",
       "    </tr>\n",
       "    <tr>\n",
       "      <th>39996</th>\n",
       "      <td>1753919001</td>\n",
       "      <td>love</td>\n",
       "      <td>Happy Mothers Day All my love</td>\n",
       "      <td>Positive</td>\n",
       "      <td>happi mother day love</td>\n",
       "    </tr>\n",
       "    <tr>\n",
       "      <th>39997</th>\n",
       "      <td>1753919005</td>\n",
       "      <td>love</td>\n",
       "      <td>Happy Mother's Day to all the mommies out ther...</td>\n",
       "      <td>Positive</td>\n",
       "      <td>happi mother day mommi woman man long momma so...</td>\n",
       "    </tr>\n",
       "    <tr>\n",
       "      <th>39998</th>\n",
       "      <td>1753919043</td>\n",
       "      <td>happiness</td>\n",
       "      <td>WASSUP BEAUTIFUL!!! FOLLOW ME!! PEEP OUT MY NE...</td>\n",
       "      <td>Positive</td>\n",
       "      <td>wassup beauti follow peep new hit singl wwwmys...</td>\n",
       "    </tr>\n",
       "    <tr>\n",
       "      <th>39999</th>\n",
       "      <td>1753919049</td>\n",
       "      <td>love</td>\n",
       "      <td>bullet train from tokyo the gf and i have been...</td>\n",
       "      <td>Positive</td>\n",
       "      <td>bullet train tokyo gf visit japan sinc thursda...</td>\n",
       "    </tr>\n",
       "  </tbody>\n",
       "</table>\n",
       "<p>39784 rows × 5 columns</p>\n",
       "</div>"
      ],
      "text/plain": [
       "         tweet_id   sentiment  \\\n",
       "0      1956967341       empty   \n",
       "1      1956967666     sadness   \n",
       "2      1956967696     sadness   \n",
       "3      1956967789  enthusiasm   \n",
       "4      1956968416     neutral   \n",
       "...           ...         ...   \n",
       "39994  1753918900   happiness   \n",
       "39996  1753919001        love   \n",
       "39997  1753919005        love   \n",
       "39998  1753919043   happiness   \n",
       "39999  1753919049        love   \n",
       "\n",
       "                                                 content sentiment_subgroup  \\\n",
       "0      i know i was listenin to bad habit earlier and...           Negative   \n",
       "1      Layin n bed with a headache ughhhh...waitin on...           Negative   \n",
       "2                    Funeral ceremony...gloomy friday...           Negative   \n",
       "3                   wants to hang out with friends SOON!           Positive   \n",
       "4      We want to trade with someone who has Houston ...            Neutral   \n",
       "...                                                  ...                ...   \n",
       "39994                      Succesfully following Tayla!!           Positive   \n",
       "39996                      Happy Mothers Day All my love           Positive   \n",
       "39997  Happy Mother's Day to all the mommies out ther...           Positive   \n",
       "39998  WASSUP BEAUTIFUL!!! FOLLOW ME!! PEEP OUT MY NE...           Positive   \n",
       "39999  bullet train from tokyo the gf and i have been...           Positive   \n",
       "\n",
       "                                                  tokens  \n",
       "0      know listenin bad habit earlier start freakin ...  \n",
       "1                   layin bed headach ughhhh waitin call  \n",
       "2                           funer ceremoni gloomi friday  \n",
       "3                                  want hang friend soon  \n",
       "4                   want trade someon houston ticket one  \n",
       "...                                                  ...  \n",
       "39994                                succes follow tayla  \n",
       "39996                              happi mother day love  \n",
       "39997  happi mother day mommi woman man long momma so...  \n",
       "39998  wassup beauti follow peep new hit singl wwwmys...  \n",
       "39999  bullet train tokyo gf visit japan sinc thursda...  \n",
       "\n",
       "[39784 rows x 5 columns]"
      ]
     },
     "execution_count": 32,
     "metadata": {},
     "output_type": "execute_result"
    }
   ],
   "source": [
    "df"
   ]
  },
  {
   "cell_type": "markdown",
   "id": "a074274b-f2ca-49bf-879f-7d3f7e860af8",
   "metadata": {
    "tags": []
   },
   "source": [
    "### Handling out-of-vocabulary words"
   ]
  },
  {
   "cell_type": "markdown",
   "id": "e89beb0c-ce0f-4d7a-802a-dc3df75cf3fe",
   "metadata": {
    "tags": []
   },
   "source": [
    "Author note: It seemed I couldn't do this until I had trained a Word2Vec model "
   ]
  },
  {
   "cell_type": "markdown",
   "id": "16f41aed-59a3-4e90-b9ab-f02f6240963d",
   "metadata": {},
   "source": [
    "## Reset index "
   ]
  },
  {
   "cell_type": "code",
   "execution_count": 33,
   "id": "07f6ed6f-8729-409c-a143-8ceffe969b26",
   "metadata": {
    "tags": []
   },
   "outputs": [],
   "source": [
    "df.reset_index(drop=True, inplace=True)"
   ]
  },
  {
   "cell_type": "markdown",
   "id": "3cb9eca9-a3c0-4e4f-8c9f-660cf3ef0008",
   "metadata": {},
   "source": [
    "## Check preprocessed df"
   ]
  },
  {
   "cell_type": "code",
   "execution_count": 34,
   "id": "72b28960-d54a-444a-8ccc-1359caea126d",
   "metadata": {
    "tags": []
   },
   "outputs": [
    {
     "data": {
      "text/html": [
       "<div>\n",
       "<style scoped>\n",
       "    .dataframe tbody tr th:only-of-type {\n",
       "        vertical-align: middle;\n",
       "    }\n",
       "\n",
       "    .dataframe tbody tr th {\n",
       "        vertical-align: top;\n",
       "    }\n",
       "\n",
       "    .dataframe thead th {\n",
       "        text-align: right;\n",
       "    }\n",
       "</style>\n",
       "<table border=\"1\" class=\"dataframe\">\n",
       "  <thead>\n",
       "    <tr style=\"text-align: right;\">\n",
       "      <th></th>\n",
       "      <th>tweet_id</th>\n",
       "      <th>sentiment</th>\n",
       "      <th>content</th>\n",
       "      <th>sentiment_subgroup</th>\n",
       "      <th>tokens</th>\n",
       "    </tr>\n",
       "  </thead>\n",
       "  <tbody>\n",
       "    <tr>\n",
       "      <th>0</th>\n",
       "      <td>1956967341</td>\n",
       "      <td>empty</td>\n",
       "      <td>i know i was listenin to bad habit earlier and...</td>\n",
       "      <td>Negative</td>\n",
       "      <td>know listenin bad habit earlier start freakin ...</td>\n",
       "    </tr>\n",
       "    <tr>\n",
       "      <th>1</th>\n",
       "      <td>1956967666</td>\n",
       "      <td>sadness</td>\n",
       "      <td>Layin n bed with a headache ughhhh...waitin on...</td>\n",
       "      <td>Negative</td>\n",
       "      <td>layin bed headach ughhhh waitin call</td>\n",
       "    </tr>\n",
       "    <tr>\n",
       "      <th>2</th>\n",
       "      <td>1956967696</td>\n",
       "      <td>sadness</td>\n",
       "      <td>Funeral ceremony...gloomy friday...</td>\n",
       "      <td>Negative</td>\n",
       "      <td>funer ceremoni gloomi friday</td>\n",
       "    </tr>\n",
       "    <tr>\n",
       "      <th>3</th>\n",
       "      <td>1956967789</td>\n",
       "      <td>enthusiasm</td>\n",
       "      <td>wants to hang out with friends SOON!</td>\n",
       "      <td>Positive</td>\n",
       "      <td>want hang friend soon</td>\n",
       "    </tr>\n",
       "    <tr>\n",
       "      <th>4</th>\n",
       "      <td>1956968416</td>\n",
       "      <td>neutral</td>\n",
       "      <td>We want to trade with someone who has Houston ...</td>\n",
       "      <td>Neutral</td>\n",
       "      <td>want trade someon houston ticket one</td>\n",
       "    </tr>\n",
       "    <tr>\n",
       "      <th>...</th>\n",
       "      <td>...</td>\n",
       "      <td>...</td>\n",
       "      <td>...</td>\n",
       "      <td>...</td>\n",
       "      <td>...</td>\n",
       "    </tr>\n",
       "    <tr>\n",
       "      <th>39779</th>\n",
       "      <td>1753918900</td>\n",
       "      <td>happiness</td>\n",
       "      <td>Succesfully following Tayla!!</td>\n",
       "      <td>Positive</td>\n",
       "      <td>succes follow tayla</td>\n",
       "    </tr>\n",
       "    <tr>\n",
       "      <th>39780</th>\n",
       "      <td>1753919001</td>\n",
       "      <td>love</td>\n",
       "      <td>Happy Mothers Day All my love</td>\n",
       "      <td>Positive</td>\n",
       "      <td>happi mother day love</td>\n",
       "    </tr>\n",
       "    <tr>\n",
       "      <th>39781</th>\n",
       "      <td>1753919005</td>\n",
       "      <td>love</td>\n",
       "      <td>Happy Mother's Day to all the mommies out ther...</td>\n",
       "      <td>Positive</td>\n",
       "      <td>happi mother day mommi woman man long momma so...</td>\n",
       "    </tr>\n",
       "    <tr>\n",
       "      <th>39782</th>\n",
       "      <td>1753919043</td>\n",
       "      <td>happiness</td>\n",
       "      <td>WASSUP BEAUTIFUL!!! FOLLOW ME!! PEEP OUT MY NE...</td>\n",
       "      <td>Positive</td>\n",
       "      <td>wassup beauti follow peep new hit singl wwwmys...</td>\n",
       "    </tr>\n",
       "    <tr>\n",
       "      <th>39783</th>\n",
       "      <td>1753919049</td>\n",
       "      <td>love</td>\n",
       "      <td>bullet train from tokyo the gf and i have been...</td>\n",
       "      <td>Positive</td>\n",
       "      <td>bullet train tokyo gf visit japan sinc thursda...</td>\n",
       "    </tr>\n",
       "  </tbody>\n",
       "</table>\n",
       "<p>39784 rows × 5 columns</p>\n",
       "</div>"
      ],
      "text/plain": [
       "         tweet_id   sentiment  \\\n",
       "0      1956967341       empty   \n",
       "1      1956967666     sadness   \n",
       "2      1956967696     sadness   \n",
       "3      1956967789  enthusiasm   \n",
       "4      1956968416     neutral   \n",
       "...           ...         ...   \n",
       "39779  1753918900   happiness   \n",
       "39780  1753919001        love   \n",
       "39781  1753919005        love   \n",
       "39782  1753919043   happiness   \n",
       "39783  1753919049        love   \n",
       "\n",
       "                                                 content sentiment_subgroup  \\\n",
       "0      i know i was listenin to bad habit earlier and...           Negative   \n",
       "1      Layin n bed with a headache ughhhh...waitin on...           Negative   \n",
       "2                    Funeral ceremony...gloomy friday...           Negative   \n",
       "3                   wants to hang out with friends SOON!           Positive   \n",
       "4      We want to trade with someone who has Houston ...            Neutral   \n",
       "...                                                  ...                ...   \n",
       "39779                      Succesfully following Tayla!!           Positive   \n",
       "39780                      Happy Mothers Day All my love           Positive   \n",
       "39781  Happy Mother's Day to all the mommies out ther...           Positive   \n",
       "39782  WASSUP BEAUTIFUL!!! FOLLOW ME!! PEEP OUT MY NE...           Positive   \n",
       "39783  bullet train from tokyo the gf and i have been...           Positive   \n",
       "\n",
       "                                                  tokens  \n",
       "0      know listenin bad habit earlier start freakin ...  \n",
       "1                   layin bed headach ughhhh waitin call  \n",
       "2                           funer ceremoni gloomi friday  \n",
       "3                                  want hang friend soon  \n",
       "4                   want trade someon houston ticket one  \n",
       "...                                                  ...  \n",
       "39779                                succes follow tayla  \n",
       "39780                              happi mother day love  \n",
       "39781  happi mother day mommi woman man long momma so...  \n",
       "39782  wassup beauti follow peep new hit singl wwwmys...  \n",
       "39783  bullet train tokyo gf visit japan sinc thursda...  \n",
       "\n",
       "[39784 rows x 5 columns]"
      ]
     },
     "execution_count": 34,
     "metadata": {},
     "output_type": "execute_result"
    }
   ],
   "source": [
    "df"
   ]
  },
  {
   "cell_type": "markdown",
   "id": "f4195652-9fe7-4f84-9ed2-7aac349ca043",
   "metadata": {},
   "source": [
    "## Word embedding "
   ]
  },
  {
   "cell_type": "code",
   "execution_count": 35,
   "id": "667ec6a8-edb8-4622-9ad2-3ead6c072d75",
   "metadata": {
    "tags": []
   },
   "outputs": [
    {
     "name": "stderr",
     "output_type": "stream",
     "text": [
      "/var/folders/cr/qlkb4cqn3vn0pb1jrc5s04800000gn/T/ipykernel_9207/2251675765.py:6: SettingWithCopyWarning: \n",
      "A value is trying to be set on a copy of a slice from a DataFrame.\n",
      "Try using .loc[row_indexer,col_indexer] = value instead\n",
      "\n",
      "See the caveats in the documentation: https://pandas.pydata.org/pandas-docs/stable/user_guide/indexing.html#returning-a-view-versus-a-copy\n",
      "  df['tokens'] = df['content'].apply(word_tokenize)\n",
      "/var/folders/cr/qlkb4cqn3vn0pb1jrc5s04800000gn/T/ipykernel_9207/2251675765.py:25: SettingWithCopyWarning: \n",
      "A value is trying to be set on a copy of a slice from a DataFrame.\n",
      "Try using .loc[row_indexer,col_indexer] = value instead\n",
      "\n",
      "See the caveats in the documentation: https://pandas.pydata.org/pandas-docs/stable/user_guide/indexing.html#returning-a-view-versus-a-copy\n",
      "  df['word_embeddings'] = df['tokens'].apply(apply_word_embeddings)\n"
     ]
    }
   ],
   "source": [
    "from gensim.models import Word2Vec\n",
    "from nltk.tokenize import word_tokenize\n",
    "import numpy as np\n",
    "\n",
    "# Tokenize text in the 'content' column\n",
    "df['tokens'] = df['content'].apply(word_tokenize)\n",
    "\n",
    "# Load pre-trained Word2Vec model \n",
    "word2vec_model = Word2Vec(df['tokens'], min_count=1)\n",
    "\n",
    "# Function to apply word embeddings\n",
    "def apply_word_embeddings(tokens):\n",
    "    word_vectors = []\n",
    "    for token in tokens:\n",
    "        if token in word2vec_model.wv:\n",
    "            word_vector = word2vec_model.wv[token]  # Get word vector\n",
    "            word_vectors.append(word_vector)\n",
    "    if word_vectors:\n",
    "        tweet_vector = np.mean(word_vectors, axis=0)  # Aggregate word vectors\n",
    "        return tweet_vector\n",
    "    else:\n",
    "        return None\n",
    "\n",
    "# Apply word embeddings to the 'tokens' column\n",
    "df['word_embeddings'] = df['tokens'].apply(apply_word_embeddings)\n",
    "\n",
    "# Drop rows with None values in 'word_embeddings' column\n",
    "df = df.dropna(subset=['word_embeddings'])"
   ]
  },
  {
   "cell_type": "code",
   "execution_count": 36,
   "id": "4aaaa36d-e497-486c-acc2-d9a9ad4ffa6f",
   "metadata": {
    "tags": []
   },
   "outputs": [
    {
     "data": {
      "text/html": [
       "<div>\n",
       "<style scoped>\n",
       "    .dataframe tbody tr th:only-of-type {\n",
       "        vertical-align: middle;\n",
       "    }\n",
       "\n",
       "    .dataframe tbody tr th {\n",
       "        vertical-align: top;\n",
       "    }\n",
       "\n",
       "    .dataframe thead th {\n",
       "        text-align: right;\n",
       "    }\n",
       "</style>\n",
       "<table border=\"1\" class=\"dataframe\">\n",
       "  <thead>\n",
       "    <tr style=\"text-align: right;\">\n",
       "      <th></th>\n",
       "      <th>tweet_id</th>\n",
       "      <th>sentiment</th>\n",
       "      <th>content</th>\n",
       "      <th>sentiment_subgroup</th>\n",
       "      <th>tokens</th>\n",
       "      <th>word_embeddings</th>\n",
       "    </tr>\n",
       "  </thead>\n",
       "  <tbody>\n",
       "    <tr>\n",
       "      <th>0</th>\n",
       "      <td>1956967341</td>\n",
       "      <td>empty</td>\n",
       "      <td>i know i was listenin to bad habit earlier and...</td>\n",
       "      <td>Negative</td>\n",
       "      <td>[i, know, i, was, listenin, to, bad, habit, ea...</td>\n",
       "      <td>[-0.12726037, 0.698397, -0.23790373, 0.4721172...</td>\n",
       "    </tr>\n",
       "    <tr>\n",
       "      <th>1</th>\n",
       "      <td>1956967666</td>\n",
       "      <td>sadness</td>\n",
       "      <td>Layin n bed with a headache ughhhh...waitin on...</td>\n",
       "      <td>Negative</td>\n",
       "      <td>[Layin, n, bed, with, a, headache, ughhhh, ......</td>\n",
       "      <td>[-0.27722132, 0.5931444, -0.016292753, 0.11980...</td>\n",
       "    </tr>\n",
       "    <tr>\n",
       "      <th>2</th>\n",
       "      <td>1956967696</td>\n",
       "      <td>sadness</td>\n",
       "      <td>Funeral ceremony...gloomy friday...</td>\n",
       "      <td>Negative</td>\n",
       "      <td>[Funeral, ceremony, ..., gloomy, friday, ...]</td>\n",
       "      <td>[-0.09479669, 0.5384953, -0.025269656, 0.27730...</td>\n",
       "    </tr>\n",
       "    <tr>\n",
       "      <th>3</th>\n",
       "      <td>1956967789</td>\n",
       "      <td>enthusiasm</td>\n",
       "      <td>wants to hang out with friends SOON!</td>\n",
       "      <td>Positive</td>\n",
       "      <td>[wants, to, hang, out, with, friends, SOON, !]</td>\n",
       "      <td>[-0.6055963, 0.6978202, 0.09877061, 0.13658676...</td>\n",
       "    </tr>\n",
       "    <tr>\n",
       "      <th>4</th>\n",
       "      <td>1956968416</td>\n",
       "      <td>neutral</td>\n",
       "      <td>We want to trade with someone who has Houston ...</td>\n",
       "      <td>Neutral</td>\n",
       "      <td>[We, want, to, trade, with, someone, who, has,...</td>\n",
       "      <td>[-0.3797439, 0.9407027, 0.19325829, 0.32740754...</td>\n",
       "    </tr>\n",
       "  </tbody>\n",
       "</table>\n",
       "</div>"
      ],
      "text/plain": [
       "     tweet_id   sentiment                                            content  \\\n",
       "0  1956967341       empty  i know i was listenin to bad habit earlier and...   \n",
       "1  1956967666     sadness  Layin n bed with a headache ughhhh...waitin on...   \n",
       "2  1956967696     sadness                Funeral ceremony...gloomy friday...   \n",
       "3  1956967789  enthusiasm               wants to hang out with friends SOON!   \n",
       "4  1956968416     neutral  We want to trade with someone who has Houston ...   \n",
       "\n",
       "  sentiment_subgroup                                             tokens  \\\n",
       "0           Negative  [i, know, i, was, listenin, to, bad, habit, ea...   \n",
       "1           Negative  [Layin, n, bed, with, a, headache, ughhhh, ......   \n",
       "2           Negative      [Funeral, ceremony, ..., gloomy, friday, ...]   \n",
       "3           Positive     [wants, to, hang, out, with, friends, SOON, !]   \n",
       "4            Neutral  [We, want, to, trade, with, someone, who, has,...   \n",
       "\n",
       "                                     word_embeddings  \n",
       "0  [-0.12726037, 0.698397, -0.23790373, 0.4721172...  \n",
       "1  [-0.27722132, 0.5931444, -0.016292753, 0.11980...  \n",
       "2  [-0.09479669, 0.5384953, -0.025269656, 0.27730...  \n",
       "3  [-0.6055963, 0.6978202, 0.09877061, 0.13658676...  \n",
       "4  [-0.3797439, 0.9407027, 0.19325829, 0.32740754...  "
      ]
     },
     "execution_count": 36,
     "metadata": {},
     "output_type": "execute_result"
    }
   ],
   "source": [
    "df.head()"
   ]
  },
  {
   "cell_type": "code",
   "execution_count": 37,
   "id": "7915c232-9922-4e30-87fe-fdcb2f552209",
   "metadata": {
    "tags": []
   },
   "outputs": [
    {
     "name": "stdout",
     "output_type": "stream",
     "text": [
      "   sentiment_subgroup                                    word_embeddings\n",
      "0                   0  [-0.12726037, 0.698397, -0.23790373, 0.4721172...\n",
      "1                   0  [-0.27722132, 0.5931444, -0.016292753, 0.11980...\n",
      "2                   0  [-0.09479669, 0.5384953, -0.025269656, 0.27730...\n",
      "3                   2  [-0.6055963, 0.6978202, 0.09877061, 0.13658676...\n",
      "4                   1  [-0.3797439, 0.9407027, 0.19325829, 0.32740754...\n"
     ]
    }
   ],
   "source": [
    "from sklearn.preprocessing import LabelEncoder\n",
    "\n",
    "# Drop columns except 'sentiment_subgroup' and word embeddings\n",
    "columns_to_keep = ['sentiment_subgroup', 'word_embeddings']\n",
    "df = df[columns_to_keep]\n",
    "\n",
    "# Convert 'sentiment_subgroup' into numeric values\n",
    "label_encoder = LabelEncoder()\n",
    "df['sentiment_subgroup'] = label_encoder.fit_transform(df['sentiment_subgroup'])\n",
    "\n",
    "# Display the first few rows of the modified DataFrame\n",
    "print(df.head())"
   ]
  },
  {
   "cell_type": "markdown",
   "id": "09e5cb18-4325-4738-8a60-a4c7b9441777",
   "metadata": {},
   "source": [
    "## Train test split and model training "
   ]
  },
  {
   "cell_type": "code",
   "execution_count": 38,
   "id": "c2d5b933-2758-43c8-947a-ba4dbb57f234",
   "metadata": {
    "tags": []
   },
   "outputs": [
    {
     "name": "stderr",
     "output_type": "stream",
     "text": [
      "2024-03-05 10:11:49.604625: I tensorflow/core/platform/cpu_feature_guard.cc:182] This TensorFlow binary is optimized to use available CPU instructions in performance-critical operations.\n",
      "To enable the following instructions: AVX2 FMA, in other operations, rebuild TensorFlow with the appropriate compiler flags.\n"
     ]
    },
    {
     "name": "stdout",
     "output_type": "stream",
     "text": [
      "Epoch 1/30\n",
      "796/796 [==============================] - 3s 3ms/step - loss: 1.0747 - accuracy: 0.4591 - val_loss: 1.0114 - val_accuracy: 0.4961\n",
      "Epoch 2/30\n",
      "796/796 [==============================] - 2s 2ms/step - loss: 1.0207 - accuracy: 0.4817 - val_loss: 1.0115 - val_accuracy: 0.4925\n",
      "Epoch 3/30\n",
      "796/796 [==============================] - 2s 2ms/step - loss: 1.0094 - accuracy: 0.4942 - val_loss: 1.0021 - val_accuracy: 0.5072\n",
      "Epoch 4/30\n",
      "796/796 [==============================] - 2s 3ms/step - loss: 1.0053 - accuracy: 0.5005 - val_loss: 0.9982 - val_accuracy: 0.5085\n",
      "Epoch 5/30\n",
      "796/796 [==============================] - 2s 2ms/step - loss: 1.0019 - accuracy: 0.5024 - val_loss: 0.9992 - val_accuracy: 0.5005\n",
      "Epoch 6/30\n",
      "796/796 [==============================] - 2s 2ms/step - loss: 0.9978 - accuracy: 0.5069 - val_loss: 0.9967 - val_accuracy: 0.5052\n",
      "Epoch 7/30\n",
      "796/796 [==============================] - 2s 2ms/step - loss: 0.9970 - accuracy: 0.5057 - val_loss: 0.9960 - val_accuracy: 0.5118\n",
      "Epoch 8/30\n",
      "796/796 [==============================] - 2s 2ms/step - loss: 0.9952 - accuracy: 0.5099 - val_loss: 0.9993 - val_accuracy: 0.5030\n",
      "Epoch 9/30\n",
      "796/796 [==============================] - 2s 3ms/step - loss: 0.9945 - accuracy: 0.5068 - val_loss: 0.9930 - val_accuracy: 0.5165\n",
      "Epoch 10/30\n",
      "796/796 [==============================] - 2s 2ms/step - loss: 0.9908 - accuracy: 0.5128 - val_loss: 0.9916 - val_accuracy: 0.5174\n",
      "Epoch 11/30\n",
      "796/796 [==============================] - 2s 2ms/step - loss: 0.9908 - accuracy: 0.5104 - val_loss: 0.9957 - val_accuracy: 0.5123\n",
      "Epoch 12/30\n",
      "796/796 [==============================] - 2s 2ms/step - loss: 0.9876 - accuracy: 0.5162 - val_loss: 0.9930 - val_accuracy: 0.5097\n",
      "Epoch 13/30\n",
      "796/796 [==============================] - 2s 2ms/step - loss: 0.9876 - accuracy: 0.5133 - val_loss: 0.9969 - val_accuracy: 0.5041\n",
      "Epoch 14/30\n",
      "796/796 [==============================] - 2s 2ms/step - loss: 0.9857 - accuracy: 0.5157 - val_loss: 0.9935 - val_accuracy: 0.5099\n",
      "Epoch 15/30\n",
      "796/796 [==============================] - 2s 2ms/step - loss: 0.9834 - accuracy: 0.5171 - val_loss: 0.9941 - val_accuracy: 0.5134\n",
      "Epoch 16/30\n",
      "796/796 [==============================] - 2s 2ms/step - loss: 0.9833 - accuracy: 0.5208 - val_loss: 0.9995 - val_accuracy: 0.5009\n",
      "Epoch 17/30\n",
      "796/796 [==============================] - 2s 2ms/step - loss: 0.9823 - accuracy: 0.5203 - val_loss: 0.9907 - val_accuracy: 0.5154\n",
      "Epoch 18/30\n",
      "796/796 [==============================] - 2s 2ms/step - loss: 0.9824 - accuracy: 0.5181 - val_loss: 0.9929 - val_accuracy: 0.5101\n",
      "Epoch 19/30\n",
      "796/796 [==============================] - 2s 2ms/step - loss: 0.9821 - accuracy: 0.5181 - val_loss: 0.9973 - val_accuracy: 0.5129\n",
      "Epoch 20/30\n",
      "796/796 [==============================] - 2s 3ms/step - loss: 0.9802 - accuracy: 0.5193 - val_loss: 0.9915 - val_accuracy: 0.5160\n",
      "Epoch 21/30\n",
      "796/796 [==============================] - 2s 3ms/step - loss: 0.9775 - accuracy: 0.5210 - val_loss: 0.9913 - val_accuracy: 0.5160\n",
      "Epoch 22/30\n",
      "796/796 [==============================] - 2s 2ms/step - loss: 0.9779 - accuracy: 0.5219 - val_loss: 0.9945 - val_accuracy: 0.5152\n",
      "Epoch 23/30\n",
      "796/796 [==============================] - 2s 2ms/step - loss: 0.9753 - accuracy: 0.5271 - val_loss: 0.9928 - val_accuracy: 0.5121\n",
      "Epoch 24/30\n",
      "796/796 [==============================] - 2s 2ms/step - loss: 0.9759 - accuracy: 0.5243 - val_loss: 0.9940 - val_accuracy: 0.5110\n",
      "Epoch 25/30\n",
      "796/796 [==============================] - 2s 3ms/step - loss: 0.9763 - accuracy: 0.5221 - val_loss: 0.9935 - val_accuracy: 0.5129\n",
      "Epoch 26/30\n",
      "796/796 [==============================] - 2s 2ms/step - loss: 0.9737 - accuracy: 0.5255 - val_loss: 0.9911 - val_accuracy: 0.5102\n",
      "Epoch 27/30\n",
      "796/796 [==============================] - 2s 2ms/step - loss: 0.9738 - accuracy: 0.5283 - val_loss: 0.9926 - val_accuracy: 0.5126\n",
      "Epoch 28/30\n",
      "796/796 [==============================] - 2s 3ms/step - loss: 0.9738 - accuracy: 0.5279 - val_loss: 0.9927 - val_accuracy: 0.5141\n",
      "Epoch 29/30\n",
      "796/796 [==============================] - 2s 2ms/step - loss: 0.9699 - accuracy: 0.5294 - val_loss: 0.9999 - val_accuracy: 0.5055\n",
      "Epoch 30/30\n",
      "796/796 [==============================] - 2s 2ms/step - loss: 0.9697 - accuracy: 0.5287 - val_loss: 0.9936 - val_accuracy: 0.5102\n",
      "995/995 [==============================] - 1s 1ms/step\n",
      "249/249 [==============================] - 0s 1ms/step\n",
      "Train Accuracy: 0.5363999120243819\n",
      "Train Precision: 0.5362121001807383\n",
      "Train Recall: 0.5363999120243819\n",
      "Train F1 Score: 0.5236369356057872\n",
      "Test Accuracy: 0.497172301118512\n",
      "Test Precision: 0.49553871627028406\n",
      "Test Recall: 0.497172301118512\n",
      "Test F1 Score: 0.48413958207454116\n"
     ]
    }
   ],
   "source": [
    "import numpy as np\n",
    "import pandas as pd\n",
    "from sklearn.model_selection import train_test_split\n",
    "from sklearn.metrics import accuracy_score, precision_score, recall_score, f1_score\n",
    "import tensorflow as tf\n",
    "from sklearn.preprocessing import StandardScaler\n",
    "\n",
    "# Assuming 'df' contains the DataFrame with columns 'sentiment_subgroup' and 'word_embeddings'\n",
    "\n",
    "# Splitting the data into features (X) and target (y)\n",
    "X = np.array(df['word_embeddings'].tolist())  # Convert word embeddings to numpy array\n",
    "y = np.array(df['sentiment_subgroup'])\n",
    "\n",
    "# Splitting the data into train and test sets\n",
    "X_train, X_test, y_train, y_test = train_test_split(X, y, test_size=0.2, random_state=42)\n",
    "\n",
    "# Standardizing the features\n",
    "scaler = StandardScaler()\n",
    "X_train = scaler.fit_transform(X_train)\n",
    "X_test = scaler.transform(X_test)\n",
    "\n",
    "# Define the neural network model\n",
    "model = tf.keras.Sequential([\n",
    "    tf.keras.layers.Dense(128, activation='relu', input_shape=(X_train.shape[1],)),\n",
    "    tf.keras.layers.Dropout(0.2),\n",
    "    tf.keras.layers.Dense(3, activation='softmax')  # Assuming 3 classes for sentiment_subgroup\n",
    "])\n",
    "\n",
    "# Compile the model\n",
    "model.compile(optimizer='adam',\n",
    "              loss='sparse_categorical_crossentropy',\n",
    "              metrics=['accuracy'])\n",
    "\n",
    "# Train the model\n",
    "history = model.fit(X_train, y_train, epochs=30, batch_size=32, validation_split=0.2)\n",
    "\n",
    "# Predictions\n",
    "y_train_prob = model.predict(X_train)\n",
    "y_test_prob = model.predict(X_test)\n",
    "\n",
    "# Convert predicted probabilities to class labels\n",
    "y_train_pred = np.argmax(y_train_prob, axis=1)\n",
    "y_test_pred = np.argmax(y_test_prob, axis=1)\n",
    "\n",
    "# Calculate metrics for train set\n",
    "train_accuracy = accuracy_score(y_train, y_train_pred)\n",
    "train_precision = precision_score(y_train, y_train_pred, average='weighted')\n",
    "train_recall = recall_score(y_train, y_train_pred, average='weighted')\n",
    "train_f1 = f1_score(y_train, y_train_pred, average='weighted')\n",
    "\n",
    "# Calculate metrics for test set\n",
    "test_accuracy = accuracy_score(y_test, y_test_pred)\n",
    "test_precision = precision_score(y_test, y_test_pred, average='weighted')\n",
    "test_recall = recall_score(y_test, y_test_pred, average='weighted')\n",
    "test_f1 = f1_score(y_test, y_test_pred, average='weighted')\n",
    "\n",
    "# Print the metrics\n",
    "print(\"Train Accuracy:\", train_accuracy)\n",
    "print(\"Train Precision:\", train_precision)\n",
    "print(\"Train Recall:\", train_recall)\n",
    "print(\"Train F1 Score:\", train_f1)\n",
    "print(\"Test Accuracy:\", test_accuracy)\n",
    "print(\"Test Precision:\", test_precision)\n",
    "print(\"Test Recall:\", test_recall)\n",
    "print(\"Test F1 Score:\", test_f1)"
   ]
  },
  {
   "cell_type": "code",
   "execution_count": 39,
   "id": "ea8af321-aeee-4b78-93b8-bbb1e3cbf486",
   "metadata": {
    "tags": []
   },
   "outputs": [
    {
     "data": {
      "image/png": "[encoded data removed]",
      "text/plain": [
       "<Figure size 640x480 with 1 Axes>"
      ]
     },
     "metadata": {},
     "output_type": "display_data"
    }
   ],
   "source": [
    "import matplotlib.pyplot as plt\n",
    "\n",
    "# Plot training and validation accuracy per epoch\n",
    "plt.plot(history.history['accuracy'], label='Train Accuracy')\n",
    "plt.plot(history.history['val_accuracy'], label='Validation Accuracy')\n",
    "plt.xlabel('Epoch')\n",
    "plt.ylabel('Accuracy')\n",
    "plt.title('Training and Validation Accuracy per Epoch')\n",
    "plt.legend()\n",
    "plt.show()"
   ]
  },
  {
   "cell_type": "markdown",
   "id": "60075e12-c65c-4185-bda5-82ac4a1b5ebb",
   "metadata": {},
   "source": [
    "## Explanation of model "
   ]
  },
  {
   "cell_type": "markdown",
   "id": "cf7aa759-d7a7-4c90-b68b-3f872d8bb93a",
   "metadata": {},
   "source": [
    "The code provided above is using a neural network for training and making predictions. It utilizes TensorFlow, a popular deep learning framework, to define and train the neural network model. The model architecture is defined using the Sequential API from TensorFlow, which allows you to create a sequential stack of layers in your neural network.\n",
    "\n",
    "Here's a breakdown of the neural network-related parts in the code:\n",
    "\n",
    "- Defining the Model: The neural network model is defined using tf.keras.Sequential. In the provided code, it consists of two dense layers with ReLU activation functions and a dropout layer to prevent overfitting.\n",
    "\n",
    "- Compiling the Model: After defining the model, it is compiled using model.compile(), where you specify the optimizer, loss function, and metrics to use during training.\n",
    "\n",
    "- Training the Model: The model is trained using model.fit(), where you pass the training data (X_train and y_train) along with the number of epochs and batch size.\n",
    "\n",
    "- Making Predictions: After training, predictions are made using the trained model. In the code, predictions are made using the predict() method, which returns the predicted probabilities for each class. Then, the class with the highest probability is chosen as the predicted class.\n",
    "\n",
    "- Evaluating the Model: Finally, the performance of the model is evaluated using various metrics such as accuracy, precision, recall, and F1-score on both the training and test sets.\n",
    "\n",
    "Overall, the provided code demonstrates the process of building, training, and evaluating a neural network model using TensorFlow for a classification task."
   ]
  },
  {
   "cell_type": "markdown",
   "id": "dfd442a2-523f-4f53-a206-e1d2f6b5e326",
   "metadata": {},
   "source": [
    "## Why do I standardize the features in this model? "
   ]
  },
  {
   "cell_type": "markdown",
   "id": "191b6819-d80e-4d40-a84a-487d22c417eb",
   "metadata": {},
   "source": [
    "Overall, standardizing features before training a neural network helps improve the stability, convergence speed, and generalization performance of the model, making it an essential preprocessing step in many machine learning tasks."
   ]
  },
  {
   "cell_type": "code",
   "execution_count": null,
   "id": "91f548a7-1e16-4c58-8eb3-c6e005457644",
   "metadata": {},
   "outputs": [],
   "source": []
  }
 ],
 "metadata": {
  "kernelspec": {
   "display_name": "Python 3 (ipykernel)",
   "language": "python",
   "name": "python3"
  },
  "language_info": {
   "codemirror_mode": {
    "name": "ipython",
    "version": 3
   },
   "file_extension": ".py",
   "mimetype": "text/x-python",
   "name": "python",
   "nbconvert_exporter": "python",
   "pygments_lexer": "ipython3",
   "version": "3.11.5"
  }
 },
 "nbformat": 4,
 "nbformat_minor": 5
}
