{
 "cells": [
  {
   "cell_type": "code",
   "execution_count": 1,
   "id": "a5b17e6a-0bd4-4100-a78c-f451ed59462a",
   "metadata": {
    "tags": []
   },
   "outputs": [],
   "source": [
    "import pandas as pd"
   ]
  },
  {
   "cell_type": "code",
   "execution_count": 2,
   "id": "45790b53-a4e4-4608-8740-58d370be8b7c",
   "metadata": {
    "tags": []
   },
   "outputs": [],
   "source": [
    "df = pd.read_csv('reviews.csv')"
   ]
  },
  {
   "cell_type": "code",
   "execution_count": 3,
   "id": "37f656aa-daf4-4dd0-bd99-aa5ac8481dae",
   "metadata": {
    "tags": []
   },
   "outputs": [
    {
     "data": {
      "text/html": [
       "<div>\n",
       "<style scoped>\n",
       "    .dataframe tbody tr th:only-of-type {\n",
       "        vertical-align: middle;\n",
       "    }\n",
       "\n",
       "    .dataframe tbody tr th {\n",
       "        vertical-align: top;\n",
       "    }\n",
       "\n",
       "    .dataframe thead th {\n",
       "        text-align: right;\n",
       "    }\n",
       "</style>\n",
       "<table border=\"1\" class=\"dataframe\">\n",
       "  <thead>\n",
       "    <tr style=\"text-align: right;\">\n",
       "      <th></th>\n",
       "      <th>business_name</th>\n",
       "      <th>author_name</th>\n",
       "      <th>text</th>\n",
       "      <th>photo</th>\n",
       "      <th>rating</th>\n",
       "      <th>rating_category</th>\n",
       "    </tr>\n",
       "  </thead>\n",
       "  <tbody>\n",
       "    <tr>\n",
       "      <th>0</th>\n",
       "      <td>Haci'nin Yeri - Yigit Lokantasi</td>\n",
       "      <td>Gulsum Akar</td>\n",
       "      <td>We went to Marmaris with my wife for a holiday...</td>\n",
       "      <td>dataset/taste/hacinin_yeri_gulsum_akar.png</td>\n",
       "      <td>5</td>\n",
       "      <td>taste</td>\n",
       "    </tr>\n",
       "    <tr>\n",
       "      <th>1</th>\n",
       "      <td>Haci'nin Yeri - Yigit Lokantasi</td>\n",
       "      <td>Oguzhan Cetin</td>\n",
       "      <td>During my holiday in Marmaris we ate here to f...</td>\n",
       "      <td>dataset/menu/hacinin_yeri_oguzhan_cetin.png</td>\n",
       "      <td>4</td>\n",
       "      <td>menu</td>\n",
       "    </tr>\n",
       "    <tr>\n",
       "      <th>2</th>\n",
       "      <td>Haci'nin Yeri - Yigit Lokantasi</td>\n",
       "      <td>Yasin Kuyu</td>\n",
       "      <td>Prices are very affordable. The menu in the ph...</td>\n",
       "      <td>dataset/outdoor_atmosphere/hacinin_yeri_yasin_...</td>\n",
       "      <td>3</td>\n",
       "      <td>outdoor_atmosphere</td>\n",
       "    </tr>\n",
       "    <tr>\n",
       "      <th>3</th>\n",
       "      <td>Haci'nin Yeri - Yigit Lokantasi</td>\n",
       "      <td>Orhan Kapu</td>\n",
       "      <td>Turkey's cheapest artisan restaurant and its f...</td>\n",
       "      <td>dataset/indoor_atmosphere/hacinin_yeri_orhan_k...</td>\n",
       "      <td>5</td>\n",
       "      <td>indoor_atmosphere</td>\n",
       "    </tr>\n",
       "    <tr>\n",
       "      <th>4</th>\n",
       "      <td>Haci'nin Yeri - Yigit Lokantasi</td>\n",
       "      <td>Ozgur Sati</td>\n",
       "      <td>I don't know what you will look for in terms o...</td>\n",
       "      <td>dataset/menu/hacinin_yeri_ozgur_sati.png</td>\n",
       "      <td>3</td>\n",
       "      <td>menu</td>\n",
       "    </tr>\n",
       "    <tr>\n",
       "      <th>...</th>\n",
       "      <td>...</td>\n",
       "      <td>...</td>\n",
       "      <td>...</td>\n",
       "      <td>...</td>\n",
       "      <td>...</td>\n",
       "      <td>...</td>\n",
       "    </tr>\n",
       "    <tr>\n",
       "      <th>1095</th>\n",
       "      <td>Miss Pizza</td>\n",
       "      <td>Salih Gursoy</td>\n",
       "      <td>There are so many types of pizza; you are surp...</td>\n",
       "      <td>dataset/taste/miss_pizza_salih_gursoy.png</td>\n",
       "      <td>5</td>\n",
       "      <td>taste</td>\n",
       "    </tr>\n",
       "    <tr>\n",
       "      <th>1096</th>\n",
       "      <td>Miss Pizza</td>\n",
       "      <td>Kemal Amangeldi</td>\n",
       "      <td>I tried the smoked ribeye pizza; the dough is ...</td>\n",
       "      <td>dataset/indoor_atmosphere/miss_pizza_kemal_ama...</td>\n",
       "      <td>5</td>\n",
       "      <td>indoor_atmosphere</td>\n",
       "    </tr>\n",
       "    <tr>\n",
       "      <th>1097</th>\n",
       "      <td>Miss Pizza</td>\n",
       "      <td>Ulkem Esen</td>\n",
       "      <td>Crowded and expensive place.</td>\n",
       "      <td>dataset/menu/miss_pizza_ulkem_esen.png</td>\n",
       "      <td>3</td>\n",
       "      <td>menu</td>\n",
       "    </tr>\n",
       "    <tr>\n",
       "      <th>1098</th>\n",
       "      <td>Miss Pizza</td>\n",
       "      <td>Ilkin Saymaz</td>\n",
       "      <td>No bad. It was very crowded; there was no ligh...</td>\n",
       "      <td>dataset/taste/miss_pizza_ilkin_saymaz.png</td>\n",
       "      <td>3</td>\n",
       "      <td>taste</td>\n",
       "    </tr>\n",
       "    <tr>\n",
       "      <th>1099</th>\n",
       "      <td>Miss Pizza</td>\n",
       "      <td>Samet Selcuk</td>\n",
       "      <td>Excellent pizza and fine wine. Both food and b...</td>\n",
       "      <td>dataset/outdoor_atmosphere/miss_pizza_samet_se...</td>\n",
       "      <td>4</td>\n",
       "      <td>outdoor_atmosphere</td>\n",
       "    </tr>\n",
       "  </tbody>\n",
       "</table>\n",
       "<p>1100 rows × 6 columns</p>\n",
       "</div>"
      ],
      "text/plain": [
       "                        business_name      author_name  \\\n",
       "0     Haci'nin Yeri - Yigit Lokantasi      Gulsum Akar   \n",
       "1     Haci'nin Yeri - Yigit Lokantasi    Oguzhan Cetin   \n",
       "2     Haci'nin Yeri - Yigit Lokantasi       Yasin Kuyu   \n",
       "3     Haci'nin Yeri - Yigit Lokantasi       Orhan Kapu   \n",
       "4     Haci'nin Yeri - Yigit Lokantasi       Ozgur Sati   \n",
       "...                               ...              ...   \n",
       "1095                       Miss Pizza     Salih Gursoy   \n",
       "1096                       Miss Pizza  Kemal Amangeldi   \n",
       "1097                       Miss Pizza       Ulkem Esen   \n",
       "1098                       Miss Pizza     Ilkin Saymaz   \n",
       "1099                       Miss Pizza     Samet Selcuk   \n",
       "\n",
       "                                                   text  \\\n",
       "0     We went to Marmaris with my wife for a holiday...   \n",
       "1     During my holiday in Marmaris we ate here to f...   \n",
       "2     Prices are very affordable. The menu in the ph...   \n",
       "3     Turkey's cheapest artisan restaurant and its f...   \n",
       "4     I don't know what you will look for in terms o...   \n",
       "...                                                 ...   \n",
       "1095  There are so many types of pizza; you are surp...   \n",
       "1096  I tried the smoked ribeye pizza; the dough is ...   \n",
       "1097                       Crowded and expensive place.   \n",
       "1098  No bad. It was very crowded; there was no ligh...   \n",
       "1099  Excellent pizza and fine wine. Both food and b...   \n",
       "\n",
       "                                                  photo  rating  \\\n",
       "0            dataset/taste/hacinin_yeri_gulsum_akar.png       5   \n",
       "1           dataset/menu/hacinin_yeri_oguzhan_cetin.png       4   \n",
       "2     dataset/outdoor_atmosphere/hacinin_yeri_yasin_...       3   \n",
       "3     dataset/indoor_atmosphere/hacinin_yeri_orhan_k...       5   \n",
       "4              dataset/menu/hacinin_yeri_ozgur_sati.png       3   \n",
       "...                                                 ...     ...   \n",
       "1095          dataset/taste/miss_pizza_salih_gursoy.png       5   \n",
       "1096  dataset/indoor_atmosphere/miss_pizza_kemal_ama...       5   \n",
       "1097             dataset/menu/miss_pizza_ulkem_esen.png       3   \n",
       "1098          dataset/taste/miss_pizza_ilkin_saymaz.png       3   \n",
       "1099  dataset/outdoor_atmosphere/miss_pizza_samet_se...       4   \n",
       "\n",
       "         rating_category  \n",
       "0                  taste  \n",
       "1                   menu  \n",
       "2     outdoor_atmosphere  \n",
       "3      indoor_atmosphere  \n",
       "4                   menu  \n",
       "...                  ...  \n",
       "1095               taste  \n",
       "1096   indoor_atmosphere  \n",
       "1097                menu  \n",
       "1098               taste  \n",
       "1099  outdoor_atmosphere  \n",
       "\n",
       "[1100 rows x 6 columns]"
      ]
     },
     "execution_count": 3,
     "metadata": {},
     "output_type": "execute_result"
    }
   ],
   "source": [
    "df"
   ]
  },
  {
   "cell_type": "code",
   "execution_count": 4,
   "id": "c25fab6a-d62d-43f2-819e-a1f56fef30c7",
   "metadata": {
    "tags": []
   },
   "outputs": [
    {
     "name": "stdout",
     "output_type": "stream",
     "text": [
      "The average number of characters in the 'text' column is: 110.84\n"
     ]
    }
   ],
   "source": [
    "# Calculate average number of characters in text column \n",
    "average_chars = df['text'].apply(len).mean()\n",
    "print(f\"The average number of characters in the 'text' column is: {average_chars:.2f}\")"
   ]
  },
  {
   "cell_type": "code",
   "execution_count": 5,
   "id": "848eb7eb-1ab0-42b4-8fef-d460e46e7000",
   "metadata": {
    "tags": []
   },
   "outputs": [],
   "source": [
    "# This data is too short to test the model, which is trained on longer texts "
   ]
  },
  {
   "cell_type": "code",
   "execution_count": null,
   "id": "2f428e63-2309-4f42-bc14-3a7c92bfd30e",
   "metadata": {},
   "outputs": [],
   "source": []
  }
 ],
 "metadata": {
  "kernelspec": {
   "display_name": "Python 3 (ipykernel)",
   "language": "python",
   "name": "python3"
  },
  "language_info": {
   "codemirror_mode": {
    "name": "ipython",
    "version": 3
   },
   "file_extension": ".py",
   "mimetype": "text/x-python",
   "name": "python",
   "nbconvert_exporter": "python",
   "pygments_lexer": "ipython3",
   "version": "3.11.5"
  }
 },
 "nbformat": 4,
 "nbformat_minor": 5
}
